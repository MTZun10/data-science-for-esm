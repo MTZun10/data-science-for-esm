{
 "cells": [
  {
   "cell_type": "markdown",
   "id": "47098e73-2dbb-4b9d-8abf-c2de66e1f264",
   "metadata": {},
   "source": [
    "# Introduction to `linopy`"
   ]
  },
  {
   "cell_type": "markdown",
   "id": "cdd93543-0b5c-4e03-adc5-5c9d44c7774a",
   "metadata": {},
   "source": [
    ":::{note}\n",
    "This material is in part adapted from the following resources:\n",
    "- [Linopy Getting Started](https://linopy.readthedocs.io/en/latest/index.html)\n",
    "- [PyPSA simple electricity market examples](https://pypsa.readthedocs.io/en/latest/examples/simple-electricity-market-examples.html)\n",
    ":::\n",
    "\n",
    "<img src=\"https://github.com/PyPSA/linopy/blob/master/doc/logo.png?raw=true\" width=\"300px\" />\n",
    "\n",
    "[Linopy](https://linopy.readthedocs.io/en/latest/index.html)  is an open-source framework for formulating, solving, and analyzing optimization problems with Python.\n",
    "\n",
    "With Linopy, you can create optimization models within Python that consist of decision variables, constraints, and optimization objectives. You can then solve these instances using a variety of commercial and open-source solvers (specialised software).\n",
    "\n",
    "[Linopy](https://linopy.readthedocs.io/en/latest/index.html) supports a wide range of problem types, including:\n",
    "\n",
    "- **Linear programming**\n",
    "- Integer programming\n",
    "- Mixed-integer programming\n",
    "- Quadratic programming\n",
    "\n",
    "\n",
    ":::{note}\n",
    "Documentation for this package is available at https://linopy.readthedocs.io.\n",
    ":::"
   ]
  },
  {
   "cell_type": "markdown",
   "id": "e6221514-355e-40eb-9194-b9026add6e40",
   "metadata": {},
   "source": [
    ":::{note}\n",
    "If you have not yet set up Python on your computer, you can execute this tutorial in your browser via [Google Colab](https://colab.research.google.com/). Click on the rocket in the top right corner and launch \"Colab\". If that doesn't work download the `.ipynb` file and import it in [Google Colab](https://colab.research.google.com/).\n",
    "\n",
    "Then install the following packages by executing the following command in a Jupyter cell at the top of the notebook.\n",
    "\n",
    "```sh\n",
    "!pip install pandas linopy highspy\n",
    "```\n",
    ":::"
   ]
  },
  {
   "cell_type": "markdown",
   "id": "72fb5873-a86d-45e4-9c85-eca1b96d1da6",
   "metadata": {},
   "source": [
    "## Solve a Basic Model\n",
    "\n",
    "In this example, we explain the basic functions of the linopy Model class. First, we are setting up a very simple linear optimization model, given by\n",
    "\n",
    "Minimize:\n",
    "    $$x + 2y$$\n",
    "subject to:\n",
    "    $$ x \\ge 0 $$\n",
    "    $$y \\ge 0 $$\n",
    "    $$3x + 7y \\ge 10 $$\n",
    "    $$5x + 2y \\ge 3 $$"
   ]
  },
  {
   "cell_type": "markdown",
   "id": "cc582211-9363-4107-932c-48c9c2279535",
   "metadata": {},
   "source": [
    "### Initializing a `Model`\n",
    "\n",
    "The Model class in Linopy is a fundamental part of the library. It serves as a container for all the relevant data associated with a linear optimization problem. This includes variables, constraints, and the objective function."
   ]
  },
  {
   "cell_type": "code",
   "execution_count": null,
   "id": "d94292b1-8073-49a8-a2e9-a2c769145b2d",
   "metadata": {},
   "outputs": [],
   "source": [
    "import linopy\n",
    "\n",
    "m = linopy.Model()"
   ]
  },
  {
   "cell_type": "markdown",
   "id": "bf2b2258-f0f3-4118-ac39-6d902e1d61e3",
   "metadata": {},
   "source": [
    "This creates a new Model object, which you can then use to define your optimization problem."
   ]
  },
  {
   "cell_type": "markdown",
   "id": "4844ce4c-4ba6-4dec-957a-69dce93c07f0",
   "metadata": {},
   "source": [
    "### Adding variables\n",
    "\n",
    "Variables in a linear optimization problem represent the decision variables. A variable can always be assigned with a lower and an upper bound. In our case, both `x` and `y` have a lower bound of zero (default is unbouded). In Linopy, you can add variables to a Model using the `add_variables` method:"
   ]
  },
  {
   "cell_type": "code",
   "execution_count": null,
   "id": "64b35f1c-5398-4eb3-9135-aafce270b79b",
   "metadata": {},
   "outputs": [],
   "source": [
    "x = m.add_variables(lower=0, name=\"x\")\n",
    "y = m.add_variables(lower=0, name=\"y\");"
   ]
  },
  {
   "cell_type": "markdown",
   "id": "57bd1e94-7ead-4c86-a590-f2c2998b5f92",
   "metadata": {},
   "source": [
    "`x` and `y` are linopy variables of the class `linopy.Variable`. Each of them contain all relevant information that define it. The `name` parameter is optional but can be useful for referencing the variables later."
   ]
  },
  {
   "cell_type": "code",
   "execution_count": null,
   "id": "19d4b5f5-b9ae-48f6-8ce6-cd4a418dba6b",
   "metadata": {},
   "outputs": [],
   "source": [
    "x"
   ]
  },
  {
   "cell_type": "markdown",
   "id": "d07cc8d8-1ea6-47e2-9b84-5326948a602b",
   "metadata": {},
   "source": [
    "### Adding Constraints\n",
    "\n",
    "Constraints define the feasible region of the optimization problem. They consist of the left hand side (lhs) and the right hand side (rhs). The first constraint that we want to write down is $3x + 7y = 10$ which we write out exactly in the mathematical way:"
   ]
  },
  {
   "cell_type": "code",
   "execution_count": null,
   "id": "1df4589f-4c99-46b5-a530-63f99b4515cc",
   "metadata": {},
   "outputs": [],
   "source": [
    "3 * x + 7 * y >= 10"
   ]
  },
  {
   "cell_type": "markdown",
   "id": "2b7ddd9a-8601-4a06-9d40-b8760651bd2a",
   "metadata": {},
   "source": [
    "Note, we can also mix the constant and the variable expression, like this"
   ]
  },
  {
   "cell_type": "code",
   "execution_count": null,
   "id": "688e0f65-9198-49b2-915a-2131084224c1",
   "metadata": {},
   "outputs": [],
   "source": [
    "3 * x + 7 * y - 10 >= 0"
   ]
  },
  {
   "cell_type": "markdown",
   "id": "a45ca5fa-0696-4688-a1e2-16c8eb06644b",
   "metadata": {},
   "source": [
    "… and linopy will automatically take over the separation of variables expression on the lhs, and constant values on the rhs."
   ]
  },
  {
   "cell_type": "markdown",
   "id": "f18d18a3-671f-4190-9257-4541e6c88c61",
   "metadata": {},
   "source": [
    "The constraint is currently not assigned to the model. We assign it by calling the function `m.add_constraints`"
   ]
  },
  {
   "cell_type": "code",
   "execution_count": null,
   "id": "fa233f5c-38ec-4a5a-9008-502932df968d",
   "metadata": {},
   "outputs": [],
   "source": [
    "m.add_constraints(3 * x + 7 * y >= 10)\n",
    "m.add_constraints(5 * x + 2 * y >= 3);"
   ]
  },
  {
   "cell_type": "markdown",
   "id": "f7fc48a8-ab7e-4baf-93d2-ff907e543db1",
   "metadata": {},
   "source": [
    "### Adding the Objective \n",
    "\n",
    "The objective function defines what you want to optimize. You can set the objective function of a Model in Linopy using the add_objective method. For our example that would be"
   ]
  },
  {
   "cell_type": "code",
   "execution_count": null,
   "id": "18c6e6ce-37f9-4527-83a4-e5764b67b34c",
   "metadata": {},
   "outputs": [],
   "source": [
    "m.add_objective(x + 2 * y, sense=\"min\")"
   ]
  },
  {
   "cell_type": "markdown",
   "id": "014ba3b0-afa4-46bf-a84a-0553eef830a5",
   "metadata": {},
   "source": [
    "Note, we can either minimize or maximize in Linopy. Per default, Linopy applies `sense='min'` making it not necessary to explicitly define the optimization sense."
   ]
  },
  {
   "cell_type": "markdown",
   "id": "b8ec9c21-de8c-40a1-8d30-2e3ee3f6d7ed",
   "metadata": {},
   "source": [
    "### Solving the Model\n",
    "\n",
    "Once you've defined your Model with variables, constraints, and an objective function, you can solve it using the `solve` method:"
   ]
  },
  {
   "cell_type": "code",
   "execution_count": null,
   "id": "712a0033-d027-478a-b8f2-201ec4ed1cc1",
   "metadata": {},
   "outputs": [],
   "source": [
    "m.solve()"
   ]
  },
  {
   "cell_type": "markdown",
   "id": "ca69649b-0fa6-4ca6-a557-8eb913895b19",
   "metadata": {},
   "source": [
    "The solution of the linear problem assigned to the variables under `solution` in form of a `xarray.Dataset`."
   ]
  },
  {
   "cell_type": "code",
   "execution_count": null,
   "id": "1f28aa81-d16f-4b7e-9d8e-f661d4b8bcd8",
   "metadata": {},
   "outputs": [],
   "source": [
    "x.solution"
   ]
  },
  {
   "cell_type": "code",
   "execution_count": null,
   "id": "470e2d25-9386-438d-932e-113464907726",
   "metadata": {},
   "outputs": [],
   "source": [
    "y.solution"
   ]
  },
  {
   "cell_type": "markdown",
   "id": "34b0c100-b354-4e8c-8043-a45bfa78b999",
   "metadata": {},
   "source": [
    "Well done! You solved your first linopy model!"
   ]
  },
  {
   "cell_type": "markdown",
   "id": "8d87cf68-8655-4f04-b87c-ab1e670f2884",
   "metadata": {},
   "source": [
    "## Use Coordinates\n",
    "\n",
    "Now, the real power of the package comes into play! \n",
    "\n",
    "Linopy is structured around the concept that variables, and therefore expressions and constraints, have coordinates. That is, a `Variable` object actually contains multiple variables across dimensions, just as we know it from a `numpy` array or a `pandas.DataFrame`.\n",
    "\n",
    "Suppose the two variables `x` and `y` are now functions of time `t` and we would modify the problem according to: "
   ]
  },
  {
   "cell_type": "markdown",
   "id": "d40eb0b9-35ef-4867-b57c-dfca3b0da66c",
   "metadata": {},
   "source": [
    "Minimize:\n",
    "$$\\sum_t x_t + 2 y_t$$\n",
    "\n",
    "subject to:\n",
    "\n",
    "$$x_t \\ge 0 \\qquad \\forall t $$\n",
    "$$y_t \\ge 0 \\qquad \\forall t $$\n",
    "$$3x_t + 7y_t \\ge 10 t \\qquad \\forall t$$\n",
    "$$5x_t + 2y_t \\ge 3 t \\qquad \\forall t$$\n",
    "\n",
    "whereas `t` spans all the range from 0 to 10."
   ]
  },
  {
   "cell_type": "markdown",
   "id": "53c08a98-05aa-4c0b-a046-1d16215ce382",
   "metadata": {},
   "source": [
    "In order to formulate the new problem with linopy, we start again by initializing a model."
   ]
  },
  {
   "cell_type": "code",
   "execution_count": null,
   "id": "788956e7-1bc9-4298-85a1-9235486b8cad",
   "metadata": {},
   "outputs": [],
   "source": [
    "m = linopy.Model()"
   ]
  },
  {
   "cell_type": "markdown",
   "id": "9cf08174-0d0a-473c-8ee2-7799958aef0b",
   "metadata": {},
   "source": [
    "Again, we define `x` and `y` using the `add_variables` function, but now we are adding a `coords` argument. This automatically creates optimization variables for all coordinates, in this case time-steps."
   ]
  },
  {
   "cell_type": "code",
   "execution_count": null,
   "id": "d477e41c-a89f-4d3b-a1af-385820638a75",
   "metadata": {},
   "outputs": [],
   "source": [
    "import pandas as pd\n",
    "\n",
    "time = pd.Index(range(10), name=\"time\")\n",
    "\n",
    "x = m.add_variables(\n",
    "    lower=0,\n",
    "    coords=[time],\n",
    "    name=\"x\",\n",
    ")\n",
    "y = m.add_variables(lower=0, coords=[time], name=\"y\")"
   ]
  },
  {
   "cell_type": "markdown",
   "id": "32dfa7f0-3f35-466d-8669-6134ca18a26d",
   "metadata": {},
   "source": [
    "Following the previous example, we write the constraints out using the syntax from above, while multiplying the rhs with `t`. Note that the coordinates from the lhs and the rhs have to match. \n",
    "\n",
    ".. note::\n",
    "    In the beginning, it is recommended to use explicit dimension names. Like that, things remain clear and no unexpected broadcasting (which we show later) will happen. "
   ]
  },
  {
   "cell_type": "code",
   "execution_count": null,
   "id": "00a64dec-26a5-4f80-97c0-de0fe00188a2",
   "metadata": {},
   "outputs": [],
   "source": [
    "factor = pd.Series(time, index=time)\n",
    "\n",
    "3 * x + 7 * y >= 10 * factor"
   ]
  },
  {
   "cell_type": "markdown",
   "id": "946c5674-d5f5-4b78-97d3-337e6de10f73",
   "metadata": {},
   "source": [
    "It always helps to write out the constraints before adding them to the model. Since they look good, let's assign them."
   ]
  },
  {
   "cell_type": "code",
   "execution_count": null,
   "id": "8d3a89e8-0b0e-480d-9cb8-f29931fb3559",
   "metadata": {},
   "outputs": [],
   "source": [
    "con1 = m.add_constraints(3 * x + 7 * y >= 10 * factor, name=\"con1\")\n",
    "con2 = m.add_constraints(5 * x + 2 * y >= 3 * factor, name=\"con2\")\n",
    "m"
   ]
  },
  {
   "cell_type": "markdown",
   "id": "ff3e5770-383f-4011-aed7-7de526e69c7c",
   "metadata": {},
   "source": [
    "Now, when it comes to the objective, we use the `sum` function of `linopy.LinearExpression`. This stacks all terms all terms of the `time` dimension and writes them into one big expression. "
   ]
  },
  {
   "cell_type": "code",
   "execution_count": null,
   "id": "9cbf16b4-99ed-4e33-9ea9-e8eff3503b05",
   "metadata": {},
   "outputs": [],
   "source": [
    "obj = (x + 2 * y).sum()\n",
    "m.add_objective(obj)"
   ]
  },
  {
   "cell_type": "code",
   "execution_count": null,
   "id": "37da40ed-71f5-4c3c-825b-26e0e2da46e2",
   "metadata": {},
   "outputs": [],
   "source": [
    "m.solve()"
   ]
  },
  {
   "cell_type": "markdown",
   "id": "a5f4769a-98d0-446f-81cf-b41d7c4063e2",
   "metadata": {},
   "source": [
    "In order to inspect the solution. You can go via the variables, i.e. `y.solution` or via the `solution` aggregator of the model, which combines the solution of all variables. This can sometimes be helpful."
   ]
  },
  {
   "cell_type": "code",
   "execution_count": null,
   "id": "33cdfad9-0ff3-4211-afaf-b0e27fa33d5a",
   "metadata": {},
   "outputs": [],
   "source": [
    "m.solution.to_dataframe().plot(grid=True, ylabel=\"Optimal Value\");"
   ]
  },
  {
   "cell_type": "markdown",
   "id": "603aa77f-4a13-4e02-bf0c-196e3cdfcbf0",
   "metadata": {},
   "source": [
    "Alright! Now you learned how to set up linopy variables and expressions with coordinates. For more advanced `linopy` operations you can check out the [User Guide](https://linopy.readthedocs.io/en/latest/user-guide.html)."
   ]
  },
  {
   "cell_type": "markdown",
   "id": "f520ffce-6783-4c89-81f8-cc0c7822439c",
   "metadata": {},
   "source": [
    "## Electricity Market Examples"
   ]
  },
  {
   "cell_type": "markdown",
   "id": "b1bc668c-c37c-4939-8890-d4e945ba2739",
   "metadata": {},
   "source": [
    "### Single bidding zone, single period"
   ]
  },
  {
   "cell_type": "markdown",
   "id": "a2459e7a-d740-45dd-a834-bc098a5825cb",
   "metadata": {},
   "source": [
    "We want to minimise operational cost of an example electricity system representing South Africa subject to generator limits and meeting the load:\n",
    "\n",
    "\\begin{equation}\n",
    "    \\min_{g_s} \\sum_s o_s g_s\n",
    "  \\end{equation}\n",
    "  such that\n",
    "  \\begin{align}\n",
    "    g_s &\\leq G_s \\\\\n",
    "    g_s &\\geq 0 \\\\\n",
    "    \\sum_s g_s &= d\n",
    "  \\end{align}"
   ]
  },
  {
   "cell_type": "markdown",
   "id": "b5c0cb03-aa1b-47f0-92d7-b98fea75bc4d",
   "metadata": {},
   "source": [
    "We are given the following information on the South African electricity system:"
   ]
  },
  {
   "cell_type": "markdown",
   "id": "816b7ed4-fac6-45ee-8991-1057416f0983",
   "metadata": {},
   "source": [
    "Marginal costs in EUR/MWh"
   ]
  },
  {
   "cell_type": "code",
   "execution_count": null,
   "id": "30a08a5c-a63c-4c0e-9ec0-8fbbd2e26dbb",
   "metadata": {},
   "outputs": [],
   "source": [
    "marginals_df = pd.DataFrame(\n",
    "    {\"Generator\": [\"Wind\", \"Coal\", \"Gas\", \"Oil\"], \"MarginalCost\": [0, 30, 60, 80]}\n",
    ")"
   ]
  },
  {
   "cell_type": "markdown",
   "id": "42b0c6e8-6699-4d9c-a958-727283e4ca0a",
   "metadata": {},
   "source": [
    "Power plant capacities in MW"
   ]
  },
  {
   "cell_type": "code",
   "execution_count": null,
   "id": "5864cf82-59bb-4ec2-9767-4739fd675637",
   "metadata": {},
   "outputs": [],
   "source": [
    "capacities_df = pd.DataFrame(\n",
    "    {\"Generator\": [\"Wind\", \"Coal\", \"Gas\", \"Oil\"], \"Capacity\": [3000, 35000, 8000, 2000]}\n",
    ")"
   ]
  },
  {
   "cell_type": "markdown",
   "id": "fc235ee5-d77f-4c68-bfb8-85048393590e",
   "metadata": {},
   "source": [
    "Inelastic demand in MW"
   ]
  },
  {
   "cell_type": "code",
   "execution_count": null,
   "id": "9b018aa6-715e-4319-ae83-ce7a0fd3d890",
   "metadata": {},
   "outputs": [],
   "source": [
    "load = 42000"
   ]
  },
  {
   "cell_type": "markdown",
   "id": "b7177f81-88e0-42a0-afe1-64360856a2de",
   "metadata": {},
   "source": [
    "We now start building the model"
   ]
  },
  {
   "cell_type": "code",
   "execution_count": null,
   "id": "89d61ab1-078b-406d-b9db-1a6377843c79",
   "metadata": {},
   "outputs": [],
   "source": [
    "m = linopy.Model()"
   ]
  },
  {
   "cell_type": "markdown",
   "id": "aa66cf86-9836-421f-b507-343adc2d5c38",
   "metadata": {},
   "source": [
    "Let's define the dispatch variables `g` with the `lower` and `upper` bound:\n",
    "$$g_s \\leq G_s $$\n",
    "$$g_s \\geq 0 $$"
   ]
  },
  {
   "cell_type": "code",
   "execution_count": null,
   "id": "cd87f66b-e2f0-4676-966b-51c2f180efb1",
   "metadata": {},
   "outputs": [],
   "source": [
    "g = m.add_variables(\n",
    "    lower=0, upper=capacities_df.Capacity, coords=[capacities_df.Generator], name=\"g\"\n",
    ")\n",
    "g"
   ]
  },
  {
   "cell_type": "markdown",
   "id": "7eceb706-c0b4-490e-ad65-e335793d4a68",
   "metadata": {},
   "source": [
    "And and the objective:\n",
    "$$\\min_{g_s} \\sum_s o_s g_s$$"
   ]
  },
  {
   "cell_type": "code",
   "execution_count": null,
   "id": "55cfe8c4-9816-4375-8979-a136219a96fa",
   "metadata": {},
   "outputs": [],
   "source": [
    "m.add_objective(marginals_df.MarginalCost.values * g, sense=\"min\")\n",
    "m.objective"
   ]
  },
  {
   "cell_type": "markdown",
   "id": "61dfa4ce-d028-463e-a812-66e79ffb798b",
   "metadata": {},
   "source": [
    "Which is subject to: \n",
    "\n",
    "$$\\sum_s g_s = d$$"
   ]
  },
  {
   "cell_type": "code",
   "execution_count": null,
   "id": "c37f66f5-fce5-4e54-a122-56b992ed2f95",
   "metadata": {},
   "outputs": [],
   "source": [
    "m.add_constraints(g.sum() == load, name=\"energy_balance\")"
   ]
  },
  {
   "cell_type": "markdown",
   "id": "36ad37d3-5cbb-4097-9f9f-0440832359fa",
   "metadata": {},
   "source": [
    "It always helps to write out the constraints before adding them to the model. Since they look good, let’s assign them."
   ]
  },
  {
   "cell_type": "code",
   "execution_count": null,
   "id": "1bd321b2-760f-48e4-b734-1c73daaf520d",
   "metadata": {},
   "outputs": [],
   "source": [
    "m.solve()"
   ]
  },
  {
   "cell_type": "markdown",
   "id": "f00e76dd-6831-469e-8a5c-f797a6b7b39c",
   "metadata": {},
   "source": [
    "This is the optimimal generator dispatch (MW)"
   ]
  },
  {
   "cell_type": "code",
   "execution_count": null,
   "id": "876e38fd-008a-4717-ab3b-0aadac8d41bc",
   "metadata": {},
   "outputs": [],
   "source": [
    "m.solution.to_dataframe()"
   ]
  },
  {
   "cell_type": "markdown",
   "id": "f77acf05-cf1e-48be-9318-4f4b33efa113",
   "metadata": {},
   "source": [
    "And the market clearing price we can read from the shadow price of the energy balance constraint (i.e. the added cost of increasing electricity demand by one unit):"
   ]
  },
  {
   "cell_type": "code",
   "execution_count": null,
   "id": "a5870398-3420-4443-aed4-ce407ea3ad2d",
   "metadata": {},
   "outputs": [],
   "source": [
    "m.dual[\"energy_balance\"].item()"
   ]
  },
  {
   "cell_type": "markdown",
   "id": "5cc105a5-7df0-4b76-90b7-85d8bafa2121",
   "metadata": {},
   "source": [
    "### Two bidding zones with transmission"
   ]
  },
  {
   "cell_type": "markdown",
   "id": "b1c5e8dc-21fd-4961-a2c5-4b6dae862efe",
   "metadata": {},
   "source": [
    "Let's add a spatial dimension, such that the optimisation problem is expanded to\n",
    "\\begin{equation}\n",
    "  \\min_{g_{i,s}, f_\\ell} \\sum_s o_{i,s} g_{i,s}\n",
    "\\end{equation}\n",
    "such that\n",
    "\\begin{align}\n",
    "  g_{i,s} &\\leq G_{i,s} \\\\\n",
    "  g_{i,s} &\\geq 0 \\\\\n",
    "  \\sum_s g_{i,s} - \\sum_\\ell K_{i\\ell} f_\\ell &= d_i & \\text{KCL} \\\\\n",
    "  |f_\\ell| &\\leq F_\\ell & \\text{line limits}  \\\\\n",
    "  \\sum_\\ell C_{\\ell c} x_\\ell f_\\ell &= 0 & \\text{KVL} \n",
    "\\end{align}\n",
    "\n",
    "In this example, we connect the previous South African electricity system with a hydro generation unit in Mozambique through a single transmission line. Note that because a single transmission line will not result in any cycles, we can neglect KVL in this case.\n",
    "\n",
    "We are given the following data (all in MW):"
   ]
  },
  {
   "cell_type": "code",
   "execution_count": null,
   "id": "3d4c35e0-df8d-4fdb-a866-f702d3f238c3",
   "metadata": {},
   "outputs": [],
   "source": [
    "generators = [\"Coal\", \"Wind\", \"Gas\", \"Oil\", \"Hydro\"]\n",
    "countries = [\"South Africa\", \"Mozambique\"]\n",
    "\n",
    "capacities_df = pd.DataFrame(\n",
    "    {\n",
    "        \"Coal\": [35000, 0],\n",
    "        \"Wind\": [3000, 0],\n",
    "        \"Gas\": [8000, 0],\n",
    "        \"Oil\": [2000, 0],\n",
    "        \"Hydro\": [0, 1200],\n",
    "    },\n",
    "    index=countries,\n",
    ")\n",
    "\n",
    "marginal_df = pd.DataFrame({\"MarginalCost\": [30, 0, 60, 80, 0]}, index=generators)\n",
    "\n",
    "loads_df = pd.DataFrame({\"Load\": [42000, 650]}, index=countries)\n",
    "\n",
    "transmission = 500"
   ]
  },
  {
   "cell_type": "markdown",
   "id": "e46e0a36-486f-48a9-be71-647208aaa1f5",
   "metadata": {},
   "source": [
    "Let's start with a new model instance"
   ]
  },
  {
   "cell_type": "code",
   "execution_count": null,
   "id": "d2996e54-fd7e-4c99-b52d-02ec6c4ec2f1",
   "metadata": {},
   "outputs": [],
   "source": [
    "m = linopy.Model()"
   ]
  },
  {
   "cell_type": "markdown",
   "id": "436d75a0-8257-4c94-ae18-4462b899fbf5",
   "metadata": {},
   "source": [
    "Now we create dispatch variables, as before, with the `upper` and `lower` bound for each countries and generators only when the `upper` is greater than 0."
   ]
  },
  {
   "cell_type": "code",
   "execution_count": null,
   "id": "d17e79ae-07ec-40d8-9833-275b79542217",
   "metadata": {},
   "outputs": [],
   "source": [
    "for country in countries:\n",
    "    for generator in generators:\n",
    "        upper_bound = capacities_df.loc[country, generator]\n",
    "        if upper_bound > 0:\n",
    "            var_name = f\"g_{generator}_{country}\"\n",
    "            m.add_variables(lower=0, upper=upper_bound, name=var_name)"
   ]
  },
  {
   "cell_type": "markdown",
   "id": "2533fe5a-79f6-4147-8b75-78213d172db2",
   "metadata": {},
   "source": [
    "We als need an additional variable for the flow."
   ]
  },
  {
   "cell_type": "code",
   "execution_count": null,
   "id": "44d964fb-df92-410d-8465-cb134a0e8f9e",
   "metadata": {},
   "outputs": [],
   "source": [
    "m.add_variables(name=\"line_limit\")"
   ]
  },
  {
   "cell_type": "markdown",
   "id": "f24c3c2a-f6f9-4cfd-9732-ecfab10bcb48",
   "metadata": {},
   "source": [
    "The objective can be written as:\n",
    "$$\\min_{g_{i,s}, f_\\ell} \\sum_s o_{i,s} g_{i,s}$$"
   ]
  }
 ],
 "metadata": {
  "kernelspec": {
   "display_name": "",
   "language": "python",
   "name": ""
  },
  "language_info": {
   "codemirror_mode": {
    "name": "ipython",
    "version": 3
   },
   "file_extension": ".py",
   "mimetype": "text/x-python",
   "name": "python",
   "nbconvert_exporter": "python",
   "pygments_lexer": "ipython3",
   "version": "3.10.12"
  }
 },
 "nbformat": 4,
 "nbformat_minor": 5
}
