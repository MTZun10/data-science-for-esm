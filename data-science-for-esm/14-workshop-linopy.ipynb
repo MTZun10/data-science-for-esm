{
 "cells": [
  {
   "cell_type": "markdown",
   "id": "47098e73-2dbb-4b9d-8abf-c2de66e1f264",
   "metadata": {},
   "source": [
    "# Introduction to `linopy`"
   ]
  },
  {
   "cell_type": "markdown",
   "id": "cdd93543-0b5c-4e03-adc5-5c9d44c7774a",
   "metadata": {},
   "source": [
    ":::{note}\n",
    "This material is in part adapted from the following resources:\n",
    "- [Linopy Tutorial](https://linopy.readthedocs.io/en/latest/index.html)\n",
    "- [PyPSA simple electricity market examples](https://pypsa.readthedocs.io/en/latest/examples/simple-electricity-market-examples.html)\n",
    ":::\n",
    "\n",
    "\n",
    "\n",
    "[Linopy](https://linopy.readthedocs.io/en/latest/index.html)  is an open-source framework for formulating, solving, and analyzing optimization problems with Python.\n",
    "\n",
    "With Linopy, you can create an optimization model within Python that consists of decision variables, constraints, and an optimization objective. You can then solve these instances using a variety of commerci and open-source solvers (specialised software).\n",
    "\n",
    "[Linopy](https://linopy.readthedocs.io/en/latest/index.html) supports a wide range of problem types, including:\n",
    "\n",
    "- **Linear programming**\n",
    "- Quadratic programmingng\n",
    "- Nonlinear programming\n",
    "- Mixed-integer linear programming\n",
    "- Mixed-integer quadratic programming\n",
    "- Mixed-integer nonlinear programming\n",
    "- Stochastic programming\n",
    "- Generalized disjunctive programming\n",
    "- Differential algebraic equations\n",
    "- Bilevel programmin- Mathematical programs with equilibrium constraints\n",
    "\n",
    "\n",
    ":::{note}\n",
    "Documentation for this package is available at https://linopy.readthedocs.io/en/latest/index.html.\n",
    ":::.\n",
    ":::"
   ]
  },
  {
   "cell_type": "markdown",
   "id": "e6221514-355e-40eb-9194-b9026add6e40",
   "metadata": {},
   "source": [
    ":::{note}\n",
    "If you have not yet set up Python on your computer, you can execute this tutorial in your browser via [Google Colab](https://colab.research.google.com/). Click on the rocket in the top right corner and launch \"Colab\". If that doesn't work download the `.ipynb` file and import it in [Google Colab](https://colab.research.google.com/).\n",
    "\n",
    "Then install the following packages by executing the following command in a Jupyter cell at the top of the notebook.\n",
    "\n",
    "```sh\n",
    "!pip install pandas pyomo highspy\n",
    "```\n",
    ":::"
   ]
  },
  {
   "cell_type": "markdown",
   "id": "cc582211-9363-4107-932c-48c9c2279535",
   "metadata": {},
   "source": [
    "### Initializing a `Model`\n",
    "\n",
    "The Model class in Linopy is a fundamental part of the library. It serves as a container for all the relevant data associated with a linear optimization problem. This includes variables, constraints, and the objective function."
   ]
  },
  {
   "cell_type": "code",
   "execution_count": null,
   "id": "7cd9637d",
   "metadata": {},
   "outputs": [],
   "source": [
    "import pandas as pd\n",
    "import numpy as np\n",
    "\n",
    "import xarray as xr"
   ]
  },
  {
   "cell_type": "code",
   "execution_count": null,
   "id": "5a354208-6737-45db-a589-3fc417f031ef",
   "metadata": {},
   "outputs": [],
   "source": [
    "from linopy import Model  # , Variable, Objective#, Constraint, Sense"
   ]
  },
  {
   "cell_type": "code",
   "execution_count": null,
   "id": "d94292b1-8073-49a8-a2e9-a2c769145b2d",
   "metadata": {},
   "outputs": [],
   "source": [
    "# Create a linopy Problem\n",
    "m = Model()"
   ]
  },
  {
   "cell_type": "markdown",
   "id": "bf2b2258-f0f3-4118-ac39-6d902e1d61e3",
   "metadata": {},
   "source": [
    "This creates a new Model object, which you can then use to define your optimization problem."
   ]
  },
  {
   "cell_type": "markdown",
   "id": "4844ce4c-4ba6-4dec-957a-69dce93c07f0",
   "metadata": {},
   "source": [
    "\n",
    "\n",
    "### Adding variables\n",
    "\n",
    "Variables in a linear optimization problem represent the decision variables. A variable can always be assigned with a lower and an upper bound. In our case, both `x` and `y` have a lower bound of zero (default is unbouded). In Linopy, you can add variables to a Model using the `add_variables` method:"
   ]
  },
  {
   "cell_type": "code",
   "execution_count": null,
   "id": "64b35f1c-5398-4eb3-9135-aafce270b79b",
   "metadata": {},
   "outputs": [],
   "source": [
    "# Create Variables\n",
    "\n",
    "x = m.add_variables(lower=0, name=\"x\")\n",
    "y = m.add_variables(lower=0, name=\"y\");\n",
    "# m.x = Variable(domain=(0, float('inf')))\n",
    "# m.y = Variable()"
   ]
  },
  {
   "cell_type": "markdown",
   "id": "57bd1e94-7ead-4c86-a590-f2c2998b5f92",
   "metadata": {},
   "source": [
    "`x` and `y` are linopy variables of the class `linopy.Variable`. Each of them contain all relevant information that define it. The `name` parameter is optional but can be useful for referencing the variables later."
   ]
  },
  {
   "cell_type": "code",
   "execution_count": null,
   "id": "19d4b5f5-b9ae-48f6-8ce6-cd4a418dba6b",
   "metadata": {},
   "outputs": [],
   "source": [
    "y"
   ]
  },
  {
   "cell_type": "markdown",
   "id": "f7fc48a8-ab7e-4baf-93d2-ff907e543db1",
   "metadata": {},
   "source": [
    "## Adding the Objective \n",
    "\n",
    "The objective function defines what you want to optimize. You can set the objective function of a Model in Linopy using the add_objective method. For our example that would be"
   ]
  },
  {
   "cell_type": "code",
   "execution_count": null,
   "id": "18c6e6ce-37f9-4527-83a4-e5764b67b34c",
   "metadata": {},
   "outputs": [],
   "source": [
    "# Create Objective\n",
    "m.add_objective(-4 * x - 3 * y)\n",
    "# m.obj = Objective(4 * m.x + 3 * m.y, sense=Sense.MAXIMIZE)"
   ]
  },
  {
   "cell_type": "markdown",
   "id": "d07cc8d8-1ea6-47e2-9b84-5326948a602b",
   "metadata": {},
   "source": [
    "Since both `x` and `y` are scalar variables (meaning they don't have any dimensions), their underlying data contain only one optimization variable each.  \n",
    "\n",
    "### Adding Constraints\n",
    "\n",
    "Constraints define the feasible region of the optimization problem. They consist of the left hand side (lhs) and the right hand side (rhs). The first constraint that we want to write down is \n",
    "$x <= 4$, which we write out exactly in the mathematical way.\n",
    "\n",
    "We assign it by calling the function `m.add_constraints`."
   ]
  },
  {
   "cell_type": "code",
   "execution_count": null,
   "id": "fa233f5c-38ec-4a5a-9008-502932df968d",
   "metadata": {},
   "outputs": [],
   "source": [
    "# Create Constraints\n",
    "\n",
    "m.add_constraints(x <= 4)\n",
    "m.add_constraints(2 * x + y <= 10)\n",
    "m.add_constraints(x + y <= 10)"
   ]
  },
  {
   "cell_type": "markdown",
   "id": "b8ec9c21-de8c-40a1-8d30-2e3ee3f6d7ed",
   "metadata": {},
   "source": [
    "## Solving the Model\n",
    "\n",
    "Once you've defined your Model with variables, constraints, and an objective function, you can solve it using the `solve` method:"
   ]
  },
  {
   "cell_type": "code",
   "execution_count": null,
   "id": "712a0033-d027-478a-b8f2-201ec4ed1cc1",
   "metadata": {},
   "outputs": [],
   "source": [
    "# Solve the Problem\n",
    "m.solve()\n",
    "# m.solve(solver=\"cbc\")  # You can choose a different solver like 'glpk', 'gurobi', etc."
   ]
  },
  {
   "cell_type": "code",
   "execution_count": null,
   "id": "1f28aa81-d16f-4b7e-9d8e-f661d4b8bcd8",
   "metadata": {},
   "outputs": [],
   "source": [
    "x.solution.values"
   ]
  },
  {
   "cell_type": "code",
   "execution_count": null,
   "id": "470e2d25-9386-438d-932e-113464907726",
   "metadata": {},
   "outputs": [],
   "source": [
    "y.solution.values"
   ]
  },
  {
   "cell_type": "code",
   "execution_count": null,
   "id": "56232ce3-0463-44e6-bc30-69cb7bcdc43e",
   "metadata": {},
   "outputs": [],
   "source": [
    "# Print Solver Status\n",
    "print(\"Solver Status:\", m.status)"
   ]
  },
  {
   "cell_type": "markdown",
   "id": "0e430cb8-5b2a-4a68-97aa-ef66a6c9d5dc",
   "metadata": {},
   "source": [
    "While we can read from the message above that our problem was solved successfully, we can also formally check by accessing the reported status in the Linopy \"Model()\" object."
   ]
  },
  {
   "cell_type": "code",
   "execution_count": null,
   "id": "17f3ee37-5c63-49d5-8290-74ee4b00aea5",
   "metadata": {},
   "outputs": [],
   "source": [
    "assert m.status == \"ok\""
   ]
  },
  {
   "cell_type": "code",
   "execution_count": null,
   "id": "9df9bdd7-3c9b-42fd-82e4-28a9f5d4b171",
   "metadata": {},
   "outputs": [],
   "source": []
  },
  {
   "cell_type": "code",
   "execution_count": null,
   "id": "54d7e306-51c8-4df5-9a8a-09d97c251022",
   "metadata": {},
   "outputs": [],
   "source": []
  },
  {
   "cell_type": "code",
   "execution_count": null,
   "id": "f65dee78-f759-4833-8bf7-db77994d79a0",
   "metadata": {},
   "outputs": [],
   "source": []
  },
  {
   "cell_type": "markdown",
   "id": "f520ffce-6783-4c89-81f8-cc0c7822439c",
   "metadata": {},
   "source": [
    "## Electricity Market Examples"
   ]
  },
  {
   "cell_type": "markdown",
   "id": "b1bc668c-c37c-4939-8890-d4e945ba2739",
   "metadata": {},
   "source": [
    "### Single bidding zone, single period"
   ]
  },
  {
   "cell_type": "markdown",
   "id": "a2459e7a-d740-45dd-a834-bc098a5825cb",
   "metadata": {},
   "source": [
    "We want to minimise operational cost of an example electricity system representing South Africa subject to generator limits and meeting the load:\n",
    "\n",
    "\\begin{equation}\n",
    "    \\min_{g_s} \\sum_s o_s g_s\n",
    "  \\end{equation}\n",
    "  such that\n",
    "  \\begin{align}\n",
    "    g_s &\\leq G_s \\\\\n",
    "    g_s &\\geq 0 \\\\\n",
    "    \\sum_s g_s &= d\n",
    "  \\end{align}"
   ]
  },
  {
   "cell_type": "markdown",
   "id": "b5c0cb03-aa1b-47f0-92d7-b98fea75bc4d",
   "metadata": {},
   "source": [
    "We are given the following information on the South African electricity system:"
   ]
  },
  {
   "cell_type": "markdown",
   "id": "816b7ed4-fac6-45ee-8991-1057416f0983",
   "metadata": {},
   "source": [
    "Marginal costs in EUR/MWh"
   ]
  },
  {
   "cell_type": "code",
   "execution_count": null,
   "id": "30a08a5c-a63c-4c0e-9ec0-8fbbd2e26dbb",
   "metadata": {},
   "outputs": [],
   "source": [
    "marginal_costs = {\n",
    "    \"Wind\": 0,\n",
    "    \"Coal\": 30,\n",
    "    \"Gas\": 60,\n",
    "    \"Oil\": 80,\n",
    "}"
   ]
  },
  {
   "cell_type": "code",
   "execution_count": null,
   "id": "79a74291-9932-4dbb-a306-0fdcbb6d3769",
   "metadata": {},
   "outputs": [],
   "source": []
  },
  {
   "cell_type": "markdown",
   "id": "42b0c6e8-6699-4d9c-a958-727283e4ca0a",
   "metadata": {},
   "source": [
    "Power plant capacities in MW"
   ]
  },
  {
   "cell_type": "code",
   "execution_count": null,
   "id": "5864cf82-59bb-4ec2-9767-4739fd675637",
   "metadata": {},
   "outputs": [],
   "source": [
    "capacities = {\"Coal\": 35000, \"Wind\": 3000, \"Gas\": 8000, \"Oil\": 2000}"
   ]
  },
  {
   "cell_type": "code",
   "execution_count": null,
   "id": "2709fa29-1aae-480c-8f9b-39068206e3cc",
   "metadata": {},
   "outputs": [],
   "source": []
  },
  {
   "cell_type": "markdown",
   "id": "fc235ee5-d77f-4c68-bfb8-85048393590e",
   "metadata": {},
   "source": [
    "Inelastic demand in MW"
   ]
  },
  {
   "cell_type": "code",
   "execution_count": null,
   "id": "9b018aa6-715e-4319-ae83-ce7a0fd3d890",
   "metadata": {},
   "outputs": [],
   "source": [
    "load = 42000"
   ]
  },
  {
   "cell_type": "code",
   "execution_count": null,
   "id": "89d61ab1-078b-406d-b9db-1a6377843c79",
   "metadata": {},
   "outputs": [],
   "source": [
    "m = Model()"
   ]
  },
  {
   "cell_type": "code",
   "execution_count": null,
   "id": "7573a465-ebaf-4308-8975-264e00a2717b",
   "metadata": {},
   "outputs": [],
   "source": [
    "fuel_type = pd.Index(capacities.keys(), name=\"fuel_type\")\n",
    "fuel_type"
   ]
  },
  {
   "cell_type": "code",
   "execution_count": null,
   "id": "272276d5-01a9-49db-bcc0-9266074e44f3",
   "metadata": {},
   "outputs": [],
   "source": [
    "capacities_series = pd.Series(capacities.values(), index=capacities.keys())\n",
    "capacities_series"
   ]
  },
  {
   "cell_type": "code",
   "execution_count": null,
   "id": "f9abe031-9c1e-4112-8b66-b77bc887402b",
   "metadata": {},
   "outputs": [],
   "source": [
    "g = m.add_variables(lower=0, upper=capacities_series, coords=[fuel_type], name=\"g\")\n",
    "g"
   ]
  },
  {
   "cell_type": "code",
   "execution_count": null,
   "id": "645bf5af-0880-41cf-97ec-20207b790b71",
   "metadata": {},
   "outputs": [],
   "source": [
    "marginal_costs_new = {k: marginal_costs[k] for k in capacities.keys()}\n",
    "marginal_costs_new"
   ]
  },
  {
   "cell_type": "code",
   "execution_count": null,
   "id": "62b1159d-1a7d-4287-a6a0-648a553c7f05",
   "metadata": {},
   "outputs": [],
   "source": [
    "marginal_costs_series = pd.Series(\n",
    "    marginal_costs_new.values(), index=marginal_costs_new.keys()\n",
    ")\n",
    "marginal_costs_series"
   ]
  },
  {
   "cell_type": "code",
   "execution_count": null,
   "id": "c37f66f5-fce5-4e54-a122-56b992ed2f95",
   "metadata": {},
   "outputs": [],
   "source": [
    "g.sum() == load"
   ]
  },
  {
   "cell_type": "markdown",
   "id": "36ad37d3-5cbb-4097-9f9f-0440832359fa",
   "metadata": {},
   "source": [
    "It always helps to write out the constraints before adding them to the model. Since they look good, let’s assign them."
   ]
  },
  {
   "cell_type": "code",
   "execution_count": null,
   "id": "f072d533-081c-4f6e-ac52-d1afcfeb971f",
   "metadata": {},
   "outputs": [],
   "source": [
    "m.add_constraints(g.sum() == load, name=\"total-generation-constraint\")"
   ]
  },
  {
   "cell_type": "code",
   "execution_count": null,
   "id": "af7839dd-8dac-4f36-845f-ef7f405c5a0b",
   "metadata": {},
   "outputs": [],
   "source": [
    "obj = (g * marginal_costs_series).sum()\n",
    "m.add_objective(obj)"
   ]
  },
  {
   "cell_type": "code",
   "execution_count": null,
   "id": "1bd321b2-760f-48e4-b734-1c73daaf520d",
   "metadata": {},
   "outputs": [],
   "source": [
    "m.solve()"
   ]
  },
  {
   "cell_type": "code",
   "execution_count": null,
   "id": "876e38fd-008a-4717-ab3b-0aadac8d41bc",
   "metadata": {},
   "outputs": [],
   "source": [
    "g.solution.fuel_type.values"
   ]
  },
  {
   "cell_type": "code",
   "execution_count": null,
   "id": "f43d34e2-b6f5-4fa0-b11e-2cfe885f1dec",
   "metadata": {},
   "outputs": [],
   "source": [
    "g.solution.values"
   ]
  },
  {
   "cell_type": "code",
   "execution_count": null,
   "id": "0e817296-bba9-4310-ba40-6477a1f13e69",
   "metadata": {},
   "outputs": [],
   "source": [
    "results = dict(zip(g.solution.fuel_type.values, g.solution.values))\n",
    "results"
   ]
  },
  {
   "cell_type": "code",
   "execution_count": null,
   "id": "a5870398-3420-4443-aed4-ce407ea3ad2d",
   "metadata": {},
   "outputs": [],
   "source": []
  },
  {
   "cell_type": "code",
   "execution_count": null,
   "id": "320e96ff-d921-474f-a362-8ea65011b55f",
   "metadata": {},
   "outputs": [],
   "source": []
  },
  {
   "cell_type": "markdown",
   "id": "5cc105a5-7df0-4b76-90b7-85d8bafa2121",
   "metadata": {},
   "source": [
    "### Two bidding zones with transmission"
   ]
  },
  {
   "cell_type": "markdown",
   "id": "b1c5e8dc-21fd-4961-a2c5-4b6dae862efe",
   "metadata": {},
   "source": [
    "Let's add a spatial dimension, such that the optimisation problem is expanded to\n",
    "\\begin{equation}\n",
    "  \\min_{g_{i,s}, f_\\ell} \\sum_s o_{i,s} g_{i,s}\n",
    "\\end{equation}\n",
    "such that\n",
    "\\begin{align}\n",
    "  g_{i,s} &\\leq G_{i,s} \\\\\n",
    "  g_{i,s} &\\geq 0 \\\\\n",
    "  \\sum_s g_{i,s} - \\sum_\\ell K_{i\\ell} f_\\ell &= d_i & \\text{KCL} \\\\\n",
    "  |f_\\ell| &\\leq F_\\ell & \\text{line limits}  \\\\\n",
    "  \\sum_\\ell C_{\\ell c} x_\\ell f_\\ell &= 0 & \\text{KVL} \n",
    "\\end{align}\n",
    "\n",
    "In this example, we connect the previous South African electricity system with a hydro generation unit in Mozambique through a single transmission line. Note that because a single transmission line will not result in any cycles, we can neglect KVL in this case.\n",
    "\n",
    "We are given the following data (all in MW):"
   ]
  },
  {
   "cell_type": "code",
   "execution_count": null,
   "id": "c3c0b045-67fa-4211-99bc-3100ec8adbf7",
   "metadata": {},
   "outputs": [],
   "source": [
    "capacities = {\n",
    "    \"South Africa\": {\"Coal\": 35000, \"Wind\": 3000, \"Gas\": 8000, \"Oil\": 2000, \"Hydro\": 0},\n",
    "    \"Mozambique\": {\"Coal\": 0, \"Wind\": 0, \"Gas\": 0, \"Oil\": 0, \"Hydro\": 1200},\n",
    "}"
   ]
  },
  {
   "cell_type": "code",
   "execution_count": null,
   "id": "e2f2f248-2dcc-4a63-891c-5eef679261db",
   "metadata": {},
   "outputs": [],
   "source": [
    "transmission = 500"
   ]
  },
  {
   "cell_type": "code",
   "execution_count": null,
   "id": "4317ef88-07bd-41e9-8943-c0aaf0472197",
   "metadata": {},
   "outputs": [],
   "source": [
    "loads = {\"South Africa\": 42000, \"Mozambique\": 650}"
   ]
  },
  {
   "cell_type": "code",
   "execution_count": null,
   "id": "da6dc9b3-414b-4a28-b382-7ea0e3bf9815",
   "metadata": {},
   "outputs": [],
   "source": [
    "marginal_costs = {\n",
    "    \"Wind\": 0,\n",
    "    \"Coal\": 30,\n",
    "    \"Gas\": 60,\n",
    "    \"Oil\": 80,\n",
    "    \"Hydro\": 0,\n",
    "}"
   ]
  },
  {
   "cell_type": "code",
   "execution_count": null,
   "id": "c8d260df-7129-4d1c-921a-0b1fa10a5236",
   "metadata": {},
   "outputs": [],
   "source": [
    "m = Model()"
   ]
  },
  {
   "cell_type": "code",
   "execution_count": null,
   "id": "ee334601-2277-43fb-9e4f-9760ee117b4d",
   "metadata": {},
   "outputs": [],
   "source": [
    "capacities[\"South Africa\"].keys()"
   ]
  },
  {
   "cell_type": "code",
   "execution_count": null,
   "id": "5346aac1-a84f-40ed-b118-0aa81430022d",
   "metadata": {},
   "outputs": [],
   "source": [
    "capacities[\"Mozambique\"].keys()"
   ]
  },
  {
   "cell_type": "code",
   "execution_count": null,
   "id": "03b5db94-5080-4ae6-9b43-5d66a6e1fea5",
   "metadata": {},
   "outputs": [],
   "source": [
    "fuel_type = pd.Index(capacities[\"South Africa\"].keys(), name=\"fuel_type\")\n",
    "fuel_type"
   ]
  },
  {
   "cell_type": "code",
   "execution_count": null,
   "id": "c9a8e614-ba00-4c45-90f8-cc42efafab94",
   "metadata": {},
   "outputs": [],
   "source": [
    "capacities_series_south_africa = pd.Series(\n",
    "    capacities[\"South Africa\"].values(), index=capacities[\"South Africa\"].keys()\n",
    ")\n",
    "capacities_series_south_africa"
   ]
  },
  {
   "cell_type": "code",
   "execution_count": null,
   "id": "361383b7-ba9b-466c-9263-5fd393073eba",
   "metadata": {},
   "outputs": [],
   "source": [
    "g_south_africa = m.add_variables(\n",
    "    lower=0,\n",
    "    upper=capacities_series_south_africa,\n",
    "    coords=[fuel_type],\n",
    "    name=\"g_south_africa\",\n",
    ")\n",
    "g_south_africa"
   ]
  },
  {
   "cell_type": "code",
   "execution_count": null,
   "id": "bcc815ba-1a47-4b37-a9a1-8db8ee4a797e",
   "metadata": {},
   "outputs": [],
   "source": [
    "capacities_series_mozambique = pd.Series(\n",
    "    capacities[\"Mozambique\"].values(), index=capacities[\"Mozambique\"].keys()\n",
    ")\n",
    "capacities_series_mozambique"
   ]
  },
  {
   "cell_type": "code",
   "execution_count": null,
   "id": "2199b51f-3236-4861-a857-2e4262e7751b",
   "metadata": {},
   "outputs": [],
   "source": [
    "g_mozambique = m.add_variables(\n",
    "    lower=0, upper=capacities_series_mozambique, coords=[fuel_type], name=\"g_mozambique\"\n",
    ")\n",
    "g_mozambique"
   ]
  },
  {
   "cell_type": "code",
   "execution_count": null,
   "id": "07f4dc44-bb40-443c-ad6c-002bf963203e",
   "metadata": {},
   "outputs": [],
   "source": [
    "marginal_costs_new = {k: marginal_costs[k] for k in capacities[\"South Africa\"].keys()}\n",
    "marginal_costs_new"
   ]
  },
  {
   "cell_type": "code",
   "execution_count": null,
   "id": "3c0e3a52-c76d-4a53-b51b-adbfb069ae81",
   "metadata": {},
   "outputs": [],
   "source": [
    "marginal_costs_series = pd.Series(\n",
    "    marginal_costs_new.values(), index=marginal_costs_new.keys()\n",
    ")\n",
    "marginal_costs_series"
   ]
  },
  {
   "cell_type": "code",
   "execution_count": null,
   "id": "eff346be-a400-47d1-98b9-fdeb6061f909",
   "metadata": {},
   "outputs": [],
   "source": [
    "line_flow = m.add_variables(\n",
    "    lower=-1 * transmission, upper=transmission, name=\"line_flow\"\n",
    ")\n",
    "line_flow"
   ]
  },
  {
   "cell_type": "code",
   "execution_count": null,
   "id": "f0ce24d3-8e88-4288-977a-7e7fe02fc34d",
   "metadata": {},
   "outputs": [],
   "source": [
    "g_south_africa.sum() - line_flow == loads[\"South Africa\"]"
   ]
  },
  {
   "cell_type": "code",
   "execution_count": null,
   "id": "2c16a284-8a3a-4f7e-8c55-6128dcfc10f5",
   "metadata": {},
   "outputs": [],
   "source": [
    "m.add_constraints(\n",
    "    g_south_africa.sum() - line_flow == loads[\"South Africa\"],\n",
    "    name=\"total-generation-constraint-south-africa\",\n",
    ")"
   ]
  },
  {
   "cell_type": "code",
   "execution_count": null,
   "id": "01f5d13f-3c8b-4527-a42e-60f0775895ea",
   "metadata": {},
   "outputs": [],
   "source": [
    "g_mozambique.sum() + line_flow == loads[\"Mozambique\"]"
   ]
  },
  {
   "cell_type": "code",
   "execution_count": null,
   "id": "63e2b3c1-4b39-47f0-8ede-117b4f5c472c",
   "metadata": {},
   "outputs": [],
   "source": [
    "m.add_constraints(\n",
    "    g_mozambique.sum() + line_flow == loads[\"Mozambique\"],\n",
    "    name=\"total-generation-constraint-mozambique\",\n",
    ")"
   ]
  },
  {
   "cell_type": "code",
   "execution_count": null,
   "id": "93377ba7-18cf-4ae8-a0bb-2ee87761f7af",
   "metadata": {},
   "outputs": [],
   "source": [
    "obj = (g_south_africa * marginal_costs_series).sum() + (\n",
    "    g_mozambique * marginal_costs_series\n",
    ").sum()\n",
    "\n",
    "m.add_objective(obj)"
   ]
  },
  {
   "cell_type": "code",
   "execution_count": null,
   "id": "904efea3-0b6a-4507-bf7f-19fdeb688e31",
   "metadata": {},
   "outputs": [],
   "source": [
    "m.solve()"
   ]
  },
  {
   "cell_type": "code",
   "execution_count": null,
   "id": "842e3b63-a7d4-4348-8909-b723b1b6c5d3",
   "metadata": {},
   "outputs": [],
   "source": [
    "g_south_africa.solution.fuel_type.values"
   ]
  },
  {
   "cell_type": "code",
   "execution_count": null,
   "id": "d5ad3015-9299-4e99-9ba7-a4359af3e18f",
   "metadata": {},
   "outputs": [],
   "source": [
    "g_south_africa.solution.values"
   ]
  },
  {
   "cell_type": "code",
   "execution_count": null,
   "id": "b787681e-11df-49f8-9171-5656e9c8e243",
   "metadata": {},
   "outputs": [],
   "source": [
    "results_south_africa = dict(\n",
    "    zip(g_south_africa.solution.fuel_type.values, g_south_africa.solution.values)\n",
    ")\n",
    "results_south_africa"
   ]
  },
  {
   "cell_type": "code",
   "execution_count": null,
   "id": "36f746d9-9a33-4930-a915-1c273ddf335c",
   "metadata": {},
   "outputs": [],
   "source": [
    "g_mozambique.solution.fuel_type.values"
   ]
  },
  {
   "cell_type": "code",
   "execution_count": null,
   "id": "be9332a5-86da-41fb-9b43-141b11ff44a2",
   "metadata": {},
   "outputs": [],
   "source": [
    "g_mozambique.solution.values"
   ]
  },
  {
   "cell_type": "code",
   "execution_count": null,
   "id": "866ea6d3-a0ad-4cf2-befa-be0f09f4ef5b",
   "metadata": {},
   "outputs": [],
   "source": [
    "results_mozambique = dict(\n",
    "    zip(g_mozambique.solution.fuel_type.values, g_mozambique.solution.values)\n",
    ")\n",
    "results_mozambique"
   ]
  },
  {
   "cell_type": "code",
   "execution_count": null,
   "id": "4188037c-4e4f-4c2c-94c8-354e719ce4ff",
   "metadata": {},
   "outputs": [],
   "source": []
  },
  {
   "cell_type": "code",
   "execution_count": null,
   "id": "6ff1b226-b4f0-4757-b55b-8fabfa9a4d97",
   "metadata": {},
   "outputs": [],
   "source": []
  },
  {
   "cell_type": "code",
   "execution_count": null,
   "id": "a9680a42-7834-49ba-a3bb-f22e7f06389c",
   "metadata": {},
   "outputs": [],
   "source": []
  }
 ],
 "metadata": {
  "kernelspec": {
   "display_name": "",
   "language": "python",
   "name": ""
  },
  "language_info": {
   "codemirror_mode": {
    "name": "ipython",
    "version": 3
   },
   "file_extension": ".py",
   "mimetype": "text/x-python",
   "name": "python",
   "nbconvert_exporter": "python",
   "pygments_lexer": "ipython3",
   "version": "3.10.13"
  }
 },
 "nbformat": 4,
 "nbformat_minor": 5
}
