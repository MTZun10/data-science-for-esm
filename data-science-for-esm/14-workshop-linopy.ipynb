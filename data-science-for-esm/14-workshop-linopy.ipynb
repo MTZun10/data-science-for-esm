{
 "cells": [
  {
   "cell_type": "markdown",
   "id": "47098e73-2dbb-4b9d-8abf-c2de66e1f264",
   "metadata": {},
   "source": [
    "# Introduction to `linopy`"
   ]
  },
  {
   "cell_type": "markdown",
   "id": "cdd93543-0b5c-4e03-adc5-5c9d44c7774a",
   "metadata": {},
   "source": [
    ":::{note}\n",
    "This material is in part adapted from the following resources:\n",
    "- [Linopy Tutorial](https://linopy.readthedocs.io/en/latest/index.html)\n",
    "- [PyPSA simple electricity market examples](https://pypsa.readthedocs.io/en/latest/examples/simple-electricity-market-examples.html)\n",
    ":::\n",
    "\n",
    "\n",
    "\n",
    "[Linopy](https://linopy.readthedocs.io/en/latest/index.html)  is an open-source framework for formulating, solving, and analyzing optimization problems with Python.\n",
    "\n",
    "With Linopy, you can create an optimization model within Python that consists of decision variables, constraints, and an optimization objective. You can then solve these instances using a variety of commerci and open-source solvers (specialised software).\n",
    "\n",
    "[Linopy](https://linopy.readthedocs.io/en/latest/index.html) supports a wide range of problem types, including:\n",
    "\n",
    "- **Linear programming**\n",
    "- Quadratic programmingng\n",
    "- Nonlinear programming\n",
    "- Mixed-integer linear programming\n",
    "- Mixed-integer quadratic programming\n",
    "- Mixed-integer nonlinear programming\n",
    "- Stochastic programming\n",
    "- Generalized disjunctive programming\n",
    "- Differential algebraic equations\n",
    "- Bilevel programmin- Mathematical programs with equilibrium constraints\n",
    "\n",
    "\n",
    ":::{note}\n",
    "Documentation for this package is available at https://linopy.readthedocs.io/en/latest/index.html.\n",
    ":::.\n",
    ":::"
   ]
  },
  {
   "cell_type": "markdown",
   "id": "e6221514-355e-40eb-9194-b9026add6e40",
   "metadata": {},
   "source": [
    ":::{note}\n",
    "If you have not yet set up Python on your computer, you can execute this tutorial in your browser via [Google Colab](https://colab.research.google.com/). Click on the rocket in the top right corner and launch \"Colab\". If that doesn't work download the `.ipynb` file and import it in [Google Colab](https://colab.research.google.com/).\n",
    "\n",
    "Then install the following packages by executing the following command in a Jupyter cell at the top of the notebook.\n",
    "\n",
    "```sh\n",
    "!pip install pandas pyomo highspy\n",
    "```\n",
    ":::"
   ]
  },
  {
   "cell_type": "markdown",
   "id": "cc582211-9363-4107-932c-48c9c2279535",
   "metadata": {},
   "source": [
    "### Initializing a `Model`\n",
    "\n",
    "The Model class in Linopy is a fundamental part of the library. It serves as a container for all the relevant data associated with a linear optimization problem. This includes variables, constraints, and the objective function."
   ]
  },
  {
   "cell_type": "code",
   "execution_count": 1,
   "id": "7cd9637d",
   "metadata": {},
   "outputs": [],
   "source": [
    "import pandas as pd\n",
    "import numpy as np\n",
    "\n",
    "import xarray as xr"
   ]
  },
  {
   "cell_type": "code",
   "execution_count": 2,
   "id": "5a354208-6737-45db-a589-3fc417f031ef",
   "metadata": {},
   "outputs": [],
   "source": [
    "from linopy import Model  # , Variable, Objective#, Constraint, Sense"
   ]
  },
  {
   "cell_type": "code",
   "execution_count": 3,
   "id": "d94292b1-8073-49a8-a2e9-a2c769145b2d",
   "metadata": {},
   "outputs": [],
   "source": [
    "# Create a linopy Problem\n",
    "m = Model()"
   ]
  },
  {
   "cell_type": "markdown",
   "id": "bf2b2258-f0f3-4118-ac39-6d902e1d61e3",
   "metadata": {},
   "source": [
    "This creates a new Model object, which you can then use to define your optimization problem."
   ]
  },
  {
   "cell_type": "markdown",
   "id": "4844ce4c-4ba6-4dec-957a-69dce93c07f0",
   "metadata": {},
   "source": [
    "\n",
    "\n",
    "### Adding variables\n",
    "\n",
    "Variables in a linear optimization problem represent the decision variables. A variable can always be assigned with a lower and an upper bound. In our case, both `x` and `y` have a lower bound of zero (default is unbouded). In Linopy, you can add variables to a Model using the `add_variables` method:"
   ]
  },
  {
   "cell_type": "code",
   "execution_count": 4,
   "id": "64b35f1c-5398-4eb3-9135-aafce270b79b",
   "metadata": {},
   "outputs": [],
   "source": [
    "# Create Variables\n",
    "\n",
    "x = m.add_variables(lower=0, name=\"x\")\n",
    "y = m.add_variables(lower=0, name=\"y\");\n",
    "# m.x = Variable(domain=(0, float('inf')))\n",
    "# m.y = Variable()"
   ]
  },
  {
   "cell_type": "markdown",
   "id": "57bd1e94-7ead-4c86-a590-f2c2998b5f92",
   "metadata": {},
   "source": [
    "`x` and `y` are linopy variables of the class `linopy.Variable`. Each of them contain all relevant information that define it. The `name` parameter is optional but can be useful for referencing the variables later."
   ]
  },
  {
   "cell_type": "code",
   "execution_count": 5,
   "id": "19d4b5f5-b9ae-48f6-8ce6-cd4a418dba6b",
   "metadata": {},
   "outputs": [
    {
     "data": {
      "text/plain": [
       "Variable\n",
       "--------\n",
       "y ∈ [0, inf]"
      ]
     },
     "execution_count": 5,
     "metadata": {},
     "output_type": "execute_result"
    }
   ],
   "source": [
    "y"
   ]
  },
  {
   "cell_type": "markdown",
   "id": "f7fc48a8-ab7e-4baf-93d2-ff907e543db1",
   "metadata": {},
   "source": [
    "## Adding the Objective \n",
    "\n",
    "The objective function defines what you want to optimize. You can set the objective function of a Model in Linopy using the add_objective method. For our example that would be"
   ]
  },
  {
   "cell_type": "code",
   "execution_count": 6,
   "id": "18c6e6ce-37f9-4527-83a4-e5764b67b34c",
   "metadata": {},
   "outputs": [
    {
     "data": {
      "text/plain": [
       "LinearExpression\n",
       "----------------\n",
       "-4 x - 3 y"
      ]
     },
     "execution_count": 6,
     "metadata": {},
     "output_type": "execute_result"
    }
   ],
   "source": [
    "# Create Objective\n",
    "m.add_objective(-4 * x - 3 * y)\n",
    "# m.obj = Objective(4 * m.x + 3 * m.y, sense=Sense.MAXIMIZE)"
   ]
  },
  {
   "cell_type": "markdown",
   "id": "d07cc8d8-1ea6-47e2-9b84-5326948a602b",
   "metadata": {},
   "source": [
    "Since both `x` and `y` are scalar variables (meaning they don't have any dimensions), their underlying data contain only one optimization variable each.  \n",
    "\n",
    "### Adding Constraints\n",
    "\n",
    "Constraints define the feasible region of the optimization problem. They consist of the left hand side (lhs) and the right hand side (rhs). The first constraint that we want to write down is \n",
    "$x <= 4$, which we write out exactly in the mathematical way.\n",
    "\n",
    "We assign it by calling the function `m.add_constraints`."
   ]
  },
  {
   "cell_type": "code",
   "execution_count": 7,
   "id": "fa233f5c-38ec-4a5a-9008-502932df968d",
   "metadata": {},
   "outputs": [
    {
     "data": {
      "text/plain": [
       "Constraint `con2`\n",
       "-----------------\n",
       "+1 x + 1 y ≤ 10"
      ]
     },
     "execution_count": 7,
     "metadata": {},
     "output_type": "execute_result"
    }
   ],
   "source": [
    "# Create Constraints\n",
    "\n",
    "m.add_constraints(x <= 4)\n",
    "m.add_constraints(2 * x + y <= 10)\n",
    "m.add_constraints(x + y <= 10)"
   ]
  },
  {
   "cell_type": "markdown",
   "id": "b8ec9c21-de8c-40a1-8d30-2e3ee3f6d7ed",
   "metadata": {},
   "source": [
    "## Solving the Model\n",
    "\n",
    "Once you've defined your Model with variables, constraints, and an objective function, you can solve it using the `solve` method:"
   ]
  },
  {
   "cell_type": "code",
   "execution_count": 8,
   "id": "712a0033-d027-478a-b8f2-201ec4ed1cc1",
   "metadata": {},
   "outputs": [
    {
     "name": "stdout",
     "output_type": "stream",
     "text": [
      "Restricted license - for non-production use only - expires 2024-10-28\n",
      "Read LP format model from file C:\\Users\\huang\\AppData\\Local\\Temp\\linopy-problem-c1f_f7db.lp\n",
      "Reading time = 0.00 seconds\n",
      "obj: 3 rows, 2 columns, 5 nonzeros\n",
      "Gurobi Optimizer version 10.0.3 build v10.0.3rc0 (win64)\n",
      "\n",
      "CPU model: Intel(R) Core(TM) i7-10510U CPU @ 1.80GHz, instruction set [SSE2|AVX|AVX2]\n",
      "Thread count: 4 physical cores, 8 logical processors, using up to 8 threads\n",
      "\n",
      "Optimize a model with 3 rows, 2 columns and 5 nonzeros\n",
      "Model fingerprint: 0x36ba073a\n",
      "Coefficient statistics:\n",
      "  Matrix range     [1e+00, 2e+00]\n",
      "  Objective range  [3e+00, 4e+00]\n",
      "  Bounds range     [0e+00, 0e+00]\n",
      "  RHS range        [4e+00, 1e+01]\n",
      "Presolve removed 1 rows and 0 columns\n",
      "Presolve time: 0.01s\n",
      "Presolved: 2 rows, 2 columns, 4 nonzeros\n",
      "\n",
      "Iteration    Objective       Primal Inf.    Dual Inf.      Time\n",
      "       0   -3.0000000e+01   0.000000e+00   0.000000e+00      0s\n",
      "       0   -3.0000000e+01   0.000000e+00   0.000000e+00      0s\n",
      "\n",
      "Solved in 0 iterations and 0.02 seconds (0.00 work units)\n",
      "Optimal objective -3.000000000e+01\n"
     ]
    },
    {
     "data": {
      "text/plain": [
       "('ok', 'optimal')"
      ]
     },
     "execution_count": 8,
     "metadata": {},
     "output_type": "execute_result"
    }
   ],
   "source": [
    "# Solve the Problem\n",
    "m.solve()\n",
    "# m.solve(solver=\"cbc\")  # You can choose a different solver like 'glpk', 'gurobi', etc."
   ]
  },
  {
   "cell_type": "code",
   "execution_count": 9,
   "id": "1f28aa81-d16f-4b7e-9d8e-f661d4b8bcd8",
   "metadata": {},
   "outputs": [
    {
     "data": {
      "text/plain": [
       "array(0.)"
      ]
     },
     "execution_count": 9,
     "metadata": {},
     "output_type": "execute_result"
    }
   ],
   "source": [
    "x.solution.values"
   ]
  },
  {
   "cell_type": "code",
   "execution_count": 10,
   "id": "470e2d25-9386-438d-932e-113464907726",
   "metadata": {},
   "outputs": [
    {
     "data": {
      "text/plain": [
       "array(10.)"
      ]
     },
     "execution_count": 10,
     "metadata": {},
     "output_type": "execute_result"
    }
   ],
   "source": [
    "y.solution.values"
   ]
  },
  {
   "cell_type": "code",
   "execution_count": 11,
   "id": "56232ce3-0463-44e6-bc30-69cb7bcdc43e",
   "metadata": {},
   "outputs": [
    {
     "name": "stdout",
     "output_type": "stream",
     "text": [
      "Solver Status: ok\n"
     ]
    }
   ],
   "source": [
    "# Print Solver Status\n",
    "print(\"Solver Status:\", m.status)"
   ]
  },
  {
   "cell_type": "markdown",
   "id": "0e430cb8-5b2a-4a68-97aa-ef66a6c9d5dc",
   "metadata": {},
   "source": [
    "While we can read from the message above that our problem was solved successfully, we can also formally check by accessing the reported status in the Linopy \"Model()\" object."
   ]
  },
  {
   "cell_type": "code",
   "execution_count": 12,
   "id": "17f3ee37-5c63-49d5-8290-74ee4b00aea5",
   "metadata": {},
   "outputs": [],
   "source": [
    "assert m.status == \"ok\""
   ]
  },
  {
   "cell_type": "code",
   "execution_count": null,
   "id": "9df9bdd7-3c9b-42fd-82e4-28a9f5d4b171",
   "metadata": {},
   "outputs": [],
   "source": []
  },
  {
   "cell_type": "code",
   "execution_count": null,
   "id": "54d7e306-51c8-4df5-9a8a-09d97c251022",
   "metadata": {},
   "outputs": [],
   "source": []
  },
  {
   "cell_type": "code",
   "execution_count": null,
   "id": "f65dee78-f759-4833-8bf7-db77994d79a0",
   "metadata": {},
   "outputs": [],
   "source": []
  },
  {
   "cell_type": "markdown",
   "id": "f520ffce-6783-4c89-81f8-cc0c7822439c",
   "metadata": {},
   "source": [
    "## Electricity Market Examples"
   ]
  },
  {
   "cell_type": "markdown",
   "id": "b1bc668c-c37c-4939-8890-d4e945ba2739",
   "metadata": {},
   "source": [
    "### Single bidding zone, single period"
   ]
  },
  {
   "cell_type": "markdown",
   "id": "a2459e7a-d740-45dd-a834-bc098a5825cb",
   "metadata": {},
   "source": [
    "We want to minimise operational cost of an example electricity system representing South Africa subject to generator limits and meeting the load:\n",
    "\n",
    "\\begin{equation}\n",
    "    \\min_{g_s} \\sum_s o_s g_s\n",
    "  \\end{equation}\n",
    "  such that\n",
    "  \\begin{align}\n",
    "    g_s &\\leq G_s \\\\\n",
    "    g_s &\\geq 0 \\\\\n",
    "    \\sum_s g_s &= d\n",
    "  \\end{align}"
   ]
  },
  {
   "cell_type": "markdown",
   "id": "b5c0cb03-aa1b-47f0-92d7-b98fea75bc4d",
   "metadata": {},
   "source": [
    "We are given the following information on the South African electricity system:"
   ]
  },
  {
   "cell_type": "markdown",
   "id": "816b7ed4-fac6-45ee-8991-1057416f0983",
   "metadata": {},
   "source": [
    "Marginal costs in EUR/MWh"
   ]
  },
  {
   "cell_type": "code",
   "execution_count": 13,
   "id": "30a08a5c-a63c-4c0e-9ec0-8fbbd2e26dbb",
   "metadata": {},
   "outputs": [],
   "source": [
    "marginal_costs = {\n",
    "    \"Wind\": 0,\n",
    "    \"Coal\": 30,\n",
    "    \"Gas\": 60,\n",
    "    \"Oil\": 80,\n",
    "}"
   ]
  },
  {
   "cell_type": "code",
   "execution_count": null,
   "id": "79a74291-9932-4dbb-a306-0fdcbb6d3769",
   "metadata": {},
   "outputs": [],
   "source": []
  },
  {
   "cell_type": "markdown",
   "id": "42b0c6e8-6699-4d9c-a958-727283e4ca0a",
   "metadata": {},
   "source": [
    "Power plant capacities in MW"
   ]
  },
  {
   "cell_type": "code",
   "execution_count": 14,
   "id": "5864cf82-59bb-4ec2-9767-4739fd675637",
   "metadata": {},
   "outputs": [],
   "source": [
    "capacities = {\"Coal\": 35000, \"Wind\": 3000, \"Gas\": 8000, \"Oil\": 2000}"
   ]
  },
  {
   "cell_type": "code",
   "execution_count": null,
   "id": "2709fa29-1aae-480c-8f9b-39068206e3cc",
   "metadata": {},
   "outputs": [],
   "source": []
  },
  {
   "cell_type": "markdown",
   "id": "fc235ee5-d77f-4c68-bfb8-85048393590e",
   "metadata": {},
   "source": [
    "Inelastic demand in MW"
   ]
  },
  {
   "cell_type": "code",
   "execution_count": 15,
   "id": "9b018aa6-715e-4319-ae83-ce7a0fd3d890",
   "metadata": {},
   "outputs": [],
   "source": [
    "load = 42000"
   ]
  },
  {
   "cell_type": "code",
   "execution_count": 16,
   "id": "89d61ab1-078b-406d-b9db-1a6377843c79",
   "metadata": {},
   "outputs": [],
   "source": [
    "m = Model()"
   ]
  },
  {
   "cell_type": "code",
   "execution_count": 17,
   "id": "7573a465-ebaf-4308-8975-264e00a2717b",
   "metadata": {},
   "outputs": [
    {
     "data": {
      "text/plain": [
       "Index(['Coal', 'Wind', 'Gas', 'Oil'], dtype='object', name='fuel_type')"
      ]
     },
     "execution_count": 17,
     "metadata": {},
     "output_type": "execute_result"
    }
   ],
   "source": [
    "fuel_type = pd.Index(capacities.keys(), name='fuel_type')\n",
    "fuel_type"
   ]
  },
  {
   "cell_type": "code",
   "execution_count": 18,
   "id": "272276d5-01a9-49db-bcc0-9266074e44f3",
   "metadata": {},
   "outputs": [
    {
     "data": {
      "text/plain": [
       "Coal    35000\n",
       "Wind     3000\n",
       "Gas      8000\n",
       "Oil      2000\n",
       "dtype: int64"
      ]
     },
     "execution_count": 18,
     "metadata": {},
     "output_type": "execute_result"
    }
   ],
   "source": [
    "capacities_series = pd.Series(capacities.values(),index=capacities.keys())\n",
    "capacities_series"
   ]
  },
  {
   "cell_type": "code",
   "execution_count": 19,
   "id": "f9abe031-9c1e-4112-8b66-b77bc887402b",
   "metadata": {},
   "outputs": [
    {
     "data": {
      "text/plain": [
       "Variable (fuel_type: 4)\n",
       "-----------------------\n",
       "[Coal]: g[Coal] ∈ [0, 3.5e+04]\n",
       "[Wind]: g[Wind] ∈ [0, 3000]\n",
       "[Gas]: g[Gas] ∈ [0, 8000]\n",
       "[Oil]: g[Oil] ∈ [0, 2000]"
      ]
     },
     "execution_count": 19,
     "metadata": {},
     "output_type": "execute_result"
    }
   ],
   "source": [
    "g = m.add_variables(lower=0, upper=capacities_series, coords=[fuel_type], name='g')\n",
    "g"
   ]
  },
  {
   "cell_type": "code",
   "execution_count": 20,
   "id": "645bf5af-0880-41cf-97ec-20207b790b71",
   "metadata": {},
   "outputs": [
    {
     "data": {
      "text/plain": [
       "{'Coal': 30, 'Wind': 0, 'Gas': 60, 'Oil': 80}"
      ]
     },
     "execution_count": 20,
     "metadata": {},
     "output_type": "execute_result"
    }
   ],
   "source": [
    "marginal_costs_new = {k : marginal_costs[k] for k in capacities.keys()}\n",
    "marginal_costs_new"
   ]
  },
  {
   "cell_type": "code",
   "execution_count": 21,
   "id": "62b1159d-1a7d-4287-a6a0-648a553c7f05",
   "metadata": {},
   "outputs": [
    {
     "data": {
      "text/plain": [
       "Coal    30\n",
       "Wind     0\n",
       "Gas     60\n",
       "Oil     80\n",
       "dtype: int64"
      ]
     },
     "execution_count": 21,
     "metadata": {},
     "output_type": "execute_result"
    }
   ],
   "source": [
    "marginal_costs_series= pd.Series(marginal_costs_new.values(),index=marginal_costs_new.keys())\n",
    "marginal_costs_series"
   ]
  },
  {
   "cell_type": "code",
   "execution_count": 22,
   "id": "c37f66f5-fce5-4e54-a122-56b992ed2f95",
   "metadata": {},
   "outputs": [
    {
     "data": {
      "text/plain": [
       "Constraint (unassigned)\n",
       "-----------------------\n",
       "+1 g[Coal] + 1 g[Wind] + 1 g[Gas] + 1 g[Oil] = 42000"
      ]
     },
     "execution_count": 22,
     "metadata": {},
     "output_type": "execute_result"
    }
   ],
   "source": [
    "g.sum() == load"
   ]
  },
  {
   "cell_type": "markdown",
   "id": "36ad37d3-5cbb-4097-9f9f-0440832359fa",
   "metadata": {},
   "source": [
    "It always helps to write out the constraints before adding them to the model. Since they look good, let’s assign them."
   ]
  },
  {
   "cell_type": "code",
   "execution_count": 23,
   "id": "f072d533-081c-4f6e-ac52-d1afcfeb971f",
   "metadata": {},
   "outputs": [
    {
     "data": {
      "text/plain": [
       "Constraint `total-generation-constraint`\n",
       "----------------------------------------\n",
       "+1 g[Coal] + 1 g[Wind] + 1 g[Gas] + 1 g[Oil] = 42000"
      ]
     },
     "execution_count": 23,
     "metadata": {},
     "output_type": "execute_result"
    }
   ],
   "source": [
    "m.add_constraints(g.sum() == load, name='total-generation-constraint')"
   ]
  },
  {
   "cell_type": "code",
   "execution_count": 24,
   "id": "af7839dd-8dac-4f36-845f-ef7f405c5a0b",
   "metadata": {},
   "outputs": [
    {
     "data": {
      "text/plain": [
       "LinearExpression\n",
       "----------------\n",
       "+30 g[Coal] + 0 g[Wind] + 60 g[Gas] + 80 g[Oil]"
      ]
     },
     "execution_count": 24,
     "metadata": {},
     "output_type": "execute_result"
    }
   ],
   "source": [
    "obj = (g*marginal_costs_series).sum()\n",
    "m.add_objective(obj)"
   ]
  },
  {
   "cell_type": "code",
   "execution_count": 25,
   "id": "1bd321b2-760f-48e4-b734-1c73daaf520d",
   "metadata": {},
   "outputs": [
    {
     "name": "stdout",
     "output_type": "stream",
     "text": [
      "Restricted license - for non-production use only - expires 2024-10-28\n",
      "Read LP format model from file C:\\Users\\huang\\AppData\\Local\\Temp\\linopy-problem-unwfqqyd.lp\n",
      "Reading time = 0.00 seconds\n",
      "obj: 1 rows, 4 columns, 4 nonzeros\n",
      "Gurobi Optimizer version 10.0.3 build v10.0.3rc0 (win64)\n",
      "\n",
      "CPU model: Intel(R) Core(TM) i7-10510U CPU @ 1.80GHz, instruction set [SSE2|AVX|AVX2]\n",
      "Thread count: 4 physical cores, 8 logical processors, using up to 8 threads\n",
      "\n",
      "Optimize a model with 1 rows, 4 columns and 4 nonzeros\n",
      "Model fingerprint: 0x9b6e654b\n",
      "Coefficient statistics:\n",
      "  Matrix range     [1e+00, 1e+00]\n",
      "  Objective range  [3e+01, 8e+01]\n",
      "  Bounds range     [2e+03, 4e+04]\n",
      "  RHS range        [4e+04, 4e+04]\n",
      "Presolve removed 1 rows and 4 columns\n",
      "Presolve time: 0.01s\n",
      "Presolve: All rows and columns removed\n",
      "Iteration    Objective       Primal Inf.    Dual Inf.      Time\n",
      "       0    1.2900000e+06   0.000000e+00   0.000000e+00      0s\n",
      "\n",
      "Solved in 0 iterations and 0.02 seconds (0.00 work units)\n",
      "Optimal objective  1.290000000e+06\n"
     ]
    },
    {
     "data": {
      "text/plain": [
       "('ok', 'optimal')"
      ]
     },
     "execution_count": 25,
     "metadata": {},
     "output_type": "execute_result"
    }
   ],
   "source": [
    "m.solve()"
   ]
  },
  {
   "cell_type": "code",
   "execution_count": 26,
   "id": "876e38fd-008a-4717-ab3b-0aadac8d41bc",
   "metadata": {},
   "outputs": [
    {
     "data": {
      "text/plain": [
       "array(['Coal', 'Wind', 'Gas', 'Oil'], dtype=object)"
      ]
     },
     "execution_count": 26,
     "metadata": {},
     "output_type": "execute_result"
    }
   ],
   "source": [
    "g.solution.fuel_type.values"
   ]
  },
  {
   "cell_type": "code",
   "execution_count": 27,
   "id": "f43d34e2-b6f5-4fa0-b11e-2cfe885f1dec",
   "metadata": {},
   "outputs": [
    {
     "data": {
      "text/plain": [
       "array([35000.,  3000.,  4000.,     0.])"
      ]
     },
     "execution_count": 27,
     "metadata": {},
     "output_type": "execute_result"
    }
   ],
   "source": [
    "g.solution.values"
   ]
  },
  {
   "cell_type": "code",
   "execution_count": 28,
   "id": "0e817296-bba9-4310-ba40-6477a1f13e69",
   "metadata": {},
   "outputs": [
    {
     "data": {
      "text/plain": [
       "{'Coal': 35000.0, 'Wind': 3000.0, 'Gas': 4000.0, 'Oil': 0.0}"
      ]
     },
     "execution_count": 28,
     "metadata": {},
     "output_type": "execute_result"
    }
   ],
   "source": [
    "results = dict(zip(g.solution.fuel_type.values, g.solution.values))\n",
    "results"
   ]
  },
  {
   "cell_type": "code",
   "execution_count": null,
   "id": "a5870398-3420-4443-aed4-ce407ea3ad2d",
   "metadata": {},
   "outputs": [],
   "source": []
  },
  {
   "cell_type": "code",
   "execution_count": null,
   "id": "320e96ff-d921-474f-a362-8ea65011b55f",
   "metadata": {},
   "outputs": [],
   "source": []
  },
  {
   "cell_type": "markdown",
   "id": "5cc105a5-7df0-4b76-90b7-85d8bafa2121",
   "metadata": {},
   "source": [
    "### Two bidding zones with transmission"
   ]
  },
  {
   "cell_type": "markdown",
   "id": "b1c5e8dc-21fd-4961-a2c5-4b6dae862efe",
   "metadata": {},
   "source": [
    "Let's add a spatial dimension, such that the optimisation problem is expanded to\n",
    "\\begin{equation}\n",
    "  \\min_{g_{i,s}, f_\\ell} \\sum_s o_{i,s} g_{i,s}\n",
    "\\end{equation}\n",
    "such that\n",
    "\\begin{align}\n",
    "  g_{i,s} &\\leq G_{i,s} \\\\\n",
    "  g_{i,s} &\\geq 0 \\\\\n",
    "  \\sum_s g_{i,s} - \\sum_\\ell K_{i\\ell} f_\\ell &= d_i & \\text{KCL} \\\\\n",
    "  |f_\\ell| &\\leq F_\\ell & \\text{line limits}  \\\\\n",
    "  \\sum_\\ell C_{\\ell c} x_\\ell f_\\ell &= 0 & \\text{KVL} \n",
    "\\end{align}\n",
    "\n",
    "In this example, we connect the previous South African electricity system with a hydro generation unit in Mozambique through a single transmission line. Note that because a single transmission line will not result in any cycles, we can neglect KVL in this case.\n",
    "\n",
    "We are given the following data (all in MW):"
   ]
  },
  {
   "cell_type": "code",
   "execution_count": 29,
   "id": "c3c0b045-67fa-4211-99bc-3100ec8adbf7",
   "metadata": {},
   "outputs": [],
   "source": [
    "capacities = {\n",
    "    \"South Africa\": {\"Coal\": 35000, \"Wind\": 3000, \"Gas\": 8000, \"Oil\": 2000,\"Hydro\": 0},\n",
    "    \"Mozambique\": {\"Coal\": 0, \"Wind\": 0, \"Gas\": 0, \"Oil\": 0,\"Hydro\": 1200},\n",
    "}"
   ]
  },
  {
   "cell_type": "code",
   "execution_count": 30,
   "id": "e2f2f248-2dcc-4a63-891c-5eef679261db",
   "metadata": {},
   "outputs": [],
   "source": [
    "transmission = 500"
   ]
  },
  {
   "cell_type": "code",
   "execution_count": 31,
   "id": "4317ef88-07bd-41e9-8943-c0aaf0472197",
   "metadata": {},
   "outputs": [],
   "source": [
    "loads = {\"South Africa\": 42000, \"Mozambique\": 650}"
   ]
  },
  {
   "cell_type": "code",
   "execution_count": 32,
   "id": "da6dc9b3-414b-4a28-b382-7ea0e3bf9815",
   "metadata": {},
   "outputs": [],
   "source": [
    "marginal_costs = {\n",
    "    \"Wind\": 0,\n",
    "    \"Coal\": 30,\n",
    "    \"Gas\": 60,\n",
    "    \"Oil\": 80,\n",
    "    \"Hydro\": 0,\n",
    "}"
   ]
  },
  {
   "cell_type": "code",
   "execution_count": 33,
   "id": "c8d260df-7129-4d1c-921a-0b1fa10a5236",
   "metadata": {},
   "outputs": [],
   "source": [
    "m = Model()"
   ]
  },
  {
   "cell_type": "code",
   "execution_count": 34,
   "id": "ee334601-2277-43fb-9e4f-9760ee117b4d",
   "metadata": {},
   "outputs": [
    {
     "data": {
      "text/plain": [
       "dict_keys(['Coal', 'Wind', 'Gas', 'Oil', 'Hydro'])"
      ]
     },
     "execution_count": 34,
     "metadata": {},
     "output_type": "execute_result"
    }
   ],
   "source": [
    "capacities[\"South Africa\"].keys()"
   ]
  },
  {
   "cell_type": "code",
   "execution_count": 35,
   "id": "5346aac1-a84f-40ed-b118-0aa81430022d",
   "metadata": {},
   "outputs": [
    {
     "data": {
      "text/plain": [
       "dict_keys(['Coal', 'Wind', 'Gas', 'Oil', 'Hydro'])"
      ]
     },
     "execution_count": 35,
     "metadata": {},
     "output_type": "execute_result"
    }
   ],
   "source": [
    "capacities[\"Mozambique\"].keys()"
   ]
  },
  {
   "cell_type": "code",
   "execution_count": 36,
   "id": "03b5db94-5080-4ae6-9b43-5d66a6e1fea5",
   "metadata": {},
   "outputs": [
    {
     "data": {
      "text/plain": [
       "Index(['Coal', 'Wind', 'Gas', 'Oil', 'Hydro'], dtype='object', name='fuel_type')"
      ]
     },
     "execution_count": 36,
     "metadata": {},
     "output_type": "execute_result"
    }
   ],
   "source": [
    "fuel_type = pd.Index(capacities[\"South Africa\"].keys(), name='fuel_type')\n",
    "fuel_type"
   ]
  },
  {
   "cell_type": "code",
   "execution_count": 37,
   "id": "c9a8e614-ba00-4c45-90f8-cc42efafab94",
   "metadata": {},
   "outputs": [
    {
     "data": {
      "text/plain": [
       "Coal     35000\n",
       "Wind      3000\n",
       "Gas       8000\n",
       "Oil       2000\n",
       "Hydro        0\n",
       "dtype: int64"
      ]
     },
     "execution_count": 37,
     "metadata": {},
     "output_type": "execute_result"
    }
   ],
   "source": [
    "capacities_series_south_africa = pd.Series(capacities[\"South Africa\"].values(),index=capacities[\"South Africa\"].keys())\n",
    "capacities_series_south_africa"
   ]
  },
  {
   "cell_type": "code",
   "execution_count": 38,
   "id": "361383b7-ba9b-466c-9263-5fd393073eba",
   "metadata": {},
   "outputs": [
    {
     "data": {
      "text/plain": [
       "Variable (fuel_type: 5)\n",
       "-----------------------\n",
       "[Coal]: g_south_africa[Coal] ∈ [0, 3.5e+04]\n",
       "[Wind]: g_south_africa[Wind] ∈ [0, 3000]\n",
       "[Gas]: g_south_africa[Gas] ∈ [0, 8000]\n",
       "[Oil]: g_south_africa[Oil] ∈ [0, 2000]\n",
       "[Hydro]: g_south_africa[Hydro] ∈ [0, 0]"
      ]
     },
     "execution_count": 38,
     "metadata": {},
     "output_type": "execute_result"
    }
   ],
   "source": [
    "g_south_africa = m.add_variables(lower=0, upper=capacities_series_south_africa, coords=[fuel_type], name='g_south_africa')\n",
    "g_south_africa"
   ]
  },
  {
   "cell_type": "code",
   "execution_count": 39,
   "id": "bcc815ba-1a47-4b37-a9a1-8db8ee4a797e",
   "metadata": {},
   "outputs": [
    {
     "data": {
      "text/plain": [
       "Coal        0\n",
       "Wind        0\n",
       "Gas         0\n",
       "Oil         0\n",
       "Hydro    1200\n",
       "dtype: int64"
      ]
     },
     "execution_count": 39,
     "metadata": {},
     "output_type": "execute_result"
    }
   ],
   "source": [
    "capacities_series_mozambique = pd.Series(capacities[\"Mozambique\"].values(),index=capacities[\"Mozambique\"].keys())\n",
    "capacities_series_mozambique"
   ]
  },
  {
   "cell_type": "code",
   "execution_count": 40,
   "id": "2199b51f-3236-4861-a857-2e4262e7751b",
   "metadata": {},
   "outputs": [
    {
     "data": {
      "text/plain": [
       "Variable (fuel_type: 5)\n",
       "-----------------------\n",
       "[Coal]: g_mozambique[Coal] ∈ [0, 0]\n",
       "[Wind]: g_mozambique[Wind] ∈ [0, 0]\n",
       "[Gas]: g_mozambique[Gas] ∈ [0, 0]\n",
       "[Oil]: g_mozambique[Oil] ∈ [0, 0]\n",
       "[Hydro]: g_mozambique[Hydro] ∈ [0, 1200]"
      ]
     },
     "execution_count": 40,
     "metadata": {},
     "output_type": "execute_result"
    }
   ],
   "source": [
    "g_mozambique = m.add_variables(lower=0, upper=capacities_series_mozambique, coords=[fuel_type], name='g_mozambique')\n",
    "g_mozambique"
   ]
  },
  {
   "cell_type": "code",
   "execution_count": 41,
   "id": "07f4dc44-bb40-443c-ad6c-002bf963203e",
   "metadata": {},
   "outputs": [
    {
     "data": {
      "text/plain": [
       "{'Coal': 30, 'Wind': 0, 'Gas': 60, 'Oil': 80, 'Hydro': 0}"
      ]
     },
     "execution_count": 41,
     "metadata": {},
     "output_type": "execute_result"
    }
   ],
   "source": [
    "marginal_costs_new = {k : marginal_costs[k] for k in capacities[\"South Africa\"].keys()}\n",
    "marginal_costs_new"
   ]
  },
  {
   "cell_type": "code",
   "execution_count": 42,
   "id": "3c0e3a52-c76d-4a53-b51b-adbfb069ae81",
   "metadata": {},
   "outputs": [
    {
     "data": {
      "text/plain": [
       "Coal     30\n",
       "Wind      0\n",
       "Gas      60\n",
       "Oil      80\n",
       "Hydro     0\n",
       "dtype: int64"
      ]
     },
     "execution_count": 42,
     "metadata": {},
     "output_type": "execute_result"
    }
   ],
   "source": [
    "marginal_costs_series= pd.Series(marginal_costs_new.values(),index=marginal_costs_new.keys())\n",
    "marginal_costs_series"
   ]
  },
  {
   "cell_type": "code",
   "execution_count": 43,
   "id": "eff346be-a400-47d1-98b9-fdeb6061f909",
   "metadata": {},
   "outputs": [
    {
     "data": {
      "text/plain": [
       "Variable\n",
       "--------\n",
       "line_flow ∈ [-500, 500]"
      ]
     },
     "execution_count": 43,
     "metadata": {},
     "output_type": "execute_result"
    }
   ],
   "source": [
    "line_flow=m.add_variables(lower=-1*transmission, upper=transmission, name='line_flow')\n",
    "line_flow"
   ]
  },
  {
   "cell_type": "code",
   "execution_count": 44,
   "id": "f0ce24d3-8e88-4288-977a-7e7fe02fc34d",
   "metadata": {},
   "outputs": [
    {
     "data": {
      "text/plain": [
       "Constraint (unassigned)\n",
       "-----------------------\n",
       "+1 g_south_africa[Coal] + 1 g_south_africa[Wind] + 1 g_south_africa[Gas] + 1 g_south_africa[Oil] + 1 g_south_africa[Hydro] - 1 line_flow = 42000"
      ]
     },
     "execution_count": 44,
     "metadata": {},
     "output_type": "execute_result"
    }
   ],
   "source": [
    "g_south_africa.sum() - line_flow == loads[\"South Africa\"]"
   ]
  },
  {
   "cell_type": "code",
   "execution_count": 45,
   "id": "2c16a284-8a3a-4f7e-8c55-6128dcfc10f5",
   "metadata": {},
   "outputs": [
    {
     "data": {
      "text/plain": [
       "Constraint `total-generation-constraint-south-africa`\n",
       "-----------------------------------------------------\n",
       "+1 g_south_africa[Coal] + 1 g_south_africa[Wind] + 1 g_south_africa[Gas] + 1 g_south_africa[Oil] + 1 g_south_africa[Hydro] - 1 line_flow = 42000"
      ]
     },
     "execution_count": 45,
     "metadata": {},
     "output_type": "execute_result"
    }
   ],
   "source": [
    "m.add_constraints(g_south_africa.sum() - line_flow == loads[\"South Africa\"], name='total-generation-constraint-south-africa')"
   ]
  },
  {
   "cell_type": "code",
   "execution_count": 46,
   "id": "01f5d13f-3c8b-4527-a42e-60f0775895ea",
   "metadata": {},
   "outputs": [
    {
     "data": {
      "text/plain": [
       "Constraint (unassigned)\n",
       "-----------------------\n",
       "+1 g_mozambique[Coal] + 1 g_mozambique[Wind] + 1 g_mozambique[Gas] + 1 g_mozambique[Oil] + 1 g_mozambique[Hydro] + 1 line_flow = 650"
      ]
     },
     "execution_count": 46,
     "metadata": {},
     "output_type": "execute_result"
    }
   ],
   "source": [
    "g_mozambique.sum() + line_flow == loads[\"Mozambique\"]"
   ]
  },
  {
   "cell_type": "code",
   "execution_count": 47,
   "id": "63e2b3c1-4b39-47f0-8ede-117b4f5c472c",
   "metadata": {},
   "outputs": [
    {
     "data": {
      "text/plain": [
       "Constraint `total-generation-constraint-mozambique`\n",
       "---------------------------------------------------\n",
       "+1 g_mozambique[Coal] + 1 g_mozambique[Wind] + 1 g_mozambique[Gas] + 1 g_mozambique[Oil] + 1 g_mozambique[Hydro] + 1 line_flow = 650"
      ]
     },
     "execution_count": 47,
     "metadata": {},
     "output_type": "execute_result"
    }
   ],
   "source": [
    "m.add_constraints(g_mozambique.sum() + line_flow == loads[\"Mozambique\"], name='total-generation-constraint-mozambique')"
   ]
  },
  {
   "cell_type": "code",
   "execution_count": 48,
   "id": "93377ba7-18cf-4ae8-a0bb-2ee87761f7af",
   "metadata": {},
   "outputs": [
    {
     "data": {
      "text/plain": [
       "LinearExpression\n",
       "----------------\n",
       "+30 g_south_africa[Coal] + 0 g_south_africa[Wind] + 60 g_south_africa[Gas] ... +60 g_mozambique[Gas] + 80 g_mozambique[Oil] + 0 g_mozambique[Hydro]"
      ]
     },
     "execution_count": 48,
     "metadata": {},
     "output_type": "execute_result"
    }
   ],
   "source": [
    "obj = (g_south_africa*marginal_costs_series).sum()+(g_mozambique*marginal_costs_series).sum()\n",
    "\n",
    "m.add_objective(obj)"
   ]
  },
  {
   "cell_type": "code",
   "execution_count": 49,
   "id": "904efea3-0b6a-4507-bf7f-19fdeb688e31",
   "metadata": {},
   "outputs": [
    {
     "name": "stdout",
     "output_type": "stream",
     "text": [
      "Restricted license - for non-production use only - expires 2024-10-28\n",
      "Read LP format model from file C:\\Users\\huang\\AppData\\Local\\Temp\\linopy-problem-k2kqdgcv.lp\n",
      "Reading time = 0.00 seconds\n",
      "obj: 2 rows, 11 columns, 12 nonzeros\n",
      "Gurobi Optimizer version 10.0.3 build v10.0.3rc0 (win64)\n",
      "\n",
      "CPU model: Intel(R) Core(TM) i7-10510U CPU @ 1.80GHz, instruction set [SSE2|AVX|AVX2]\n",
      "Thread count: 4 physical cores, 8 logical processors, using up to 8 threads\n",
      "\n",
      "Optimize a model with 2 rows, 11 columns and 12 nonzeros\n",
      "Model fingerprint: 0xa36f3a24\n",
      "Coefficient statistics:\n",
      "  Matrix range     [1e+00, 1e+00]\n",
      "  Objective range  [3e+01, 8e+01]\n",
      "  Bounds range     [5e+02, 4e+04]\n",
      "  RHS range        [7e+02, 4e+04]\n",
      "Presolve removed 2 rows and 11 columns\n",
      "Presolve time: 0.01s\n",
      "Presolve: All rows and columns removed\n",
      "Iteration    Objective       Primal Inf.    Dual Inf.      Time\n",
      "       0    1.2600000e+06   0.000000e+00   0.000000e+00      0s\n",
      "\n",
      "Solved in 0 iterations and 0.02 seconds (0.00 work units)\n",
      "Optimal objective  1.260000000e+06\n"
     ]
    },
    {
     "data": {
      "text/plain": [
       "('ok', 'optimal')"
      ]
     },
     "execution_count": 49,
     "metadata": {},
     "output_type": "execute_result"
    }
   ],
   "source": [
    "m.solve()"
   ]
  },
  {
   "cell_type": "code",
   "execution_count": 50,
   "id": "842e3b63-a7d4-4348-8909-b723b1b6c5d3",
   "metadata": {},
   "outputs": [
    {
     "data": {
      "text/plain": [
       "array(['Coal', 'Wind', 'Gas', 'Oil', 'Hydro'], dtype=object)"
      ]
     },
     "execution_count": 50,
     "metadata": {},
     "output_type": "execute_result"
    }
   ],
   "source": [
    "g_south_africa.solution.fuel_type.values"
   ]
  },
  {
   "cell_type": "code",
   "execution_count": 51,
   "id": "d5ad3015-9299-4e99-9ba7-a4359af3e18f",
   "metadata": {},
   "outputs": [
    {
     "data": {
      "text/plain": [
       "array([35000.,  3000.,  3500.,     0.,     0.])"
      ]
     },
     "execution_count": 51,
     "metadata": {},
     "output_type": "execute_result"
    }
   ],
   "source": [
    "g_south_africa.solution.values"
   ]
  },
  {
   "cell_type": "code",
   "execution_count": 52,
   "id": "b787681e-11df-49f8-9171-5656e9c8e243",
   "metadata": {},
   "outputs": [
    {
     "data": {
      "text/plain": [
       "{'Coal': 35000.0, 'Wind': 3000.0, 'Gas': 3500.0, 'Oil': 0.0, 'Hydro': 0.0}"
      ]
     },
     "execution_count": 52,
     "metadata": {},
     "output_type": "execute_result"
    }
   ],
   "source": [
    "results_south_africa = dict(zip(g_south_africa.solution.fuel_type.values, g_south_africa.solution.values))\n",
    "results_south_africa"
   ]
  },
  {
   "cell_type": "code",
   "execution_count": 53,
   "id": "36f746d9-9a33-4930-a915-1c273ddf335c",
   "metadata": {},
   "outputs": [
    {
     "data": {
      "text/plain": [
       "array(['Coal', 'Wind', 'Gas', 'Oil', 'Hydro'], dtype=object)"
      ]
     },
     "execution_count": 53,
     "metadata": {},
     "output_type": "execute_result"
    }
   ],
   "source": [
    "g_mozambique.solution.fuel_type.values"
   ]
  },
  {
   "cell_type": "code",
   "execution_count": 54,
   "id": "be9332a5-86da-41fb-9b43-141b11ff44a2",
   "metadata": {},
   "outputs": [
    {
     "data": {
      "text/plain": [
       "array([   0.,    0.,    0.,    0., 1150.])"
      ]
     },
     "execution_count": 54,
     "metadata": {},
     "output_type": "execute_result"
    }
   ],
   "source": [
    "g_mozambique.solution.values"
   ]
  },
  {
   "cell_type": "code",
   "execution_count": 55,
   "id": "866ea6d3-a0ad-4cf2-befa-be0f09f4ef5b",
   "metadata": {},
   "outputs": [
    {
     "data": {
      "text/plain": [
       "{'Coal': 0.0, 'Wind': 0.0, 'Gas': 0.0, 'Oil': 0.0, 'Hydro': 1150.0}"
      ]
     },
     "execution_count": 55,
     "metadata": {},
     "output_type": "execute_result"
    }
   ],
   "source": [
    "results_mozambique = dict(zip(g_mozambique.solution.fuel_type.values, g_mozambique.solution.values))\n",
    "results_mozambique"
   ]
  },
  {
   "cell_type": "code",
   "execution_count": null,
   "id": "4188037c-4e4f-4c2c-94c8-354e719ce4ff",
   "metadata": {},
   "outputs": [],
   "source": []
  },
  {
   "cell_type": "code",
   "execution_count": null,
   "id": "6ff1b226-b4f0-4757-b55b-8fabfa9a4d97",
   "metadata": {},
   "outputs": [],
   "source": []
  },
  {
   "cell_type": "code",
   "execution_count": null,
   "id": "a9680a42-7834-49ba-a3bb-f22e7f06389c",
   "metadata": {},
   "outputs": [],
   "source": []
  }
 ],
 "metadata": {
  "kernelspec": {
   "display_name": "Python 3 (ipykernel)",
   "language": "python",
   "name": "python3"
  },
  "language_info": {
   "codemirror_mode": {
    "name": "ipython",
    "version": 3
   },
   "file_extension": ".py",
   "mimetype": "text/x-python",
   "name": "python",
   "nbconvert_exporter": "python",
   "pygments_lexer": "ipython3",
   "version": "3.10.13"
  }
 },
 "nbformat": 4,
 "nbformat_minor": 5
}
