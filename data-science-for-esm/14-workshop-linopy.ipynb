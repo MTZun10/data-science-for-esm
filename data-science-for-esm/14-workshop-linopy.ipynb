{
 "cells": [
  {
   "cell_type": "markdown",
   "id": "47098e73-2dbb-4b9d-8abf-c2de66e1f264",
   "metadata": {},
   "source": [
    "# Introduction to `linopy`"
   ]
  },
  {
   "cell_type": "markdown",
   "id": "cdd93543-0b5c-4e03-adc5-5c9d44c7774a",
   "metadata": {},
   "source": [
    ":::{note}\n",
    "This material is in part adapted from the following resources:\n",
    "- [Linopy Getting Started](https://linopy.readthedocs.io/en/latest/index.html)\n",
    "- [PyPSA simple electricity market examples](https://pypsa.readthedocs.io/en/latest/examples/simple-electricity-market-examples.html)\n",
    ":::\n",
    "\n",
    "<img src=\"https://github.com/PyPSA/linopy/blob/master/doc/logo.png?raw=true\" width=\"300px\" />\n",
    "\n",
    "[Linopy](https://linopy.readthedocs.io/en/latest/index.html)  is an open-source framework for formulating, solving, and analyzing optimization problems with Python.\n",
    "\n",
    "With Linopy, you can create optimization models within Python that consist of decision variables, constraints, and optimization objectives. You can then solve these instances using a variety of commercial and open-source solvers (specialised software).\n",
    "\n",
    "[Linopy](https://linopy.readthedocs.io/en/latest/index.html) supports a wide range of problem types, including:\n",
    "\n",
    "- **Linear programming**\n",
    "- Integer programming\n",
    "- Mixed-integer programming\n",
    "- Quadratic programming\n",
    "\n",
    "\n",
    ":::{note}\n",
    "Documentation for this package is available at https://linopy.readthedocs.io.\n",
    ":::"
   ]
  },
  {
   "cell_type": "markdown",
   "id": "e6221514-355e-40eb-9194-b9026add6e40",
   "metadata": {},
   "source": [
    ":::{note}\n",
    "If you have not yet set up Python on your computer, you can execute this tutorial in your browser via [Google Colab](https://colab.research.google.com/). Click on the rocket in the top right corner and launch \"Colab\". If that doesn't work download the `.ipynb` file and import it in [Google Colab](https://colab.research.google.com/).\n",
    "\n",
    "Then install the following packages by executing the following command in a Jupyter cell at the top of the notebook.\n",
    "\n",
    "```sh\n",
    "!pip install pandas linopy highspy\n",
    "```\n",
    ":::"
   ]
  },
  {
   "cell_type": "markdown",
   "id": "72fb5873-a86d-45e4-9c85-eca1b96d1da6",
   "metadata": {},
   "source": [
    "## Solve a Basic Model\n",
    "\n",
    "In this example, we explain the basic functions of the linopy Model class. First, we are setting up a very simple linear optimization model, given by\n",
    "\n",
    "Minimize:\n",
    "    $$x + 2y$$\n",
    "subject to:\n",
    "    $$ x \\ge 0 $$\n",
    "    $$y \\ge 0 $$\n",
    "    $$3x + 7y \\ge 10 $$\n",
    "    $$5x + 2y \\ge 3 $$"
   ]
  },
  {
   "cell_type": "markdown",
   "id": "cc582211-9363-4107-932c-48c9c2279535",
   "metadata": {},
   "source": [
    "### Initializing a `Model`\n",
    "\n",
    "The Model class in Linopy is a fundamental part of the library. It serves as a container for all the relevant data associated with a linear optimization problem. This includes variables, constraints, and the objective function."
   ]
  },
  {
   "cell_type": "code",
   "execution_count": 1,
   "id": "d94292b1-8073-49a8-a2e9-a2c769145b2d",
   "metadata": {},
   "outputs": [],
   "source": [
    "import linopy\n",
    "import numpy as np\n",
    "\n",
    "m = linopy.Model()"
   ]
  },
  {
   "cell_type": "markdown",
   "id": "bf2b2258-f0f3-4118-ac39-6d902e1d61e3",
   "metadata": {},
   "source": [
    "This creates a new Model object, which you can then use to define your optimization problem."
   ]
  },
  {
   "cell_type": "markdown",
   "id": "4844ce4c-4ba6-4dec-957a-69dce93c07f0",
   "metadata": {},
   "source": [
    "### Adding variables\n",
    "\n",
    "Variables in a linear optimization problem represent the decision variables. A variable can always be assigned with a lower and an upper bound. In our case, both `x` and `y` have a lower bound of zero (default is unbouded). In Linopy, you can add variables to a Model using the `add_variables` method:"
   ]
  },
  {
   "cell_type": "code",
   "execution_count": 2,
   "id": "64b35f1c-5398-4eb3-9135-aafce270b79b",
   "metadata": {},
   "outputs": [],
   "source": [
    "x = m.add_variables(lower=0, name=\"x\")\n",
    "y = m.add_variables(lower=0, name=\"y\");"
   ]
  },
  {
   "cell_type": "markdown",
   "id": "57bd1e94-7ead-4c86-a590-f2c2998b5f92",
   "metadata": {},
   "source": [
    "`x` and `y` are linopy variables of the class `linopy.Variable`. Each of them contain all relevant information that define it. The `name` parameter is optional but can be useful for referencing the variables later."
   ]
  },
  {
   "cell_type": "code",
   "execution_count": 3,
   "id": "19d4b5f5-b9ae-48f6-8ce6-cd4a418dba6b",
   "metadata": {},
   "outputs": [
    {
     "data": {
      "text/plain": [
       "Variable\n",
       "--------\n",
       "x ∈ [0, inf]"
      ]
     },
     "execution_count": 3,
     "metadata": {},
     "output_type": "execute_result"
    }
   ],
   "source": [
    "x"
   ]
  },
  {
   "cell_type": "markdown",
   "id": "d07cc8d8-1ea6-47e2-9b84-5326948a602b",
   "metadata": {},
   "source": [
    "### Adding Constraints\n",
    "\n",
    "Constraints define the feasible region of the optimization problem. They consist of the left hand side (lhs) and the right hand side (rhs). The first constraint that we want to write down is $3x + 7y = 10$ which we write out exactly in the mathematical way:"
   ]
  },
  {
   "cell_type": "code",
   "execution_count": 4,
   "id": "1df4589f-4c99-46b5-a530-63f99b4515cc",
   "metadata": {},
   "outputs": [
    {
     "data": {
      "text/plain": [
       "Constraint (unassigned)\n",
       "-----------------------\n",
       "+3 x + 7 y ≥ 10.0"
      ]
     },
     "execution_count": 4,
     "metadata": {},
     "output_type": "execute_result"
    }
   ],
   "source": [
    "3 * x + 7 * y >= 10"
   ]
  },
  {
   "cell_type": "markdown",
   "id": "2b7ddd9a-8601-4a06-9d40-b8760651bd2a",
   "metadata": {},
   "source": [
    "Note, we can also mix the constant and the variable expression, like this"
   ]
  },
  {
   "cell_type": "code",
   "execution_count": 5,
   "id": "688e0f65-9198-49b2-915a-2131084224c1",
   "metadata": {},
   "outputs": [
    {
     "data": {
      "text/plain": [
       "Constraint (unassigned)\n",
       "-----------------------\n",
       "+3 x + 7 y ≥ 10.0"
      ]
     },
     "execution_count": 5,
     "metadata": {},
     "output_type": "execute_result"
    }
   ],
   "source": [
    "3 * x + 7 * y - 10 >= 0"
   ]
  },
  {
   "cell_type": "markdown",
   "id": "a45ca5fa-0696-4688-a1e2-16c8eb06644b",
   "metadata": {},
   "source": [
    "… and linopy will automatically take over the separation of variables expression on the lhs, and constant values on the rhs."
   ]
  },
  {
   "cell_type": "markdown",
   "id": "f18d18a3-671f-4190-9257-4541e6c88c61",
   "metadata": {},
   "source": [
    "The constraint is currently not assigned to the model. We assign it by calling the function `m.add_constraints`"
   ]
  },
  {
   "cell_type": "code",
   "execution_count": 6,
   "id": "fa233f5c-38ec-4a5a-9008-502932df968d",
   "metadata": {},
   "outputs": [],
   "source": [
    "m.add_constraints(3 * x + 7 * y >= 10)\n",
    "m.add_constraints(5 * x + 2 * y >= 3);"
   ]
  },
  {
   "cell_type": "markdown",
   "id": "f7fc48a8-ab7e-4baf-93d2-ff907e543db1",
   "metadata": {},
   "source": [
    "### Adding the Objective \n",
    "\n",
    "The objective function defines what you want to optimize. You can set the objective function of a Model in Linopy using the add_objective method. For our example that would be"
   ]
  },
  {
   "cell_type": "code",
   "execution_count": 7,
   "id": "18c6e6ce-37f9-4527-83a4-e5764b67b34c",
   "metadata": {},
   "outputs": [],
   "source": [
    "m.add_objective(x + 2 * y, sense=\"min\")"
   ]
  },
  {
   "cell_type": "markdown",
   "id": "014ba3b0-afa4-46bf-a84a-0553eef830a5",
   "metadata": {},
   "source": [
    "Note, we can either minimize or maximize in Linopy. Per default, Linopy applies `sense='min'` making it not necessary to explicitly define the optimization sense."
   ]
  },
  {
   "cell_type": "markdown",
   "id": "b8ec9c21-de8c-40a1-8d30-2e3ee3f6d7ed",
   "metadata": {},
   "source": [
    "### Solving the Model\n",
    "\n",
    "Once you've defined your Model with variables, constraints, and an objective function, you can solve it using the `solve` method:"
   ]
  },
  {
   "cell_type": "code",
   "execution_count": 8,
   "id": "712a0033-d027-478a-b8f2-201ec4ed1cc1",
   "metadata": {},
   "outputs": [
    {
     "name": "stdout",
     "output_type": "stream",
     "text": [
      "Restricted license - for non-production use only - expires 2024-10-28\n",
      "Read LP format model from file C:\\Users\\huang\\AppData\\Local\\Temp\\linopy-problem-tdgo97kt.lp\n",
      "Reading time = 0.00 seconds\n",
      "obj: 2 rows, 2 columns, 4 nonzeros\n",
      "Gurobi Optimizer version 10.0.3 build v10.0.3rc0 (win64)\n",
      "\n",
      "CPU model: Intel(R) Core(TM) i7-10510U CPU @ 1.80GHz, instruction set [SSE2|AVX|AVX2]\n",
      "Thread count: 4 physical cores, 8 logical processors, using up to 8 threads\n",
      "\n",
      "Optimize a model with 2 rows, 2 columns and 4 nonzeros\n",
      "Model fingerprint: 0x4c5ee539\n",
      "Coefficient statistics:\n",
      "  Matrix range     [2e+00, 7e+00]\n",
      "  Objective range  [1e+00, 2e+00]\n",
      "  Bounds range     [0e+00, 0e+00]\n",
      "  RHS range        [3e+00, 1e+01]\n",
      "Presolve time: 0.01s\n",
      "Presolved: 2 rows, 2 columns, 4 nonzeros\n",
      "\n",
      "Iteration    Objective       Primal Inf.    Dual Inf.      Time\n",
      "       0    0.0000000e+00   1.625000e+00   0.000000e+00      0s\n",
      "       2    2.8620690e+00   0.000000e+00   0.000000e+00      0s\n",
      "\n",
      "Solved in 2 iterations and 0.02 seconds (0.00 work units)\n",
      "Optimal objective  2.862068966e+00\n"
     ]
    },
    {
     "data": {
      "text/plain": [
       "('ok', 'optimal')"
      ]
     },
     "execution_count": 8,
     "metadata": {},
     "output_type": "execute_result"
    }
   ],
   "source": [
    "m.solve()"
   ]
  },
  {
   "cell_type": "markdown",
   "id": "ca69649b-0fa6-4ca6-a557-8eb913895b19",
   "metadata": {},
   "source": [
    "The solution of the linear problem assigned to the variables under `solution` in form of a `xarray.Dataset`."
   ]
  },
  {
   "cell_type": "code",
   "execution_count": 9,
   "id": "1f28aa81-d16f-4b7e-9d8e-f661d4b8bcd8",
   "metadata": {},
   "outputs": [
    {
     "data": {
      "text/html": [
       "<div><svg style=\"position: absolute; width: 0; height: 0; overflow: hidden\">\n",
       "<defs>\n",
       "<symbol id=\"icon-database\" viewBox=\"0 0 32 32\">\n",
       "<path d=\"M16 0c-8.837 0-16 2.239-16 5v4c0 2.761 7.163 5 16 5s16-2.239 16-5v-4c0-2.761-7.163-5-16-5z\"></path>\n",
       "<path d=\"M16 17c-8.837 0-16-2.239-16-5v6c0 2.761 7.163 5 16 5s16-2.239 16-5v-6c0 2.761-7.163 5-16 5z\"></path>\n",
       "<path d=\"M16 26c-8.837 0-16-2.239-16-5v6c0 2.761 7.163 5 16 5s16-2.239 16-5v-6c0 2.761-7.163 5-16 5z\"></path>\n",
       "</symbol>\n",
       "<symbol id=\"icon-file-text2\" viewBox=\"0 0 32 32\">\n",
       "<path d=\"M28.681 7.159c-0.694-0.947-1.662-2.053-2.724-3.116s-2.169-2.030-3.116-2.724c-1.612-1.182-2.393-1.319-2.841-1.319h-15.5c-1.378 0-2.5 1.121-2.5 2.5v27c0 1.378 1.122 2.5 2.5 2.5h23c1.378 0 2.5-1.122 2.5-2.5v-19.5c0-0.448-0.137-1.23-1.319-2.841zM24.543 5.457c0.959 0.959 1.712 1.825 2.268 2.543h-4.811v-4.811c0.718 0.556 1.584 1.309 2.543 2.268zM28 29.5c0 0.271-0.229 0.5-0.5 0.5h-23c-0.271 0-0.5-0.229-0.5-0.5v-27c0-0.271 0.229-0.5 0.5-0.5 0 0 15.499-0 15.5 0v7c0 0.552 0.448 1 1 1h7v19.5z\"></path>\n",
       "<path d=\"M23 26h-14c-0.552 0-1-0.448-1-1s0.448-1 1-1h14c0.552 0 1 0.448 1 1s-0.448 1-1 1z\"></path>\n",
       "<path d=\"M23 22h-14c-0.552 0-1-0.448-1-1s0.448-1 1-1h14c0.552 0 1 0.448 1 1s-0.448 1-1 1z\"></path>\n",
       "<path d=\"M23 18h-14c-0.552 0-1-0.448-1-1s0.448-1 1-1h14c0.552 0 1 0.448 1 1s-0.448 1-1 1z\"></path>\n",
       "</symbol>\n",
       "</defs>\n",
       "</svg>\n",
       "<style>/* CSS stylesheet for displaying xarray objects in jupyterlab.\n",
       " *\n",
       " */\n",
       "\n",
       ":root {\n",
       "  --xr-font-color0: var(--jp-content-font-color0, rgba(0, 0, 0, 1));\n",
       "  --xr-font-color2: var(--jp-content-font-color2, rgba(0, 0, 0, 0.54));\n",
       "  --xr-font-color3: var(--jp-content-font-color3, rgba(0, 0, 0, 0.38));\n",
       "  --xr-border-color: var(--jp-border-color2, #e0e0e0);\n",
       "  --xr-disabled-color: var(--jp-layout-color3, #bdbdbd);\n",
       "  --xr-background-color: var(--jp-layout-color0, white);\n",
       "  --xr-background-color-row-even: var(--jp-layout-color1, white);\n",
       "  --xr-background-color-row-odd: var(--jp-layout-color2, #eeeeee);\n",
       "}\n",
       "\n",
       "html[theme=dark],\n",
       "body[data-theme=dark],\n",
       "body.vscode-dark {\n",
       "  --xr-font-color0: rgba(255, 255, 255, 1);\n",
       "  --xr-font-color2: rgba(255, 255, 255, 0.54);\n",
       "  --xr-font-color3: rgba(255, 255, 255, 0.38);\n",
       "  --xr-border-color: #1F1F1F;\n",
       "  --xr-disabled-color: #515151;\n",
       "  --xr-background-color: #111111;\n",
       "  --xr-background-color-row-even: #111111;\n",
       "  --xr-background-color-row-odd: #313131;\n",
       "}\n",
       "\n",
       ".xr-wrap {\n",
       "  display: block !important;\n",
       "  min-width: 300px;\n",
       "  max-width: 700px;\n",
       "}\n",
       "\n",
       ".xr-text-repr-fallback {\n",
       "  /* fallback to plain text repr when CSS is not injected (untrusted notebook) */\n",
       "  display: none;\n",
       "}\n",
       "\n",
       ".xr-header {\n",
       "  padding-top: 6px;\n",
       "  padding-bottom: 6px;\n",
       "  margin-bottom: 4px;\n",
       "  border-bottom: solid 1px var(--xr-border-color);\n",
       "}\n",
       "\n",
       ".xr-header > div,\n",
       ".xr-header > ul {\n",
       "  display: inline;\n",
       "  margin-top: 0;\n",
       "  margin-bottom: 0;\n",
       "}\n",
       "\n",
       ".xr-obj-type,\n",
       ".xr-array-name {\n",
       "  margin-left: 2px;\n",
       "  margin-right: 10px;\n",
       "}\n",
       "\n",
       ".xr-obj-type {\n",
       "  color: var(--xr-font-color2);\n",
       "}\n",
       "\n",
       ".xr-sections {\n",
       "  padding-left: 0 !important;\n",
       "  display: grid;\n",
       "  grid-template-columns: 150px auto auto 1fr 20px 20px;\n",
       "}\n",
       "\n",
       ".xr-section-item {\n",
       "  display: contents;\n",
       "}\n",
       "\n",
       ".xr-section-item input {\n",
       "  display: none;\n",
       "}\n",
       "\n",
       ".xr-section-item input + label {\n",
       "  color: var(--xr-disabled-color);\n",
       "}\n",
       "\n",
       ".xr-section-item input:enabled + label {\n",
       "  cursor: pointer;\n",
       "  color: var(--xr-font-color2);\n",
       "}\n",
       "\n",
       ".xr-section-item input:enabled + label:hover {\n",
       "  color: var(--xr-font-color0);\n",
       "}\n",
       "\n",
       ".xr-section-summary {\n",
       "  grid-column: 1;\n",
       "  color: var(--xr-font-color2);\n",
       "  font-weight: 500;\n",
       "}\n",
       "\n",
       ".xr-section-summary > span {\n",
       "  display: inline-block;\n",
       "  padding-left: 0.5em;\n",
       "}\n",
       "\n",
       ".xr-section-summary-in:disabled + label {\n",
       "  color: var(--xr-font-color2);\n",
       "}\n",
       "\n",
       ".xr-section-summary-in + label:before {\n",
       "  display: inline-block;\n",
       "  content: '►';\n",
       "  font-size: 11px;\n",
       "  width: 15px;\n",
       "  text-align: center;\n",
       "}\n",
       "\n",
       ".xr-section-summary-in:disabled + label:before {\n",
       "  color: var(--xr-disabled-color);\n",
       "}\n",
       "\n",
       ".xr-section-summary-in:checked + label:before {\n",
       "  content: '▼';\n",
       "}\n",
       "\n",
       ".xr-section-summary-in:checked + label > span {\n",
       "  display: none;\n",
       "}\n",
       "\n",
       ".xr-section-summary,\n",
       ".xr-section-inline-details {\n",
       "  padding-top: 4px;\n",
       "  padding-bottom: 4px;\n",
       "}\n",
       "\n",
       ".xr-section-inline-details {\n",
       "  grid-column: 2 / -1;\n",
       "}\n",
       "\n",
       ".xr-section-details {\n",
       "  display: none;\n",
       "  grid-column: 1 / -1;\n",
       "  margin-bottom: 5px;\n",
       "}\n",
       "\n",
       ".xr-section-summary-in:checked ~ .xr-section-details {\n",
       "  display: contents;\n",
       "}\n",
       "\n",
       ".xr-array-wrap {\n",
       "  grid-column: 1 / -1;\n",
       "  display: grid;\n",
       "  grid-template-columns: 20px auto;\n",
       "}\n",
       "\n",
       ".xr-array-wrap > label {\n",
       "  grid-column: 1;\n",
       "  vertical-align: top;\n",
       "}\n",
       "\n",
       ".xr-preview {\n",
       "  color: var(--xr-font-color3);\n",
       "}\n",
       "\n",
       ".xr-array-preview,\n",
       ".xr-array-data {\n",
       "  padding: 0 5px !important;\n",
       "  grid-column: 2;\n",
       "}\n",
       "\n",
       ".xr-array-data,\n",
       ".xr-array-in:checked ~ .xr-array-preview {\n",
       "  display: none;\n",
       "}\n",
       "\n",
       ".xr-array-in:checked ~ .xr-array-data,\n",
       ".xr-array-preview {\n",
       "  display: inline-block;\n",
       "}\n",
       "\n",
       ".xr-dim-list {\n",
       "  display: inline-block !important;\n",
       "  list-style: none;\n",
       "  padding: 0 !important;\n",
       "  margin: 0;\n",
       "}\n",
       "\n",
       ".xr-dim-list li {\n",
       "  display: inline-block;\n",
       "  padding: 0;\n",
       "  margin: 0;\n",
       "}\n",
       "\n",
       ".xr-dim-list:before {\n",
       "  content: '(';\n",
       "}\n",
       "\n",
       ".xr-dim-list:after {\n",
       "  content: ')';\n",
       "}\n",
       "\n",
       ".xr-dim-list li:not(:last-child):after {\n",
       "  content: ',';\n",
       "  padding-right: 5px;\n",
       "}\n",
       "\n",
       ".xr-has-index {\n",
       "  font-weight: bold;\n",
       "}\n",
       "\n",
       ".xr-var-list,\n",
       ".xr-var-item {\n",
       "  display: contents;\n",
       "}\n",
       "\n",
       ".xr-var-item > div,\n",
       ".xr-var-item label,\n",
       ".xr-var-item > .xr-var-name span {\n",
       "  background-color: var(--xr-background-color-row-even);\n",
       "  margin-bottom: 0;\n",
       "}\n",
       "\n",
       ".xr-var-item > .xr-var-name:hover span {\n",
       "  padding-right: 5px;\n",
       "}\n",
       "\n",
       ".xr-var-list > li:nth-child(odd) > div,\n",
       ".xr-var-list > li:nth-child(odd) > label,\n",
       ".xr-var-list > li:nth-child(odd) > .xr-var-name span {\n",
       "  background-color: var(--xr-background-color-row-odd);\n",
       "}\n",
       "\n",
       ".xr-var-name {\n",
       "  grid-column: 1;\n",
       "}\n",
       "\n",
       ".xr-var-dims {\n",
       "  grid-column: 2;\n",
       "}\n",
       "\n",
       ".xr-var-dtype {\n",
       "  grid-column: 3;\n",
       "  text-align: right;\n",
       "  color: var(--xr-font-color2);\n",
       "}\n",
       "\n",
       ".xr-var-preview {\n",
       "  grid-column: 4;\n",
       "}\n",
       "\n",
       ".xr-index-preview {\n",
       "  grid-column: 2 / 5;\n",
       "  color: var(--xr-font-color2);\n",
       "}\n",
       "\n",
       ".xr-var-name,\n",
       ".xr-var-dims,\n",
       ".xr-var-dtype,\n",
       ".xr-preview,\n",
       ".xr-attrs dt {\n",
       "  white-space: nowrap;\n",
       "  overflow: hidden;\n",
       "  text-overflow: ellipsis;\n",
       "  padding-right: 10px;\n",
       "}\n",
       "\n",
       ".xr-var-name:hover,\n",
       ".xr-var-dims:hover,\n",
       ".xr-var-dtype:hover,\n",
       ".xr-attrs dt:hover {\n",
       "  overflow: visible;\n",
       "  width: auto;\n",
       "  z-index: 1;\n",
       "}\n",
       "\n",
       ".xr-var-attrs,\n",
       ".xr-var-data,\n",
       ".xr-index-data {\n",
       "  display: none;\n",
       "  background-color: var(--xr-background-color) !important;\n",
       "  padding-bottom: 5px !important;\n",
       "}\n",
       "\n",
       ".xr-var-attrs-in:checked ~ .xr-var-attrs,\n",
       ".xr-var-data-in:checked ~ .xr-var-data,\n",
       ".xr-index-data-in:checked ~ .xr-index-data {\n",
       "  display: block;\n",
       "}\n",
       "\n",
       ".xr-var-data > table {\n",
       "  float: right;\n",
       "}\n",
       "\n",
       ".xr-var-name span,\n",
       ".xr-var-data,\n",
       ".xr-index-name div,\n",
       ".xr-index-data,\n",
       ".xr-attrs {\n",
       "  padding-left: 25px !important;\n",
       "}\n",
       "\n",
       ".xr-attrs,\n",
       ".xr-var-attrs,\n",
       ".xr-var-data,\n",
       ".xr-index-data {\n",
       "  grid-column: 1 / -1;\n",
       "}\n",
       "\n",
       "dl.xr-attrs {\n",
       "  padding: 0;\n",
       "  margin: 0;\n",
       "  display: grid;\n",
       "  grid-template-columns: 125px auto;\n",
       "}\n",
       "\n",
       ".xr-attrs dt,\n",
       ".xr-attrs dd {\n",
       "  padding: 0;\n",
       "  margin: 0;\n",
       "  float: left;\n",
       "  padding-right: 10px;\n",
       "  width: auto;\n",
       "}\n",
       "\n",
       ".xr-attrs dt {\n",
       "  font-weight: normal;\n",
       "  grid-column: 1;\n",
       "}\n",
       "\n",
       ".xr-attrs dt:hover span {\n",
       "  display: inline-block;\n",
       "  background: var(--xr-background-color);\n",
       "  padding-right: 10px;\n",
       "}\n",
       "\n",
       ".xr-attrs dd {\n",
       "  grid-column: 2;\n",
       "  white-space: pre-wrap;\n",
       "  word-break: break-all;\n",
       "}\n",
       "\n",
       ".xr-icon-database,\n",
       ".xr-icon-file-text2,\n",
       ".xr-no-icon {\n",
       "  display: inline-block;\n",
       "  vertical-align: middle;\n",
       "  width: 1em;\n",
       "  height: 1.5em !important;\n",
       "  stroke-width: 0;\n",
       "  stroke: currentColor;\n",
       "  fill: currentColor;\n",
       "}\n",
       "</style><pre class='xr-text-repr-fallback'>&lt;xarray.DataArray &#x27;solution&#x27; ()&gt;\n",
       "array(0.03448276)</pre><div class='xr-wrap' style='display:none'><div class='xr-header'><div class='xr-obj-type'>xarray.DataArray</div><div class='xr-array-name'>'solution'</div></div><ul class='xr-sections'><li class='xr-section-item'><div class='xr-array-wrap'><input id='section-80c1d16d-6043-4622-b535-d3fb63efff63' class='xr-array-in' type='checkbox' checked><label for='section-80c1d16d-6043-4622-b535-d3fb63efff63' title='Show/hide data repr'><svg class='icon xr-icon-database'><use xlink:href='#icon-database'></use></svg></label><div class='xr-array-preview xr-preview'><span>0.03448</span></div><div class='xr-array-data'><pre>array(0.03448276)</pre></div></div></li><li class='xr-section-item'><input id='section-937ca999-0d07-4930-a0a5-bbcbce74f2a7' class='xr-section-summary-in' type='checkbox' disabled ><label for='section-937ca999-0d07-4930-a0a5-bbcbce74f2a7' class='xr-section-summary'  title='Expand/collapse section'>Coordinates: <span>(0)</span></label><div class='xr-section-inline-details'></div><div class='xr-section-details'><ul class='xr-var-list'></ul></div></li><li class='xr-section-item'><input id='section-ac5fdfa4-4228-4e40-81e1-e8d19d5a23d6' class='xr-section-summary-in' type='checkbox' disabled ><label for='section-ac5fdfa4-4228-4e40-81e1-e8d19d5a23d6' class='xr-section-summary'  title='Expand/collapse section'>Indexes: <span>(0)</span></label><div class='xr-section-inline-details'></div><div class='xr-section-details'><ul class='xr-var-list'></ul></div></li><li class='xr-section-item'><input id='section-e2ccac06-5bd6-43cc-8b7c-67123eccc9d9' class='xr-section-summary-in' type='checkbox' disabled ><label for='section-e2ccac06-5bd6-43cc-8b7c-67123eccc9d9' class='xr-section-summary'  title='Expand/collapse section'>Attributes: <span>(0)</span></label><div class='xr-section-inline-details'></div><div class='xr-section-details'><dl class='xr-attrs'></dl></div></li></ul></div></div>"
      ],
      "text/plain": [
       "<xarray.DataArray 'solution' ()>\n",
       "array(0.03448276)"
      ]
     },
     "execution_count": 9,
     "metadata": {},
     "output_type": "execute_result"
    }
   ],
   "source": [
    "x.solution"
   ]
  },
  {
   "cell_type": "code",
   "execution_count": 10,
   "id": "470e2d25-9386-438d-932e-113464907726",
   "metadata": {},
   "outputs": [
    {
     "data": {
      "text/html": [
       "<div><svg style=\"position: absolute; width: 0; height: 0; overflow: hidden\">\n",
       "<defs>\n",
       "<symbol id=\"icon-database\" viewBox=\"0 0 32 32\">\n",
       "<path d=\"M16 0c-8.837 0-16 2.239-16 5v4c0 2.761 7.163 5 16 5s16-2.239 16-5v-4c0-2.761-7.163-5-16-5z\"></path>\n",
       "<path d=\"M16 17c-8.837 0-16-2.239-16-5v6c0 2.761 7.163 5 16 5s16-2.239 16-5v-6c0 2.761-7.163 5-16 5z\"></path>\n",
       "<path d=\"M16 26c-8.837 0-16-2.239-16-5v6c0 2.761 7.163 5 16 5s16-2.239 16-5v-6c0 2.761-7.163 5-16 5z\"></path>\n",
       "</symbol>\n",
       "<symbol id=\"icon-file-text2\" viewBox=\"0 0 32 32\">\n",
       "<path d=\"M28.681 7.159c-0.694-0.947-1.662-2.053-2.724-3.116s-2.169-2.030-3.116-2.724c-1.612-1.182-2.393-1.319-2.841-1.319h-15.5c-1.378 0-2.5 1.121-2.5 2.5v27c0 1.378 1.122 2.5 2.5 2.5h23c1.378 0 2.5-1.122 2.5-2.5v-19.5c0-0.448-0.137-1.23-1.319-2.841zM24.543 5.457c0.959 0.959 1.712 1.825 2.268 2.543h-4.811v-4.811c0.718 0.556 1.584 1.309 2.543 2.268zM28 29.5c0 0.271-0.229 0.5-0.5 0.5h-23c-0.271 0-0.5-0.229-0.5-0.5v-27c0-0.271 0.229-0.5 0.5-0.5 0 0 15.499-0 15.5 0v7c0 0.552 0.448 1 1 1h7v19.5z\"></path>\n",
       "<path d=\"M23 26h-14c-0.552 0-1-0.448-1-1s0.448-1 1-1h14c0.552 0 1 0.448 1 1s-0.448 1-1 1z\"></path>\n",
       "<path d=\"M23 22h-14c-0.552 0-1-0.448-1-1s0.448-1 1-1h14c0.552 0 1 0.448 1 1s-0.448 1-1 1z\"></path>\n",
       "<path d=\"M23 18h-14c-0.552 0-1-0.448-1-1s0.448-1 1-1h14c0.552 0 1 0.448 1 1s-0.448 1-1 1z\"></path>\n",
       "</symbol>\n",
       "</defs>\n",
       "</svg>\n",
       "<style>/* CSS stylesheet for displaying xarray objects in jupyterlab.\n",
       " *\n",
       " */\n",
       "\n",
       ":root {\n",
       "  --xr-font-color0: var(--jp-content-font-color0, rgba(0, 0, 0, 1));\n",
       "  --xr-font-color2: var(--jp-content-font-color2, rgba(0, 0, 0, 0.54));\n",
       "  --xr-font-color3: var(--jp-content-font-color3, rgba(0, 0, 0, 0.38));\n",
       "  --xr-border-color: var(--jp-border-color2, #e0e0e0);\n",
       "  --xr-disabled-color: var(--jp-layout-color3, #bdbdbd);\n",
       "  --xr-background-color: var(--jp-layout-color0, white);\n",
       "  --xr-background-color-row-even: var(--jp-layout-color1, white);\n",
       "  --xr-background-color-row-odd: var(--jp-layout-color2, #eeeeee);\n",
       "}\n",
       "\n",
       "html[theme=dark],\n",
       "body[data-theme=dark],\n",
       "body.vscode-dark {\n",
       "  --xr-font-color0: rgba(255, 255, 255, 1);\n",
       "  --xr-font-color2: rgba(255, 255, 255, 0.54);\n",
       "  --xr-font-color3: rgba(255, 255, 255, 0.38);\n",
       "  --xr-border-color: #1F1F1F;\n",
       "  --xr-disabled-color: #515151;\n",
       "  --xr-background-color: #111111;\n",
       "  --xr-background-color-row-even: #111111;\n",
       "  --xr-background-color-row-odd: #313131;\n",
       "}\n",
       "\n",
       ".xr-wrap {\n",
       "  display: block !important;\n",
       "  min-width: 300px;\n",
       "  max-width: 700px;\n",
       "}\n",
       "\n",
       ".xr-text-repr-fallback {\n",
       "  /* fallback to plain text repr when CSS is not injected (untrusted notebook) */\n",
       "  display: none;\n",
       "}\n",
       "\n",
       ".xr-header {\n",
       "  padding-top: 6px;\n",
       "  padding-bottom: 6px;\n",
       "  margin-bottom: 4px;\n",
       "  border-bottom: solid 1px var(--xr-border-color);\n",
       "}\n",
       "\n",
       ".xr-header > div,\n",
       ".xr-header > ul {\n",
       "  display: inline;\n",
       "  margin-top: 0;\n",
       "  margin-bottom: 0;\n",
       "}\n",
       "\n",
       ".xr-obj-type,\n",
       ".xr-array-name {\n",
       "  margin-left: 2px;\n",
       "  margin-right: 10px;\n",
       "}\n",
       "\n",
       ".xr-obj-type {\n",
       "  color: var(--xr-font-color2);\n",
       "}\n",
       "\n",
       ".xr-sections {\n",
       "  padding-left: 0 !important;\n",
       "  display: grid;\n",
       "  grid-template-columns: 150px auto auto 1fr 20px 20px;\n",
       "}\n",
       "\n",
       ".xr-section-item {\n",
       "  display: contents;\n",
       "}\n",
       "\n",
       ".xr-section-item input {\n",
       "  display: none;\n",
       "}\n",
       "\n",
       ".xr-section-item input + label {\n",
       "  color: var(--xr-disabled-color);\n",
       "}\n",
       "\n",
       ".xr-section-item input:enabled + label {\n",
       "  cursor: pointer;\n",
       "  color: var(--xr-font-color2);\n",
       "}\n",
       "\n",
       ".xr-section-item input:enabled + label:hover {\n",
       "  color: var(--xr-font-color0);\n",
       "}\n",
       "\n",
       ".xr-section-summary {\n",
       "  grid-column: 1;\n",
       "  color: var(--xr-font-color2);\n",
       "  font-weight: 500;\n",
       "}\n",
       "\n",
       ".xr-section-summary > span {\n",
       "  display: inline-block;\n",
       "  padding-left: 0.5em;\n",
       "}\n",
       "\n",
       ".xr-section-summary-in:disabled + label {\n",
       "  color: var(--xr-font-color2);\n",
       "}\n",
       "\n",
       ".xr-section-summary-in + label:before {\n",
       "  display: inline-block;\n",
       "  content: '►';\n",
       "  font-size: 11px;\n",
       "  width: 15px;\n",
       "  text-align: center;\n",
       "}\n",
       "\n",
       ".xr-section-summary-in:disabled + label:before {\n",
       "  color: var(--xr-disabled-color);\n",
       "}\n",
       "\n",
       ".xr-section-summary-in:checked + label:before {\n",
       "  content: '▼';\n",
       "}\n",
       "\n",
       ".xr-section-summary-in:checked + label > span {\n",
       "  display: none;\n",
       "}\n",
       "\n",
       ".xr-section-summary,\n",
       ".xr-section-inline-details {\n",
       "  padding-top: 4px;\n",
       "  padding-bottom: 4px;\n",
       "}\n",
       "\n",
       ".xr-section-inline-details {\n",
       "  grid-column: 2 / -1;\n",
       "}\n",
       "\n",
       ".xr-section-details {\n",
       "  display: none;\n",
       "  grid-column: 1 / -1;\n",
       "  margin-bottom: 5px;\n",
       "}\n",
       "\n",
       ".xr-section-summary-in:checked ~ .xr-section-details {\n",
       "  display: contents;\n",
       "}\n",
       "\n",
       ".xr-array-wrap {\n",
       "  grid-column: 1 / -1;\n",
       "  display: grid;\n",
       "  grid-template-columns: 20px auto;\n",
       "}\n",
       "\n",
       ".xr-array-wrap > label {\n",
       "  grid-column: 1;\n",
       "  vertical-align: top;\n",
       "}\n",
       "\n",
       ".xr-preview {\n",
       "  color: var(--xr-font-color3);\n",
       "}\n",
       "\n",
       ".xr-array-preview,\n",
       ".xr-array-data {\n",
       "  padding: 0 5px !important;\n",
       "  grid-column: 2;\n",
       "}\n",
       "\n",
       ".xr-array-data,\n",
       ".xr-array-in:checked ~ .xr-array-preview {\n",
       "  display: none;\n",
       "}\n",
       "\n",
       ".xr-array-in:checked ~ .xr-array-data,\n",
       ".xr-array-preview {\n",
       "  display: inline-block;\n",
       "}\n",
       "\n",
       ".xr-dim-list {\n",
       "  display: inline-block !important;\n",
       "  list-style: none;\n",
       "  padding: 0 !important;\n",
       "  margin: 0;\n",
       "}\n",
       "\n",
       ".xr-dim-list li {\n",
       "  display: inline-block;\n",
       "  padding: 0;\n",
       "  margin: 0;\n",
       "}\n",
       "\n",
       ".xr-dim-list:before {\n",
       "  content: '(';\n",
       "}\n",
       "\n",
       ".xr-dim-list:after {\n",
       "  content: ')';\n",
       "}\n",
       "\n",
       ".xr-dim-list li:not(:last-child):after {\n",
       "  content: ',';\n",
       "  padding-right: 5px;\n",
       "}\n",
       "\n",
       ".xr-has-index {\n",
       "  font-weight: bold;\n",
       "}\n",
       "\n",
       ".xr-var-list,\n",
       ".xr-var-item {\n",
       "  display: contents;\n",
       "}\n",
       "\n",
       ".xr-var-item > div,\n",
       ".xr-var-item label,\n",
       ".xr-var-item > .xr-var-name span {\n",
       "  background-color: var(--xr-background-color-row-even);\n",
       "  margin-bottom: 0;\n",
       "}\n",
       "\n",
       ".xr-var-item > .xr-var-name:hover span {\n",
       "  padding-right: 5px;\n",
       "}\n",
       "\n",
       ".xr-var-list > li:nth-child(odd) > div,\n",
       ".xr-var-list > li:nth-child(odd) > label,\n",
       ".xr-var-list > li:nth-child(odd) > .xr-var-name span {\n",
       "  background-color: var(--xr-background-color-row-odd);\n",
       "}\n",
       "\n",
       ".xr-var-name {\n",
       "  grid-column: 1;\n",
       "}\n",
       "\n",
       ".xr-var-dims {\n",
       "  grid-column: 2;\n",
       "}\n",
       "\n",
       ".xr-var-dtype {\n",
       "  grid-column: 3;\n",
       "  text-align: right;\n",
       "  color: var(--xr-font-color2);\n",
       "}\n",
       "\n",
       ".xr-var-preview {\n",
       "  grid-column: 4;\n",
       "}\n",
       "\n",
       ".xr-index-preview {\n",
       "  grid-column: 2 / 5;\n",
       "  color: var(--xr-font-color2);\n",
       "}\n",
       "\n",
       ".xr-var-name,\n",
       ".xr-var-dims,\n",
       ".xr-var-dtype,\n",
       ".xr-preview,\n",
       ".xr-attrs dt {\n",
       "  white-space: nowrap;\n",
       "  overflow: hidden;\n",
       "  text-overflow: ellipsis;\n",
       "  padding-right: 10px;\n",
       "}\n",
       "\n",
       ".xr-var-name:hover,\n",
       ".xr-var-dims:hover,\n",
       ".xr-var-dtype:hover,\n",
       ".xr-attrs dt:hover {\n",
       "  overflow: visible;\n",
       "  width: auto;\n",
       "  z-index: 1;\n",
       "}\n",
       "\n",
       ".xr-var-attrs,\n",
       ".xr-var-data,\n",
       ".xr-index-data {\n",
       "  display: none;\n",
       "  background-color: var(--xr-background-color) !important;\n",
       "  padding-bottom: 5px !important;\n",
       "}\n",
       "\n",
       ".xr-var-attrs-in:checked ~ .xr-var-attrs,\n",
       ".xr-var-data-in:checked ~ .xr-var-data,\n",
       ".xr-index-data-in:checked ~ .xr-index-data {\n",
       "  display: block;\n",
       "}\n",
       "\n",
       ".xr-var-data > table {\n",
       "  float: right;\n",
       "}\n",
       "\n",
       ".xr-var-name span,\n",
       ".xr-var-data,\n",
       ".xr-index-name div,\n",
       ".xr-index-data,\n",
       ".xr-attrs {\n",
       "  padding-left: 25px !important;\n",
       "}\n",
       "\n",
       ".xr-attrs,\n",
       ".xr-var-attrs,\n",
       ".xr-var-data,\n",
       ".xr-index-data {\n",
       "  grid-column: 1 / -1;\n",
       "}\n",
       "\n",
       "dl.xr-attrs {\n",
       "  padding: 0;\n",
       "  margin: 0;\n",
       "  display: grid;\n",
       "  grid-template-columns: 125px auto;\n",
       "}\n",
       "\n",
       ".xr-attrs dt,\n",
       ".xr-attrs dd {\n",
       "  padding: 0;\n",
       "  margin: 0;\n",
       "  float: left;\n",
       "  padding-right: 10px;\n",
       "  width: auto;\n",
       "}\n",
       "\n",
       ".xr-attrs dt {\n",
       "  font-weight: normal;\n",
       "  grid-column: 1;\n",
       "}\n",
       "\n",
       ".xr-attrs dt:hover span {\n",
       "  display: inline-block;\n",
       "  background: var(--xr-background-color);\n",
       "  padding-right: 10px;\n",
       "}\n",
       "\n",
       ".xr-attrs dd {\n",
       "  grid-column: 2;\n",
       "  white-space: pre-wrap;\n",
       "  word-break: break-all;\n",
       "}\n",
       "\n",
       ".xr-icon-database,\n",
       ".xr-icon-file-text2,\n",
       ".xr-no-icon {\n",
       "  display: inline-block;\n",
       "  vertical-align: middle;\n",
       "  width: 1em;\n",
       "  height: 1.5em !important;\n",
       "  stroke-width: 0;\n",
       "  stroke: currentColor;\n",
       "  fill: currentColor;\n",
       "}\n",
       "</style><pre class='xr-text-repr-fallback'>&lt;xarray.DataArray &#x27;solution&#x27; ()&gt;\n",
       "array(1.4137931)</pre><div class='xr-wrap' style='display:none'><div class='xr-header'><div class='xr-obj-type'>xarray.DataArray</div><div class='xr-array-name'>'solution'</div></div><ul class='xr-sections'><li class='xr-section-item'><div class='xr-array-wrap'><input id='section-32a6dd44-e211-4dce-99c4-94a66c62019b' class='xr-array-in' type='checkbox' checked><label for='section-32a6dd44-e211-4dce-99c4-94a66c62019b' title='Show/hide data repr'><svg class='icon xr-icon-database'><use xlink:href='#icon-database'></use></svg></label><div class='xr-array-preview xr-preview'><span>1.414</span></div><div class='xr-array-data'><pre>array(1.4137931)</pre></div></div></li><li class='xr-section-item'><input id='section-38e8a4b7-3604-4cde-868c-4dce253ff56b' class='xr-section-summary-in' type='checkbox' disabled ><label for='section-38e8a4b7-3604-4cde-868c-4dce253ff56b' class='xr-section-summary'  title='Expand/collapse section'>Coordinates: <span>(0)</span></label><div class='xr-section-inline-details'></div><div class='xr-section-details'><ul class='xr-var-list'></ul></div></li><li class='xr-section-item'><input id='section-27b613a8-8b52-43dd-a46f-3aae7de61005' class='xr-section-summary-in' type='checkbox' disabled ><label for='section-27b613a8-8b52-43dd-a46f-3aae7de61005' class='xr-section-summary'  title='Expand/collapse section'>Indexes: <span>(0)</span></label><div class='xr-section-inline-details'></div><div class='xr-section-details'><ul class='xr-var-list'></ul></div></li><li class='xr-section-item'><input id='section-efbd617a-fbd0-4e80-b8fa-498f92a408be' class='xr-section-summary-in' type='checkbox' disabled ><label for='section-efbd617a-fbd0-4e80-b8fa-498f92a408be' class='xr-section-summary'  title='Expand/collapse section'>Attributes: <span>(0)</span></label><div class='xr-section-inline-details'></div><div class='xr-section-details'><dl class='xr-attrs'></dl></div></li></ul></div></div>"
      ],
      "text/plain": [
       "<xarray.DataArray 'solution' ()>\n",
       "array(1.4137931)"
      ]
     },
     "execution_count": 10,
     "metadata": {},
     "output_type": "execute_result"
    }
   ],
   "source": [
    "y.solution"
   ]
  },
  {
   "cell_type": "markdown",
   "id": "34b0c100-b354-4e8c-8043-a45bfa78b999",
   "metadata": {},
   "source": [
    "Well done! You solved your first linopy model!"
   ]
  },
  {
   "cell_type": "markdown",
   "id": "8d87cf68-8655-4f04-b87c-ab1e670f2884",
   "metadata": {},
   "source": [
    "## Use Coordinates\n",
    "\n",
    "Now, the real power of the package comes into play! \n",
    "\n",
    "Linopy is structured around the concept that variables, and therefore expressions and constraints, have coordinates. That is, a `Variable` object actually contains multiple variables across dimensions, just as we know it from a `numpy` array or a `pandas.DataFrame`.\n",
    "\n",
    "Suppose the two variables `x` and `y` are now functions of time `t` and we would modify the problem according to: "
   ]
  },
  {
   "cell_type": "markdown",
   "id": "d40eb0b9-35ef-4867-b57c-dfca3b0da66c",
   "metadata": {},
   "source": [
    "Minimize:\n",
    "$$\\sum_t x_t + 2 y_t$$\n",
    "\n",
    "subject to:\n",
    "\n",
    "$$x_t \\ge 0 \\qquad \\forall t $$\n",
    "$$y_t \\ge 0 \\qquad \\forall t $$\n",
    "$$3x_t + 7y_t \\ge 10 t \\qquad \\forall t$$\n",
    "$$5x_t + 2y_t \\ge 3 t \\qquad \\forall t$$\n",
    "\n",
    "whereas `t` spans all the range from 0 to 10."
   ]
  },
  {
   "cell_type": "markdown",
   "id": "53c08a98-05aa-4c0b-a046-1d16215ce382",
   "metadata": {},
   "source": [
    "In order to formulate the new problem with linopy, we start again by initializing a model."
   ]
  },
  {
   "cell_type": "code",
   "execution_count": 11,
   "id": "788956e7-1bc9-4298-85a1-9235486b8cad",
   "metadata": {},
   "outputs": [],
   "source": [
    "m = linopy.Model()"
   ]
  },
  {
   "cell_type": "markdown",
   "id": "9cf08174-0d0a-473c-8ee2-7799958aef0b",
   "metadata": {},
   "source": [
    "Again, we define `x` and `y` using the `add_variables` function, but now we are adding a `coords` argument. This automatically creates optimization variables for all coordinates, in this case time-steps."
   ]
  },
  {
   "cell_type": "code",
   "execution_count": 12,
   "id": "d477e41c-a89f-4d3b-a1af-385820638a75",
   "metadata": {},
   "outputs": [],
   "source": [
    "import pandas as pd\n",
    "\n",
    "time = pd.Index(range(10), name=\"time\")\n",
    "\n",
    "x = m.add_variables(\n",
    "    lower=0,\n",
    "    coords=[time],\n",
    "    name=\"x\",\n",
    ")\n",
    "y = m.add_variables(lower=0, coords=[time], name=\"y\")"
   ]
  },
  {
   "cell_type": "markdown",
   "id": "32dfa7f0-3f35-466d-8669-6134ca18a26d",
   "metadata": {},
   "source": [
    "Following the previous example, we write the constraints out using the syntax from above, while multiplying the rhs with `t`. Note that the coordinates from the lhs and the rhs have to match. \n",
    "\n",
    ".. note::\n",
    "    In the beginning, it is recommended to use explicit dimension names. Like that, things remain clear and no unexpected broadcasting (which we show later) will happen. "
   ]
  },
  {
   "cell_type": "code",
   "execution_count": 13,
   "id": "00a64dec-26a5-4f80-97c0-de0fe00188a2",
   "metadata": {},
   "outputs": [
    {
     "data": {
      "text/plain": [
       "Constraint (unassigned) (time: 10):\n",
       "-----------------------------------\n",
       "[0]: +3 x[0] + 7 y[0] ≥ -0.0\n",
       "[1]: +3 x[1] + 7 y[1] ≥ 10.0\n",
       "[2]: +3 x[2] + 7 y[2] ≥ 20.0\n",
       "[3]: +3 x[3] + 7 y[3] ≥ 30.0\n",
       "[4]: +3 x[4] + 7 y[4] ≥ 40.0\n",
       "[5]: +3 x[5] + 7 y[5] ≥ 50.0\n",
       "[6]: +3 x[6] + 7 y[6] ≥ 60.0\n",
       "[7]: +3 x[7] + 7 y[7] ≥ 70.0\n",
       "[8]: +3 x[8] + 7 y[8] ≥ 80.0\n",
       "[9]: +3 x[9] + 7 y[9] ≥ 90.0"
      ]
     },
     "execution_count": 13,
     "metadata": {},
     "output_type": "execute_result"
    }
   ],
   "source": [
    "factor = pd.Series(time, index=time)\n",
    "\n",
    "3 * x + 7 * y >= 10 * factor"
   ]
  },
  {
   "cell_type": "markdown",
   "id": "946c5674-d5f5-4b78-97d3-337e6de10f73",
   "metadata": {},
   "source": [
    "It always helps to write out the constraints before adding them to the model. Since they look good, let's assign them."
   ]
  },
  {
   "cell_type": "code",
   "execution_count": 14,
   "id": "8d3a89e8-0b0e-480d-9cb8-f29931fb3559",
   "metadata": {},
   "outputs": [
    {
     "data": {
      "text/plain": [
       "Linopy LP model\n",
       "===============\n",
       "\n",
       "Variables:\n",
       "----------\n",
       " * x (time)\n",
       " * y (time)\n",
       "\n",
       "Constraints:\n",
       "------------\n",
       " * con1 (time)\n",
       " * con2 (time)\n",
       "\n",
       "Status:\n",
       "-------\n",
       "initialized"
      ]
     },
     "execution_count": 14,
     "metadata": {},
     "output_type": "execute_result"
    }
   ],
   "source": [
    "con1 = m.add_constraints(3 * x + 7 * y >= 10 * factor, name=\"con1\")\n",
    "con2 = m.add_constraints(5 * x + 2 * y >= 3 * factor, name=\"con2\")\n",
    "m"
   ]
  },
  {
   "cell_type": "markdown",
   "id": "ff3e5770-383f-4011-aed7-7de526e69c7c",
   "metadata": {},
   "source": [
    "Now, when it comes to the objective, we use the `sum` function of `linopy.LinearExpression`. This stacks all terms all terms of the `time` dimension and writes them into one big expression. "
   ]
  },
  {
   "cell_type": "code",
   "execution_count": 15,
   "id": "9cbf16b4-99ed-4e33-9ea9-e8eff3503b05",
   "metadata": {},
   "outputs": [],
   "source": [
    "obj = (x + 2 * y).sum()\n",
    "m.add_objective(obj)"
   ]
  },
  {
   "cell_type": "code",
   "execution_count": 16,
   "id": "37da40ed-71f5-4c3c-825b-26e0e2da46e2",
   "metadata": {},
   "outputs": [
    {
     "name": "stdout",
     "output_type": "stream",
     "text": [
      "Restricted license - for non-production use only - expires 2024-10-28\n",
      "Read LP format model from file C:\\Users\\huang\\AppData\\Local\\Temp\\linopy-problem-fs1daa3m.lp\n",
      "Reading time = 0.00 seconds\n",
      "obj: 20 rows, 20 columns, 40 nonzeros\n",
      "Gurobi Optimizer version 10.0.3 build v10.0.3rc0 (win64)\n",
      "\n",
      "CPU model: Intel(R) Core(TM) i7-10510U CPU @ 1.80GHz, instruction set [SSE2|AVX|AVX2]\n",
      "Thread count: 4 physical cores, 8 logical processors, using up to 8 threads\n",
      "\n",
      "Optimize a model with 20 rows, 20 columns and 40 nonzeros\n",
      "Model fingerprint: 0x3434cd3b\n",
      "Coefficient statistics:\n",
      "  Matrix range     [2e+00, 7e+00]\n",
      "  Objective range  [1e+00, 2e+00]\n",
      "  Bounds range     [0e+00, 0e+00]\n",
      "  RHS range        [3e+00, 9e+01]\n",
      "Presolve removed 2 rows and 2 columns\n",
      "Presolve time: 0.01s\n",
      "Presolved: 18 rows, 18 columns, 36 nonzeros\n",
      "\n",
      "Iteration    Objective       Primal Inf.    Dual Inf.      Time\n",
      "       0    0.0000000e+00   7.312500e+01   0.000000e+00      0s\n",
      "      18    1.2879310e+02   0.000000e+00   0.000000e+00      0s\n",
      "\n",
      "Solved in 18 iterations and 0.02 seconds (0.00 work units)\n",
      "Optimal objective  1.287931034e+02\n"
     ]
    },
    {
     "data": {
      "text/plain": [
       "('ok', 'optimal')"
      ]
     },
     "execution_count": 16,
     "metadata": {},
     "output_type": "execute_result"
    }
   ],
   "source": [
    "m.solve()"
   ]
  },
  {
   "cell_type": "markdown",
   "id": "a5f4769a-98d0-446f-81cf-b41d7c4063e2",
   "metadata": {},
   "source": [
    "In order to inspect the solution. You can go via the variables, i.e. `y.solution` or via the `solution` aggregator of the model, which combines the solution of all variables. This can sometimes be helpful."
   ]
  },
  {
   "cell_type": "code",
   "execution_count": 17,
   "id": "33cdfad9-0ff3-4211-afaf-b0e27fa33d5a",
   "metadata": {},
   "outputs": [
    {
     "data": {
      "image/png": "[encoded data removed]",
      "text/plain": [
       "<Figure size 640x480 with 1 Axes>"
      ]
     },
     "metadata": {},
     "output_type": "display_data"
    }
   ],
   "source": [
    "m.solution.to_dataframe().plot(grid=True, ylabel=\"Optimal Value\");"
   ]
  },
  {
   "cell_type": "markdown",
   "id": "603aa77f-4a13-4e02-bf0c-196e3cdfcbf0",
   "metadata": {},
   "source": [
    "Alright! Now you learned how to set up linopy variables and expressions with coordinates. For more advanced `linopy` operations you can check out the [User Guide](https://linopy.readthedocs.io/en/latest/user-guide.html)."
   ]
  },
  {
   "cell_type": "markdown",
   "id": "f520ffce-6783-4c89-81f8-cc0c7822439c",
   "metadata": {},
   "source": [
    "## Electricity Market Examples"
   ]
  },
  {
   "cell_type": "markdown",
   "id": "b1bc668c-c37c-4939-8890-d4e945ba2739",
   "metadata": {},
   "source": [
    "### Single bidding zone, single period"
   ]
  },
  {
   "cell_type": "markdown",
   "id": "a2459e7a-d740-45dd-a834-bc098a5825cb",
   "metadata": {},
   "source": [
    "We want to minimise operational cost of an example electricity system representing South Africa subject to generator limits and meeting the load:\n",
    "\n",
    "\\begin{equation}\n",
    "    \\min_{g_s} \\sum_s o_s g_s\n",
    "  \\end{equation}\n",
    "  such that\n",
    "  \\begin{align}\n",
    "    g_s &\\leq G_s \\\\\n",
    "    g_s &\\geq 0 \\\\\n",
    "    \\sum_s g_s &= d\n",
    "  \\end{align}"
   ]
  },
  {
   "cell_type": "markdown",
   "id": "b5c0cb03-aa1b-47f0-92d7-b98fea75bc4d",
   "metadata": {},
   "source": [
    "We are given the following information on the South African electricity system:"
   ]
  },
  {
   "cell_type": "markdown",
   "id": "816b7ed4-fac6-45ee-8991-1057416f0983",
   "metadata": {},
   "source": [
    "Marginal costs in EUR/MWh"
   ]
  },
  {
   "cell_type": "code",
   "execution_count": 18,
   "id": "30a08a5c-a63c-4c0e-9ec0-8fbbd2e26dbb",
   "metadata": {},
   "outputs": [],
   "source": [
    "marginals_df = pd.DataFrame(\n",
    "    {\"Generator\": [\"Wind\", \"Coal\", \"Gas\", \"Oil\"], \"MarginalCost\": [0, 30, 60, 80]}\n",
    ")"
   ]
  },
  {
   "cell_type": "markdown",
   "id": "42b0c6e8-6699-4d9c-a958-727283e4ca0a",
   "metadata": {},
   "source": [
    "Power plant capacities in MW"
   ]
  },
  {
   "cell_type": "code",
   "execution_count": 19,
   "id": "5864cf82-59bb-4ec2-9767-4739fd675637",
   "metadata": {},
   "outputs": [],
   "source": [
    "capacities_df = pd.DataFrame(\n",
    "    {\"Generator\": [\"Wind\", \"Coal\", \"Gas\", \"Oil\"], \"Capacity\": [3000, 35000, 8000, 2000]}\n",
    ")"
   ]
  },
  {
   "cell_type": "markdown",
   "id": "fc235ee5-d77f-4c68-bfb8-85048393590e",
   "metadata": {},
   "source": [
    "Inelastic demand in MW"
   ]
  },
  {
   "cell_type": "code",
   "execution_count": 20,
   "id": "9b018aa6-715e-4319-ae83-ce7a0fd3d890",
   "metadata": {},
   "outputs": [],
   "source": [
    "load = 42000"
   ]
  },
  {
   "cell_type": "markdown",
   "id": "b7177f81-88e0-42a0-afe1-64360856a2de",
   "metadata": {},
   "source": [
    "We now start building the model"
   ]
  },
  {
   "cell_type": "code",
   "execution_count": 21,
   "id": "89d61ab1-078b-406d-b9db-1a6377843c79",
   "metadata": {},
   "outputs": [],
   "source": [
    "m = linopy.Model()"
   ]
  },
  {
   "cell_type": "markdown",
   "id": "aa66cf86-9836-421f-b507-343adc2d5c38",
   "metadata": {},
   "source": [
    "Let's define the dispatch variables `g` with the `lower` and `upper` bound:\n",
    "$$g_s \\leq G_s $$\n",
    "$$g_s \\geq 0 $$"
   ]
  },
  {
   "cell_type": "code",
   "execution_count": 22,
   "id": "cd87f66b-e2f0-4676-966b-51c2f180efb1",
   "metadata": {},
   "outputs": [
    {
     "data": {
      "text/plain": [
       "Variable (dim_0: 4)\n",
       "-------------------\n",
       "[Wind]: g[Wind] ∈ [0, 3000]\n",
       "[Coal]: g[Coal] ∈ [0, 3.5e+04]\n",
       "[Gas]: g[Gas] ∈ [0, 8000]\n",
       "[Oil]: g[Oil] ∈ [0, 2000]"
      ]
     },
     "execution_count": 22,
     "metadata": {},
     "output_type": "execute_result"
    }
   ],
   "source": [
    "g = m.add_variables(\n",
    "    lower=0, upper=capacities_df.Capacity, coords=[capacities_df.Generator], name=\"g\"\n",
    ")\n",
    "g"
   ]
  },
  {
   "cell_type": "markdown",
   "id": "7eceb706-c0b4-490e-ad65-e335793d4a68",
   "metadata": {},
   "source": [
    "And and the objective:\n",
    "$$\\min_{g_s} \\sum_s o_s g_s$$"
   ]
  },
  {
   "cell_type": "code",
   "execution_count": 23,
   "id": "55cfe8c4-9816-4375-8979-a136219a96fa",
   "metadata": {},
   "outputs": [
    {
     "data": {
      "text/plain": [
       "Objective:\n",
       "----------\n",
       "LinearExpression: +0 g[Wind] + 30 g[Coal] + 60 g[Gas] + 80 g[Oil]\n",
       "Sense: min\n",
       "Value: None"
      ]
     },
     "execution_count": 23,
     "metadata": {},
     "output_type": "execute_result"
    }
   ],
   "source": [
    "m.add_objective(marginals_df.MarginalCost.values * g, sense=\"min\")\n",
    "m.objective"
   ]
  },
  {
   "cell_type": "markdown",
   "id": "61dfa4ce-d028-463e-a812-66e79ffb798b",
   "metadata": {},
   "source": [
    "Which is subject to: \n",
    "\n",
    "$$\\sum_s g_s = d$$"
   ]
  },
  {
   "cell_type": "code",
   "execution_count": 24,
   "id": "c37f66f5-fce5-4e54-a122-56b992ed2f95",
   "metadata": {},
   "outputs": [
    {
     "data": {
      "text/plain": [
       "Constraint `energy_balance`\n",
       "---------------------------\n",
       "+1 g[Wind] + 1 g[Coal] + 1 g[Gas] + 1 g[Oil] = 42000.0"
      ]
     },
     "execution_count": 24,
     "metadata": {},
     "output_type": "execute_result"
    }
   ],
   "source": [
    "m.add_constraints(g.sum() == load, name=\"energy_balance\")"
   ]
  },
  {
   "cell_type": "markdown",
   "id": "36ad37d3-5cbb-4097-9f9f-0440832359fa",
   "metadata": {},
   "source": [
    "It always helps to write out the constraints before adding them to the model. Since they look good, let’s assign them."
   ]
  },
  {
   "cell_type": "code",
   "execution_count": 25,
   "id": "1bd321b2-760f-48e4-b734-1c73daaf520d",
   "metadata": {},
   "outputs": [
    {
     "name": "stdout",
     "output_type": "stream",
     "text": [
      "Restricted license - for non-production use only - expires 2024-10-28\n",
      "Read LP format model from file C:\\Users\\huang\\AppData\\Local\\Temp\\linopy-problem-0xergcyl.lp\n",
      "Reading time = 0.00 seconds\n",
      "obj: 1 rows, 4 columns, 4 nonzeros\n",
      "Gurobi Optimizer version 10.0.3 build v10.0.3rc0 (win64)\n",
      "\n",
      "CPU model: Intel(R) Core(TM) i7-10510U CPU @ 1.80GHz, instruction set [SSE2|AVX|AVX2]\n",
      "Thread count: 4 physical cores, 8 logical processors, using up to 8 threads\n",
      "\n",
      "Optimize a model with 1 rows, 4 columns and 4 nonzeros\n",
      "Model fingerprint: 0x9b6e654b\n",
      "Coefficient statistics:\n",
      "  Matrix range     [1e+00, 1e+00]\n",
      "  Objective range  [3e+01, 8e+01]\n",
      "  Bounds range     [2e+03, 4e+04]\n",
      "  RHS range        [4e+04, 4e+04]\n",
      "Presolve removed 1 rows and 4 columns\n",
      "Presolve time: 0.01s\n",
      "Presolve: All rows and columns removed\n",
      "Iteration    Objective       Primal Inf.    Dual Inf.      Time\n",
      "       0    1.2900000e+06   0.000000e+00   0.000000e+00      0s\n",
      "\n",
      "Solved in 0 iterations and 0.01 seconds (0.00 work units)\n",
      "Optimal objective  1.290000000e+06\n"
     ]
    },
    {
     "data": {
      "text/plain": [
       "('ok', 'optimal')"
      ]
     },
     "execution_count": 25,
     "metadata": {},
     "output_type": "execute_result"
    }
   ],
   "source": [
    "m.solve()"
   ]
  },
  {
   "cell_type": "markdown",
   "id": "f00e76dd-6831-469e-8a5c-f797a6b7b39c",
   "metadata": {},
   "source": [
    "This is the optimimal generator dispatch (MW)"
   ]
  },
  {
   "cell_type": "code",
   "execution_count": 26,
   "id": "876e38fd-008a-4717-ab3b-0aadac8d41bc",
   "metadata": {},
   "outputs": [
    {
     "data": {
      "text/html": [
       "<div>\n",
       "<style scoped>\n",
       "    .dataframe tbody tr th:only-of-type {\n",
       "        vertical-align: middle;\n",
       "    }\n",
       "\n",
       "    .dataframe tbody tr th {\n",
       "        vertical-align: top;\n",
       "    }\n",
       "\n",
       "    .dataframe thead th {\n",
       "        text-align: right;\n",
       "    }\n",
       "</style>\n",
       "<table border=\"1\" class=\"dataframe\">\n",
       "  <thead>\n",
       "    <tr style=\"text-align: right;\">\n",
       "      <th></th>\n",
       "      <th>g</th>\n",
       "    </tr>\n",
       "    <tr>\n",
       "      <th>dim_0</th>\n",
       "      <th></th>\n",
       "    </tr>\n",
       "  </thead>\n",
       "  <tbody>\n",
       "    <tr>\n",
       "      <th>Wind</th>\n",
       "      <td>3000.0</td>\n",
       "    </tr>\n",
       "    <tr>\n",
       "      <th>Coal</th>\n",
       "      <td>35000.0</td>\n",
       "    </tr>\n",
       "    <tr>\n",
       "      <th>Gas</th>\n",
       "      <td>4000.0</td>\n",
       "    </tr>\n",
       "    <tr>\n",
       "      <th>Oil</th>\n",
       "      <td>0.0</td>\n",
       "    </tr>\n",
       "  </tbody>\n",
       "</table>\n",
       "</div>"
      ],
      "text/plain": [
       "             g\n",
       "dim_0         \n",
       "Wind    3000.0\n",
       "Coal   35000.0\n",
       "Gas     4000.0\n",
       "Oil        0.0"
      ]
     },
     "execution_count": 26,
     "metadata": {},
     "output_type": "execute_result"
    }
   ],
   "source": [
    "m.solution.to_dataframe()"
   ]
  },
  {
   "cell_type": "markdown",
   "id": "f77acf05-cf1e-48be-9318-4f4b33efa113",
   "metadata": {},
   "source": [
    "And the market clearing price we can read from the shadow price of the energy balance constraint (i.e. the added cost of increasing electricity demand by one unit):"
   ]
  },
  {
   "cell_type": "code",
   "execution_count": 27,
   "id": "a5870398-3420-4443-aed4-ce407ea3ad2d",
   "metadata": {},
   "outputs": [
    {
     "data": {
      "text/plain": [
       "60.0"
      ]
     },
     "execution_count": 27,
     "metadata": {},
     "output_type": "execute_result"
    }
   ],
   "source": [
    "m.dual[\"energy_balance\"].item()"
   ]
  },
  {
   "cell_type": "markdown",
   "id": "5cc105a5-7df0-4b76-90b7-85d8bafa2121",
   "metadata": {},
   "source": [
    "### Two bidding zones with transmission"
   ]
  },
  {
   "cell_type": "markdown",
   "id": "b1c5e8dc-21fd-4961-a2c5-4b6dae862efe",
   "metadata": {},
   "source": [
    "Let's add a spatial dimension, such that the optimisation problem is expanded to\n",
    "\\begin{equation}\n",
    "  \\min_{g_{i,s}, f_\\ell} \\sum_s o_{i,s} g_{i,s}\n",
    "\\end{equation}\n",
    "such that\n",
    "\\begin{align}\n",
    "  g_{i,s} &\\leq G_{i,s} \\\\\n",
    "  g_{i,s} &\\geq 0 \\\\\n",
    "  \\sum_s g_{i,s} - \\sum_\\ell K_{i\\ell} f_\\ell &= d_i & \\text{KCL} \\\\\n",
    "  |f_\\ell| &\\leq F_\\ell & \\text{line limits}  \\\\\n",
    "  \\sum_\\ell C_{\\ell c} x_\\ell f_\\ell &= 0 & \\text{KVL} \n",
    "\\end{align}\n",
    "\n",
    "In this example, we connect the previous South African electricity system with a hydro generation unit in Mozambique through a single transmission line. Note that because a single transmission line will not result in any cycles, we can neglect KVL in this case.\n",
    "\n",
    "We are given the following data (all in MW):"
   ]
  },
  {
   "cell_type": "code",
   "execution_count": 28,
   "id": "4aaaa1bd-112e-4502-92fe-6291c2998046",
   "metadata": {},
   "outputs": [],
   "source": [
    "generators = [\"Coal\", \"Wind\", \"Gas\", \"Oil\", \"Hydro\"]\n",
    "countries = [\"South_Africa\", \"Mozambique\"]\n",
    "\n",
    "capacities_df = pd.DataFrame(\n",
    "    {\n",
    "        \"Coal\": [35000, 0],\n",
    "        \"Wind\": [3000, 0],\n",
    "        \"Gas\": [8000, 0],\n",
    "        \"Oil\": [2000, 0],\n",
    "        \"Hydro\": [0, 1200],\n",
    "    },\n",
    "    index=countries,\n",
    ")"
   ]
  },
  {
   "cell_type": "code",
   "execution_count": 29,
   "id": "ba514a5d-cc62-4a44-9096-720f465e40d8",
   "metadata": {},
   "outputs": [
    {
     "data": {
      "text/html": [
       "<div>\n",
       "<style scoped>\n",
       "    .dataframe tbody tr th:only-of-type {\n",
       "        vertical-align: middle;\n",
       "    }\n",
       "\n",
       "    .dataframe tbody tr th {\n",
       "        vertical-align: top;\n",
       "    }\n",
       "\n",
       "    .dataframe thead th {\n",
       "        text-align: right;\n",
       "    }\n",
       "</style>\n",
       "<table border=\"1\" class=\"dataframe\">\n",
       "  <thead>\n",
       "    <tr style=\"text-align: right;\">\n",
       "      <th></th>\n",
       "      <th>Coal</th>\n",
       "      <th>Wind</th>\n",
       "      <th>Gas</th>\n",
       "      <th>Oil</th>\n",
       "      <th>Hydro</th>\n",
       "    </tr>\n",
       "  </thead>\n",
       "  <tbody>\n",
       "    <tr>\n",
       "      <th>South_Africa</th>\n",
       "      <td>35000</td>\n",
       "      <td>3000</td>\n",
       "      <td>8000</td>\n",
       "      <td>2000</td>\n",
       "      <td>0</td>\n",
       "    </tr>\n",
       "    <tr>\n",
       "      <th>Mozambique</th>\n",
       "      <td>0</td>\n",
       "      <td>0</td>\n",
       "      <td>0</td>\n",
       "      <td>0</td>\n",
       "      <td>1200</td>\n",
       "    </tr>\n",
       "  </tbody>\n",
       "</table>\n",
       "</div>"
      ],
      "text/plain": [
       "               Coal  Wind   Gas   Oil  Hydro\n",
       "South_Africa  35000  3000  8000  2000      0\n",
       "Mozambique        0     0     0     0   1200"
      ]
     },
     "execution_count": 29,
     "metadata": {},
     "output_type": "execute_result"
    }
   ],
   "source": [
    "capacities_df"
   ]
  },
  {
   "cell_type": "code",
   "execution_count": 30,
   "id": "8822d16f-1eab-4e7d-af3b-b791113629e0",
   "metadata": {},
   "outputs": [
    {
     "data": {
      "text/plain": [
       "Coal     30\n",
       "Wind      0\n",
       "Gas      60\n",
       "Oil      80\n",
       "Hydro     0\n",
       "dtype: int64"
      ]
     },
     "execution_count": 30,
     "metadata": {},
     "output_type": "execute_result"
    }
   ],
   "source": [
    "marginal_series = pd.Series([30, 0, 60, 80, 0], index=generators)\n",
    "marginal_series"
   ]
  },
  {
   "cell_type": "code",
   "execution_count": 31,
   "id": "01214bbf-786c-4dcf-b3ea-179b5285e51d",
   "metadata": {},
   "outputs": [
    {
     "data": {
      "text/plain": [
       "South_Africa    42000\n",
       "Mozambique        650\n",
       "dtype: int64"
      ]
     },
     "execution_count": 31,
     "metadata": {},
     "output_type": "execute_result"
    }
   ],
   "source": [
    "loads_series = pd.Series([42000, 650], index=countries)\n",
    "loads_series"
   ]
  },
  {
   "cell_type": "code",
   "execution_count": 32,
   "id": "20b478e0-26e3-470b-82e6-ed0da0e0217f",
   "metadata": {},
   "outputs": [],
   "source": [
    "transmission = 500"
   ]
  },
  {
   "cell_type": "markdown",
   "id": "e46e0a36-486f-48a9-be71-647208aaa1f5",
   "metadata": {},
   "source": [
    "Let's start with a new model instance"
   ]
  },
  {
   "cell_type": "code",
   "execution_count": 33,
   "id": "d2996e54-fd7e-4c99-b52d-02ec6c4ec2f1",
   "metadata": {},
   "outputs": [],
   "source": [
    "m = linopy.Model()"
   ]
  },
  {
   "cell_type": "markdown",
   "id": "436d75a0-8257-4c94-ae18-4462b899fbf5",
   "metadata": {},
   "source": [
    "Now we create dispatch variables, as before, with the `upper` and `lower` bound for each countries and generators."
   ]
  },
  {
   "cell_type": "code",
   "execution_count": 34,
   "id": "4c4bb906-4fc6-4264-8cac-47ef3fec6cd3",
   "metadata": {},
   "outputs": [],
   "source": [
    "contries_index = pd.Index(countries, name='countries')\n",
    "generators_index=pd.Index(generators, name='generators')"
   ]
  },
  {
   "cell_type": "code",
   "execution_count": 35,
   "id": "d548c6ae-ae63-4a24-84f4-60cdc0537953",
   "metadata": {},
   "outputs": [
    {
     "data": {
      "text/plain": [
       "Variable (countries: 2, generators: 5)\n",
       "--------------------------------------\n",
       "[South_Africa, Coal]: g[South_Africa, Coal] ∈ [0, 3.5e+04]\n",
       "[South_Africa, Wind]: g[South_Africa, Wind] ∈ [0, 3000]\n",
       "[South_Africa, Gas]: g[South_Africa, Gas] ∈ [0, 8000]\n",
       "[South_Africa, Oil]: g[South_Africa, Oil] ∈ [0, 2000]\n",
       "[South_Africa, Hydro]: g[South_Africa, Hydro] ∈ [0, 0]\n",
       "[Mozambique, Coal]: g[Mozambique, Coal] ∈ [0, 0]\n",
       "[Mozambique, Wind]: g[Mozambique, Wind] ∈ [0, 0]\n",
       "[Mozambique, Gas]: g[Mozambique, Gas] ∈ [0, 0]\n",
       "[Mozambique, Oil]: g[Mozambique, Oil] ∈ [0, 0]\n",
       "[Mozambique, Hydro]: g[Mozambique, Hydro] ∈ [0, 1200]"
      ]
     },
     "execution_count": 35,
     "metadata": {},
     "output_type": "execute_result"
    }
   ],
   "source": [
    "g=m.add_variables(lower=0, upper=capacities_df, coords=[contries_index,generators_index], name='g')\n",
    "g"
   ]
  },
  {
   "cell_type": "markdown",
   "id": "8c60116f-5d1b-4cf6-b110-211f8d7bd28b",
   "metadata": {},
   "source": [
    "We now define the line limit for the transmission line, assuming that power flowing from Mozambique\tto South Africa is positive."
   ]
  },
  {
   "cell_type": "markdown",
   "id": "e5d1fc38-c2c9-4fcb-9306-4a077b1cacff",
   "metadata": {},
   "source": [
    "The line limit equation can be defined as   \n",
    "\\begin{align}\n",
    "|f_\\ell| &\\leq F_\\ell & \\text{line limits}\n",
    "\\end{align}"
   ]
  },
  {
   "cell_type": "code",
   "execution_count": 36,
   "id": "44d964fb-df92-410d-8465-cb134a0e8f9e",
   "metadata": {},
   "outputs": [
    {
     "data": {
      "text/plain": [
       "Variable\n",
       "--------\n",
       "line_limit ∈ [-500, 500]"
      ]
     },
     "execution_count": 36,
     "metadata": {},
     "output_type": "execute_result"
    }
   ],
   "source": [
    "f_line=m.add_variables(lower=-1*transmission, upper=transmission,name=\"line_limit\")\n",
    "f_line"
   ]
  },
  {
   "cell_type": "markdown",
   "id": "3a23ed0a-2d31-470b-a263-e1d4c1bde616",
   "metadata": {},
   "source": [
    "We define the Kirchhoff's current law (KCL) constraint. The KCL equation can be defined as:\n",
    "\\begin{align}\n",
    "  \\sum_s g_{i,s} - \\sum_\\ell K_{i\\ell} f_\\ell &= d_i & \\text{KCL} \\\\\n",
    "\\end{align}"
   ]
  },
  {
   "cell_type": "code",
   "execution_count": 37,
   "id": "5dd3d68c-aab5-4a10-9a48-3e9d3c752413",
   "metadata": {},
   "outputs": [
    {
     "data": {
      "text/plain": [
       "Constraint `South_Africa_KCL`\n",
       "-----------------------------\n",
       "+1 g[South_Africa, Coal] + 1 g[South_Africa, Wind] + 1 g[South_Africa, Gas] + 1 g[South_Africa, Oil] + 1 g[South_Africa, Hydro] + 1 line_limit = 42000.0"
      ]
     },
     "execution_count": 37,
     "metadata": {},
     "output_type": "execute_result"
    }
   ],
   "source": [
    "m.add_constraints(g.loc[\"South_Africa\",:].sum() + f_line == loads_series.loc[\"South_Africa\"],name=\"South_Africa_KCL\")"
   ]
  },
  {
   "cell_type": "code",
   "execution_count": 38,
   "id": "d4d7a22b-0b0d-43cc-bf15-658fa4e945ff",
   "metadata": {},
   "outputs": [
    {
     "data": {
      "text/plain": [
       "Constraint `Mozambique_KCL`\n",
       "---------------------------\n",
       "+1 g[Mozambique, Coal] + 1 g[Mozambique, Wind] + 1 g[Mozambique, Gas] + 1 g[Mozambique, Oil] + 1 g[Mozambique, Hydro] - 1 line_limit = 650.0"
      ]
     },
     "execution_count": 38,
     "metadata": {},
     "output_type": "execute_result"
    }
   ],
   "source": [
    "m.add_constraints(g.loc[\"Mozambique\",:].sum() - f_line == loads_series.loc[\"Mozambique\"],name=\"Mozambique_KCL\")"
   ]
  },
  {
   "cell_type": "markdown",
   "id": "f24c3c2a-f6f9-4cfd-9732-ecfab10bcb48",
   "metadata": {},
   "source": [
    "The objective can be written as:\n",
    "$$\\min_{g_{i,s}, f_\\ell} \\sum_s o_{i,s} g_{i,s}$$"
   ]
  },
  {
   "cell_type": "code",
   "execution_count": 39,
   "id": "75132441-0386-45bf-8f16-e2a6659922aa",
   "metadata": {},
   "outputs": [
    {
     "data": {
      "text/plain": [
       "LinearExpression\n",
       "----------------\n",
       "+30 g[South_Africa, Coal] + 0 g[South_Africa, Wind] + 60 g[South_Africa, Gas] ... +60 g[Mozambique, Gas] + 80 g[Mozambique, Oil] + 0 g[Mozambique, Hydro]"
      ]
     },
     "execution_count": 39,
     "metadata": {},
     "output_type": "execute_result"
    }
   ],
   "source": [
    "obj=(g.loc[\"South_Africa\",:] * marginal_series).sum() + (g.loc[\"Mozambique\",:] * marginal_series).sum()\n",
    "obj"
   ]
  },
  {
   "cell_type": "code",
   "execution_count": 40,
   "id": "d411da42-7782-40b8-829c-bff883fc2b4b",
   "metadata": {},
   "outputs": [],
   "source": [
    "m.add_objective(obj,sense=\"min\")"
   ]
  },
  {
   "cell_type": "markdown",
   "id": "277b43f9-1dd7-4f3e-a41e-7ad154e943ae",
   "metadata": {},
   "source": [
    "We now solve the model."
   ]
  },
  {
   "cell_type": "code",
   "execution_count": 41,
   "id": "6e41147e-6771-4c04-a1f0-b9ebbe8b0edc",
   "metadata": {},
   "outputs": [
    {
     "name": "stdout",
     "output_type": "stream",
     "text": [
      "Restricted license - for non-production use only - expires 2024-10-28\n",
      "Read LP format model from file C:\\Users\\huang\\AppData\\Local\\Temp\\linopy-problem-_4hpgkd6.lp\n",
      "Reading time = 0.00 seconds\n",
      "obj: 2 rows, 11 columns, 12 nonzeros\n",
      "Gurobi Optimizer version 10.0.3 build v10.0.3rc0 (win64)\n",
      "\n",
      "CPU model: Intel(R) Core(TM) i7-10510U CPU @ 1.80GHz, instruction set [SSE2|AVX|AVX2]\n",
      "Thread count: 4 physical cores, 8 logical processors, using up to 8 threads\n",
      "\n",
      "Optimize a model with 2 rows, 11 columns and 12 nonzeros\n",
      "Model fingerprint: 0xfe77df65\n",
      "Coefficient statistics:\n",
      "  Matrix range     [1e+00, 1e+00]\n",
      "  Objective range  [3e+01, 8e+01]\n",
      "  Bounds range     [5e+02, 4e+04]\n",
      "  RHS range        [7e+02, 4e+04]\n",
      "Presolve removed 2 rows and 11 columns\n",
      "Presolve time: 0.02s\n",
      "Presolve: All rows and columns removed\n",
      "Iteration    Objective       Primal Inf.    Dual Inf.      Time\n",
      "       0    1.2600000e+06   0.000000e+00   0.000000e+00      0s\n",
      "\n",
      "Solved in 0 iterations and 0.02 seconds (0.00 work units)\n",
      "Optimal objective  1.260000000e+06\n"
     ]
    },
    {
     "data": {
      "text/plain": [
       "('ok', 'optimal')"
      ]
     },
     "execution_count": 41,
     "metadata": {},
     "output_type": "execute_result"
    }
   ],
   "source": [
    "m.solve()"
   ]
  },
  {
   "cell_type": "markdown",
   "id": "7b0462ef-e412-497b-a591-18409deb9c93",
   "metadata": {},
   "source": [
    "Now, we print the optimization results"
   ]
  },
  {
   "cell_type": "code",
   "execution_count": 42,
   "id": "cf0ef912-20ac-49ae-b530-5447df3a3c7d",
   "metadata": {},
   "outputs": [
    {
     "name": "stdout",
     "output_type": "stream",
     "text": [
      "South Africa:  {'Coal': 35000.0, 'Wind': 3000.0, 'Gas': 3500.0, 'Oil': 0.0, 'Hydro': 0.0}\n"
     ]
    }
   ],
   "source": [
    "results_South_Africa = dict(\n",
    "    zip(generators, g.loc[\"South_Africa\",:].solution.values)\n",
    ")\n",
    "print(\"South Africa: \", results_South_Africa)"
   ]
  },
  {
   "cell_type": "code",
   "execution_count": 43,
   "id": "5ce87fcd-e123-4b5f-ab32-229a099d7346",
   "metadata": {},
   "outputs": [
    {
     "name": "stdout",
     "output_type": "stream",
     "text": [
      "Mozambique:  {'Coal': 0.0, 'Wind': 0.0, 'Gas': 0.0, 'Oil': 0.0, 'Hydro': 1150.0}\n"
     ]
    }
   ],
   "source": [
    "results_Mozambique = dict(\n",
    "    zip(generators, g.loc[\"Mozambique\",:].solution.values)\n",
    ")\n",
    "print(\"Mozambique: \", results_Mozambique)"
   ]
  },
  {
   "cell_type": "markdown",
   "id": "7cfc9c9e-e2ed-490c-8a05-7179e6bd1090",
   "metadata": {},
   "source": [
    "### Single bidding zone with several periods"
   ]
  },
  {
   "cell_type": "markdown",
   "id": "6e203478-4a7f-4970-9213-63932fc578c5",
   "metadata": {},
   "source": [
    "In this example, we consider multiple time periods (labelled [0,1,2,3]) to represent variable wind generation and changing load."
   ]
  },
  {
   "cell_type": "markdown",
   "id": "18cc95fd-7d29-4e68-b2f0-f60c43c715ed",
   "metadata": {},
   "source": [
    "  \\begin{equation}\n",
    "    \\min_{g_{s,t}} \\sum_s o_{s} g_{s,t}\n",
    "  \\end{equation}\n",
    "  such that\n",
    "  \\begin{align}\n",
    "    g_{s,t} &\\leq \\hat{g}_{s,t} G_{i,s} \\\\\n",
    "    g_{s,t} &\\geq 0 \\\\\n",
    "    \\sum_s g_{s,t} &= d_t\n",
    "  \\end{align}"
   ]
  },
  {
   "cell_type": "markdown",
   "id": "fb4b6172-a8cb-439f-b15e-c484de6ef859",
   "metadata": {},
   "source": [
    "We are given the following data (all in MW):"
   ]
  },
  {
   "cell_type": "code",
   "execution_count": 44,
   "id": "1bb1830d-82ad-4fa1-9d22-279f784bbe52",
   "metadata": {},
   "outputs": [],
   "source": [
    "generators = [\"Coal\", \"Wind\", \"Gas\", \"Oil\"]"
   ]
  },
  {
   "cell_type": "code",
   "execution_count": 45,
   "id": "2a52138e-be68-405a-9f83-b2771bdaf149",
   "metadata": {},
   "outputs": [
    {
     "data": {
      "text/plain": [
       "RangeIndex(start=0, stop=4, step=1, name='time_index')"
      ]
     },
     "execution_count": 45,
     "metadata": {},
     "output_type": "execute_result"
    }
   ],
   "source": [
    "time_range = pd.RangeIndex(4, name='time_range')\n",
    "time_index = pd.Index(time_range, name='time_index')\n",
    "time_index"
   ]
  },
  {
   "cell_type": "code",
   "execution_count": 46,
   "id": "a07fd45c-0934-4af4-a8b6-f911608bfc15",
   "metadata": {},
   "outputs": [
    {
     "data": {
      "text/plain": [
       "Index(['Coal', 'Wind', 'Gas', 'Oil'], dtype='object', name='generators')"
      ]
     },
     "execution_count": 46,
     "metadata": {},
     "output_type": "execute_result"
    }
   ],
   "source": [
    "generators_index=pd.Index(generators, name='generators')\n",
    "generators_index"
   ]
  },
  {
   "cell_type": "code",
   "execution_count": 47,
   "id": "cf6c6e05-b4b4-4f9d-baa3-5796c88f4987",
   "metadata": {},
   "outputs": [
    {
     "data": {
      "text/plain": [
       "Coal    30\n",
       "Wind     0\n",
       "Gas     60\n",
       "Oil     80\n",
       "Name: generators, dtype: int64"
      ]
     },
     "execution_count": 47,
     "metadata": {},
     "output_type": "execute_result"
    }
   ],
   "source": [
    "marginal_series = pd.Series([30, 0, 60, 80], index=generators, name=\"generators\")\n",
    "marginal_series"
   ]
  },
  {
   "cell_type": "code",
   "execution_count": 48,
   "id": "ef2ca351-5382-4763-ab48-939ba579d622",
   "metadata": {},
   "outputs": [
    {
     "data": {
      "text/plain": [
       "[900.0, 1800.0, 1200.0, 1500.0]"
      ]
     },
     "execution_count": 48,
     "metadata": {},
     "output_type": "execute_result"
    }
   ],
   "source": [
    "wind_time_capacityFactor = [0.3, 0.6, 0.4, 0.5] \n",
    "wind_time=[capacityFactor*3000 for capacityFactor in  wind_time_capacityFactor]\n",
    "wind_time"
   ]
  },
  {
   "cell_type": "code",
   "execution_count": 49,
   "id": "6b17476c-9db2-4d0d-9df4-c9f465116b57",
   "metadata": {},
   "outputs": [
    {
     "data": {
      "text/html": [
       "<div>\n",
       "<style scoped>\n",
       "    .dataframe tbody tr th:only-of-type {\n",
       "        vertical-align: middle;\n",
       "    }\n",
       "\n",
       "    .dataframe tbody tr th {\n",
       "        vertical-align: top;\n",
       "    }\n",
       "\n",
       "    .dataframe thead th {\n",
       "        text-align: right;\n",
       "    }\n",
       "</style>\n",
       "<table border=\"1\" class=\"dataframe\">\n",
       "  <thead>\n",
       "    <tr style=\"text-align: right;\">\n",
       "      <th></th>\n",
       "      <th>Coal</th>\n",
       "      <th>Wind</th>\n",
       "      <th>Gas</th>\n",
       "      <th>Oil</th>\n",
       "    </tr>\n",
       "    <tr>\n",
       "      <th>time_index</th>\n",
       "      <th></th>\n",
       "      <th></th>\n",
       "      <th></th>\n",
       "      <th></th>\n",
       "    </tr>\n",
       "  </thead>\n",
       "  <tbody>\n",
       "    <tr>\n",
       "      <th>0</th>\n",
       "      <td>35000</td>\n",
       "      <td>900.0</td>\n",
       "      <td>8000</td>\n",
       "      <td>2000</td>\n",
       "    </tr>\n",
       "    <tr>\n",
       "      <th>1</th>\n",
       "      <td>35000</td>\n",
       "      <td>1800.0</td>\n",
       "      <td>8000</td>\n",
       "      <td>2000</td>\n",
       "    </tr>\n",
       "    <tr>\n",
       "      <th>2</th>\n",
       "      <td>35000</td>\n",
       "      <td>1200.0</td>\n",
       "      <td>8000</td>\n",
       "      <td>2000</td>\n",
       "    </tr>\n",
       "    <tr>\n",
       "      <th>3</th>\n",
       "      <td>35000</td>\n",
       "      <td>1500.0</td>\n",
       "      <td>8000</td>\n",
       "      <td>2000</td>\n",
       "    </tr>\n",
       "  </tbody>\n",
       "</table>\n",
       "</div>"
      ],
      "text/plain": [
       "             Coal    Wind   Gas   Oil\n",
       "time_index                           \n",
       "0           35000   900.0  8000  2000\n",
       "1           35000  1800.0  8000  2000\n",
       "2           35000  1200.0  8000  2000\n",
       "3           35000  1500.0  8000  2000"
      ]
     },
     "execution_count": 49,
     "metadata": {},
     "output_type": "execute_result"
    }
   ],
   "source": [
    "capacities_time_df = pd.DataFrame(\n",
    "    {\n",
    "        \"Coal\": [35000]*4,\n",
    "        \"Wind\": wind_time,\n",
    "        \"Gas\": [8000]*4,\n",
    "        \"Oil\": [2000]*4,\n",
    "    },\n",
    "    index=time_index,\n",
    ")\n",
    "capacities_time_df"
   ]
  },
  {
   "cell_type": "code",
   "execution_count": 50,
   "id": "74658603-cb8f-4cef-9070-ff9b2ed28c78",
   "metadata": {},
   "outputs": [],
   "source": [
    "load_time = [42000, 43000, 45000, 46000]"
   ]
  },
  {
   "cell_type": "markdown",
   "id": "c5e51151-1ff9-4012-898a-5ac93924b396",
   "metadata": {},
   "source": [
    "We now start building the model:"
   ]
  },
  {
   "cell_type": "code",
   "execution_count": 51,
   "id": "46e65d7c-3113-43a3-a091-5f2f8bd3fdfe",
   "metadata": {},
   "outputs": [],
   "source": [
    "m = linopy.Model()"
   ]
  },
  {
   "cell_type": "markdown",
   "id": "39a799b0-81a1-47f3-8dd4-8905cdc1d016",
   "metadata": {},
   "source": [
    "Let's define the dispatch variables `g` with the `lower` and `upper` bound:\n",
    "  \\begin{align}\n",
    "    g_{s,t} &\\leq \\hat{g}_{s,t} G_{i,s} \\\\\n",
    "    g_{s,t} &\\geq 0 \\\\\n",
    "  \\end{align}"
   ]
  },
  {
   "cell_type": "code",
   "execution_count": 52,
   "id": "54c6e92d-df1a-4d81-8d06-1c47ed1ca445",
   "metadata": {},
   "outputs": [
    {
     "data": {
      "text/plain": [
       "Variable (time_index: 4, generators: 4)\n",
       "---------------------------------------\n",
       "[0, Coal]: g[0, Coal] ∈ [0, 3.5e+04]\n",
       "[0, Wind]: g[0, Wind] ∈ [0, 900]\n",
       "[0, Gas]: g[0, Gas] ∈ [0, 8000]\n",
       "[0, Oil]: g[0, Oil] ∈ [0, 2000]\n",
       "[1, Coal]: g[1, Coal] ∈ [0, 3.5e+04]\n",
       "[1, Wind]: g[1, Wind] ∈ [0, 1800]\n",
       "[1, Gas]: g[1, Gas] ∈ [0, 8000]\n",
       "\t\t...\n",
       "[2, Wind]: g[2, Wind] ∈ [0, 1200]\n",
       "[2, Gas]: g[2, Gas] ∈ [0, 8000]\n",
       "[2, Oil]: g[2, Oil] ∈ [0, 2000]\n",
       "[3, Coal]: g[3, Coal] ∈ [0, 3.5e+04]\n",
       "[3, Wind]: g[3, Wind] ∈ [0, 1500]\n",
       "[3, Gas]: g[3, Gas] ∈ [0, 8000]\n",
       "[3, Oil]: g[3, Oil] ∈ [0, 2000]"
      ]
     },
     "execution_count": 52,
     "metadata": {},
     "output_type": "execute_result"
    }
   ],
   "source": [
    "g = m.add_variables(\n",
    "    lower=0, upper=capacities_time_df,coords=[time_index, generators_index], name=\"g\"\n",
    ")\n",
    "g"
   ]
  },
  {
   "cell_type": "markdown",
   "id": "6c7611d1-e77d-4b08-b8b3-50e3ec4ad91d",
   "metadata": {},
   "source": [
    "Then, we add the objective:\n",
    "  \\begin{equation}\n",
    "    \\min_{g_{s,t}} \\sum_s o_{s} g_{s,t}\n",
    "  \\end{equation}"
   ]
  },
  {
   "cell_type": "code",
   "execution_count": 53,
   "id": "2fe3cf97-7da2-4f18-96d4-b09e314413b6",
   "metadata": {},
   "outputs": [
    {
     "data": {
      "text/plain": [
       "Variable (generators: 4)\n",
       "------------------------\n",
       "[Coal]: marginals_linopy[Coal] ∈ [30, 30]\n",
       "[Wind]: marginals_linopy[Wind] ∈ [0, 0]\n",
       "[Gas]: marginals_linopy[Gas] ∈ [60, 60]\n",
       "[Oil]: marginals_linopy[Oil] ∈ [80, 80]"
      ]
     },
     "execution_count": 53,
     "metadata": {},
     "output_type": "execute_result"
    }
   ],
   "source": [
    "marginals_linopy=m.add_variables(lower=marginal_series, upper=marginal_series, coords=[generators_index], name='marginals_linopy')\n",
    "marginals_linopy"
   ]
  },
  {
   "cell_type": "code",
   "execution_count": 54,
   "id": "62ba1212-347d-4b04-901d-f0cae3167e50",
   "metadata": {},
   "outputs": [
    {
     "data": {
      "text/plain": [
       "Objective:\n",
       "----------\n",
       "QuadraticExpression: +1 marginals_linopy[Coal] g[0, Coal] + 1 marginals_linopy[Coal] g[1, Coal] + 1 marginals_linopy[Coal] g[2, Coal] ... +1 marginals_linopy[Coal] g[0, Coal] + 1 marginals_linopy[Coal] g[1, Coal] + 1 marginals_linopy[Coal] g[2, Coal]\n",
       "Sense: min\n",
       "Value: None"
      ]
     },
     "execution_count": 54,
     "metadata": {},
     "output_type": "execute_result"
    }
   ],
   "source": [
    "m.add_objective((marginals_linopy*g).sum(), sense=\"min\")\n",
    "m.objective"
   ]
  },
  {
   "cell_type": "markdown",
   "id": "f402a97e-9ab7-401e-9e2c-b569e7da35c5",
   "metadata": {},
   "source": [
    "Which is subject to:\n",
    "  \\begin{align}\n",
    "    \\sum_s g_{s,t} &= d_t\n",
    "  \\end{align}"
   ]
  },
  {
   "cell_type": "code",
   "execution_count": 55,
   "id": "33e80bc2-7991-4e5e-902e-ae95f89d3f1f",
   "metadata": {},
   "outputs": [
    {
     "data": {
      "text/plain": [
       "Constraint (unassigned)\n",
       "-----------------------\n",
       "+1 g[0, Coal] + 1 g[0, Wind] + 1 g[0, Gas] + 1 g[0, Oil] = 42000.0"
      ]
     },
     "execution_count": 55,
     "metadata": {},
     "output_type": "execute_result"
    }
   ],
   "source": [
    "g.loc[0,:].sum() == load_time[0]"
   ]
  },
  {
   "cell_type": "code",
   "execution_count": 56,
   "id": "f907e7e6-1fbb-4102-8c16-718364fb91ef",
   "metadata": {},
   "outputs": [
    {
     "data": {
      "text/plain": [
       "Constraint (unassigned)\n",
       "-----------------------\n",
       "+1 g[3, Coal] + 1 g[3, Wind] + 1 g[3, Gas] + 1 g[3, Oil] = 46000.0"
      ]
     },
     "execution_count": 56,
     "metadata": {},
     "output_type": "execute_result"
    }
   ],
   "source": [
    "g.loc[3,:].sum() == load_time[3]"
   ]
  },
  {
   "cell_type": "code",
   "execution_count": 57,
   "id": "cfc40d59-0780-422f-9c21-f3a59336a230",
   "metadata": {},
   "outputs": [],
   "source": [
    "for time_value in time_index:\n",
    "    m.add_constraints(g.loc[time_value,:].sum() == load_time[time_value], name=f\"energy_balance_{time_value}\")"
   ]
  },
  {
   "cell_type": "markdown",
   "id": "f5997e56-a5b6-4ff7-bcf4-a4f4d5bcb10b",
   "metadata": {},
   "source": [
    "We now solve the model:"
   ]
  },
  {
   "cell_type": "code",
   "execution_count": 58,
   "id": "f3b63ce4-d7c6-4b09-8e57-151c0f0040b6",
   "metadata": {},
   "outputs": [
    {
     "name": "stdout",
     "output_type": "stream",
     "text": [
      "Restricted license - for non-production use only - expires 2024-10-28\n",
      "Read LP format model from file C:\\Users\\huang\\AppData\\Local\\Temp\\linopy-problem-tv1d3cuc.lp\n",
      "Reading time = 0.00 seconds\n",
      "obj: 4 rows, 20 columns, 16 nonzeros\n",
      "Gurobi Optimizer version 10.0.3 build v10.0.3rc0 (win64)\n",
      "\n",
      "CPU model: Intel(R) Core(TM) i7-10510U CPU @ 1.80GHz, instruction set [SSE2|AVX|AVX2]\n",
      "Thread count: 4 physical cores, 8 logical processors, using up to 8 threads\n",
      "\n",
      "Optimize a model with 4 rows, 20 columns and 16 nonzeros\n",
      "Model fingerprint: 0xb3f6923b\n",
      "Model has 16 quadratic objective terms\n",
      "Coefficient statistics:\n",
      "  Matrix range     [1e+00, 1e+00]\n",
      "  Objective range  [0e+00, 0e+00]\n",
      "  QObjective range [2e+00, 2e+00]\n",
      "  Bounds range     [3e+01, 4e+04]\n",
      "  RHS range        [4e+04, 5e+04]\n",
      "Presolve removed 0 rows and 4 columns\n",
      "Presolve time: 0.02s\n",
      "Presolved: 4 rows, 16 columns, 16 nonzeros\n",
      "Ordering time: 0.00s\n",
      "\n",
      "Barrier statistics:\n",
      " AA' NZ     : 0.000e+00\n",
      " Factor NZ  : 4.000e+00\n",
      " Factor Ops : 4.000e+00 (less than 1 second per iteration)\n",
      " Threads    : 1\n",
      "\n",
      "                  Objective                Residual\n",
      "Iter       Primal          Dual         Primal    Dual     Compl     Time\n",
      "   0   2.41814299e+07 -4.54668005e+06  1.27e+04 0.00e+00  1.93e+06     0s\n",
      "   1   7.97551497e+06  3.03293687e+06  1.03e+03 2.27e-13  2.14e+05     0s\n",
      "   2   6.29664435e+06  5.73932094e+06  1.87e+00 5.91e-12  1.74e+04     0s\n",
      "   3   6.13376452e+06  5.98444874e+06  2.09e-02 1.71e-12  4.67e+03     0s\n",
      "   4   6.09463220e+06  6.06625266e+06  9.09e-13 1.14e-13  8.87e+02     0s\n",
      "   5   6.08403296e+06  6.07711228e+06  9.09e-13 1.14e-13  2.16e+02     0s\n",
      "   6   6.08200484e+06  6.08198972e+06  9.09e-13 5.68e-14  4.72e-01     0s\n",
      "   7   6.08200000e+06  6.08200000e+06  9.09e-13 5.68e-14  4.73e-07     0s\n",
      "   8   6.08200000e+06  6.08200000e+06  9.09e-13 1.14e-13  4.74e-13     0s\n",
      "\n",
      "Barrier solved model in 8 iterations and 0.06 seconds (0.00 work units)\n",
      "Optimal objective 6.08200000e+06\n",
      "\n"
     ]
    },
    {
     "data": {
      "text/plain": [
       "('ok', 'optimal')"
      ]
     },
     "execution_count": 58,
     "metadata": {},
     "output_type": "execute_result"
    }
   ],
   "source": [
    "m.solve()"
   ]
  },
  {
   "cell_type": "markdown",
   "id": "16db569f-41c0-4522-9867-9542922116d6",
   "metadata": {},
   "source": [
    "We display the results:"
   ]
  },
  {
   "cell_type": "code",
   "execution_count": 59,
   "id": "feb8151f-231b-4424-b42f-6d53b2b08e6e",
   "metadata": {},
   "outputs": [
    {
     "data": {
      "text/plain": [
       "array([[3.50000000e+04, 3.50000000e+04, 3.50000000e+04, 3.50000000e+04],\n",
       "       [9.00000000e+02, 1.80000000e+03, 1.20000000e+03, 1.50000000e+03],\n",
       "       [6.10000000e+03, 6.20000000e+03, 8.00000000e+03, 8.00000000e+03],\n",
       "       [2.22972085e-14, 2.23246661e-14, 8.00000000e+02, 1.50000000e+03]])"
      ]
     },
     "execution_count": 59,
     "metadata": {},
     "output_type": "execute_result"
    }
   ],
   "source": [
    "g.solution.values.transpose()"
   ]
  },
  {
   "cell_type": "code",
   "execution_count": 60,
   "id": "219e641a-9852-45f1-bc47-361912e2b070",
   "metadata": {},
   "outputs": [
    {
     "name": "stdout",
     "output_type": "stream",
     "text": [
      "Generator Dispatch:  {'Coal': array([35000., 35000., 35000., 35000.]), 'Wind': array([ 900., 1800., 1200., 1500.]), 'Gas': array([6100., 6200., 8000., 8000.]), 'Oil': array([2.22972085e-14, 2.23246661e-14, 8.00000000e+02, 1.50000000e+03])}\n"
     ]
    }
   ],
   "source": [
    "results = dict(\n",
    "    zip(generators, g.solution.values.transpose())\n",
    ")\n",
    "print(\"Generator Dispatch: \", results)"
   ]
  },
  {
   "cell_type": "markdown",
   "id": "69ed211d-aa56-4f7e-ab0a-c33f5fd93259",
   "metadata": {},
   "source": [
    "For ease of reading, we round the results to 2 decimals:"
   ]
  },
  {
   "cell_type": "code",
   "execution_count": 61,
   "id": "256a328c-bc6d-4f6a-97d9-60825d0e5201",
   "metadata": {},
   "outputs": [
    {
     "name": "stdout",
     "output_type": "stream",
     "text": [
      "Generator Dispatch:  {'Coal': array([35000., 35000., 35000., 35000.]), 'Wind': array([ 900., 1800., 1200., 1500.]), 'Gas': array([6100., 6200., 8000., 8000.]), 'Oil': array([   0.,    0.,  800., 1500.])}\n"
     ]
    }
   ],
   "source": [
    "results = dict(\n",
    "    zip(generators, np.round(g.solution.values.transpose(),2))\n",
    ")\n",
    "print(\"Generator Dispatch: \", results)"
   ]
  },
  {
   "cell_type": "markdown",
   "id": "b5b9981c-73e0-41a3-a2ba-4d75a6ef2c25",
   "metadata": {},
   "source": [
    "### Single bidding zone with several periods and storage"
   ]
  },
  {
   "cell_type": "markdown",
   "id": "af49627f-9d2c-4542-bd8d-4a501b4059c5",
   "metadata": {},
   "source": [
    "Now, we want to expand the optimisation model with a storage unit to do price arbitrage to reduce oil consumption."
   ]
  },
  {
   "cell_type": "markdown",
   "id": "7882d6ab-3108-49c5-b904-6d55602c853d",
   "metadata": {},
   "source": [
    "We have been given the following characteristics of the storage:"
   ]
  },
  {
   "cell_type": "code",
   "execution_count": 62,
   "id": "30b6d318-91e9-4074-b749-b2d1393e503e",
   "metadata": {},
   "outputs": [],
   "source": [
    "storage_energy = 6000  # MWh\n",
    "storage_power = 1000  # MW\n",
    "efficiency = 0.9  # discharge = charge\n",
    "standing_loss = 0.00001  # per hour"
   ]
  },
  {
   "cell_type": "code",
   "execution_count": 63,
   "id": "596f621c-70e1-4bb4-8701-e706bbd756e3",
   "metadata": {},
   "outputs": [
    {
     "data": {
      "text/plain": [
       "Linopy QP model\n",
       "===============\n",
       "\n",
       "Variables:\n",
       "----------\n",
       " * g (time_index, generators)\n",
       " * marginals_linopy (generators)\n",
       "\n",
       "Constraints:\n",
       "------------\n",
       " * energy_balance_0 (time_index)\n",
       " * energy_balance_1 (time_index)\n",
       " * energy_balance_2 (time_index)\n",
       " * energy_balance_3 (time_index)\n",
       "\n",
       "Status:\n",
       "-------\n",
       "ok"
      ]
     },
     "execution_count": 63,
     "metadata": {},
     "output_type": "execute_result"
    }
   ],
   "source": [
    "m"
   ]
  },
  {
   "cell_type": "markdown",
   "id": "087352e8-0e95-4120-a7b0-508ee148e034",
   "metadata": {},
   "source": [
    "To model a storage unit, we need three additional variables for the discharging and charging of the storage unit and for its state of charge (energy filling level). We can directly define the bounds of these variables in the variable definition:"
   ]
  },
  {
   "cell_type": "code",
   "execution_count": 64,
   "id": "2d32118c-eeda-4ab4-8400-292aca5fa0ef",
   "metadata": {},
   "outputs": [],
   "source": [
    "battery_discharge=m.add_variables(lower=0, upper=storage_power, coords=[time_index],name=\"battery_discharge\")\n",
    "battery_charge=m.add_variables(lower=0, upper=storage_power, coords=[time_index],name=\"battery_charge\")\n",
    "battery_soc=m.add_variables(lower=0, upper=storage_energy, coords=[time_index],name=\"battery_soc\") "
   ]
  },
  {
   "cell_type": "markdown",
   "id": "e874f80b-7482-4313-8418-87b213fa0441",
   "metadata": {},
   "source": [
    "Then, we implement the storage consistency equations,\n",
    "\n",
    "$$e_{t} = (1-\\text{standing loss}) \\cdot e_{t-1} + \\eta \\cdot g_{charge, t} - \\frac{1}{\\eta} \\cdot g_{discharge, t}$$\n",
    "\n",
    "For the initial period, we set the state of charge to zero.\n",
    "\n",
    "$$e_{0} = 0$$\n",
    "\n",
    "We also set the charging power and discharging power to zero.\n",
    "\n",
    "$$g_{discharge, 0} = 0$$\n",
    "$$g_{charge, 0} = 0$$"
   ]
  },
  {
   "cell_type": "code",
   "execution_count": 65,
   "id": "37f57529-a84c-4553-86ee-180211a53af8",
   "metadata": {},
   "outputs": [],
   "source": [
    "for time_value in time_index:\n",
    "    if time_value==0:\n",
    "        m.add_constraints(battery_soc.loc[0]==0)\n",
    "        m.add_constraints(battery_charge.loc[0]==0)\n",
    "        m.add_constraints(battery_discharge.loc[0]==0)\n",
    "    else: \n",
    "        m.add_constraints(battery_soc.loc[time_value]==(1-standing_loss)*battery_soc.loc[time_value-1]+efficiency*battery_charge.loc[time_value]-1/efficiency*battery_discharge.loc[time_value])"
   ]
  },
  {
   "cell_type": "markdown",
   "id": "726ff9ca-900f-47e9-9216-b79ad3202a99",
   "metadata": {},
   "source": [
    "And we also need to modify the energy balance to include the contributions of storage discharging and charging.\n",
    "\n",
    "For that, we should first remove the existing energy balance constraint, which we seek to overwrite."
   ]
  },
  {
   "cell_type": "code",
   "execution_count": 66,
   "id": "e1f690ff-55d0-45ff-901e-58c8adb43c18",
   "metadata": {},
   "outputs": [],
   "source": [
    "for time_value in time_index:\n",
    "    m.remove_constraints(f'energy_balance_{time_value}')"
   ]
  },
  {
   "cell_type": "code",
   "execution_count": 67,
   "id": "fcad7972-b06f-42d2-adab-80dd248bbd17",
   "metadata": {},
   "outputs": [
    {
     "data": {
      "text/plain": [
       "Constraint (unassigned)\n",
       "-----------------------\n",
       "+1 g[3, Coal] + 1 g[3, Wind] + 1 g[3, Gas] + 1 g[3, Oil] + 1 battery_discharge[3] - 1 battery_charge[3] = 46000.0"
      ]
     },
     "execution_count": 67,
     "metadata": {},
     "output_type": "execute_result"
    }
   ],
   "source": [
    "g.loc[3,:].sum() +battery_discharge.loc[3]-battery_charge.loc[3] == load_time[3] \n",
    "# constraint at time \"3\""
   ]
  },
  {
   "cell_type": "code",
   "execution_count": 68,
   "id": "ffb5ad87-2484-4bd9-be58-5c544325bb3d",
   "metadata": {},
   "outputs": [],
   "source": [
    "for time_value in time_index:\n",
    "    m.add_constraints(g.loc[time_value,:].sum() +battery_discharge.loc[time_value]-battery_charge.loc[time_value] == load_time[time_value], name=f\"energy_balance_{time_value}\")"
   ]
  },
  {
   "cell_type": "markdown",
   "id": "e9769874-f052-4b88-88a7-5e3d4334e4b5",
   "metadata": {},
   "source": [
    "We now solve the model:"
   ]
  },
  {
   "cell_type": "code",
   "execution_count": 69,
   "id": "5700dbf1-8ced-48f4-94b0-d991f5d1b4b0",
   "metadata": {},
   "outputs": [
    {
     "name": "stdout",
     "output_type": "stream",
     "text": [
      "Restricted license - for non-production use only - expires 2024-10-28\n",
      "Read LP format model from file C:\\Users\\huang\\AppData\\Local\\Temp\\linopy-problem-7lsh1eab.lp\n",
      "Reading time = 0.00 seconds\n",
      "obj: 10 rows, 32 columns, 39 nonzeros\n",
      "Gurobi Optimizer version 10.0.3 build v10.0.3rc0 (win64)\n",
      "\n",
      "CPU model: Intel(R) Core(TM) i7-10510U CPU @ 1.80GHz, instruction set [SSE2|AVX|AVX2]\n",
      "Thread count: 4 physical cores, 8 logical processors, using up to 8 threads\n",
      "\n",
      "Optimize a model with 10 rows, 32 columns and 39 nonzeros\n",
      "Model fingerprint: 0x6dfaefec\n",
      "Model has 16 quadratic objective terms\n",
      "Coefficient statistics:\n",
      "  Matrix range     [9e-01, 1e+00]\n",
      "  Objective range  [0e+00, 0e+00]\n",
      "  QObjective range [2e+00, 2e+00]\n",
      "  Bounds range     [3e+01, 4e+04]\n",
      "  RHS range        [4e+04, 5e+04]\n",
      "Presolve removed 3 rows and 7 columns\n",
      "Presolve time: 0.02s\n",
      "Presolved: 7 rows, 25 columns, 33 nonzeros\n",
      "Ordering time: 0.00s\n",
      "\n",
      "Barrier statistics:\n",
      " AA' NZ     : 5.000e+00\n",
      " Factor NZ  : 2.200e+01\n",
      " Factor Ops : 9.200e+01 (less than 1 second per iteration)\n",
      " Threads    : 1\n",
      "\n",
      "                  Objective                Residual\n",
      "Iter       Primal          Dual         Primal    Dual     Compl     Time\n",
      "   0   2.36173491e+07 -5.76343695e+06  1.23e+04 5.68e-14  1.72e+06     0s\n",
      "   1   8.04319932e+06  2.21921034e+06  1.07e+03 2.27e-13  1.95e+05     0s\n",
      "   2   6.30962292e+06  5.44758958e+06  1.82e-12 1.41e-11  1.72e+04     0s\n",
      "   3   6.16307947e+06  5.85354098e+06  9.09e-13 5.23e-12  6.19e+03     0s\n",
      "   4   6.10450692e+06  6.04009269e+06  9.09e-13 4.55e-13  1.29e+03     0s\n",
      "   5   6.07984561e+06  6.06882537e+06  9.09e-13 1.14e-13  2.20e+02     0s\n",
      "   6   6.07727041e+06  6.07714186e+06  9.09e-13 1.41e-13  2.57e+00     0s\n",
      "   7   6.07720120e+06  6.07719953e+06  9.09e-13 1.14e-13  3.34e-02     0s\n",
      "   8   6.07720079e+06  6.07720053e+06  1.82e-12 3.41e-13  5.22e-03     0s\n",
      "   9   6.07720066e+06  6.07720065e+06  9.09e-13 1.14e-13  4.84e-05     0s\n",
      "  10   6.07720066e+06  6.07720066e+06  3.01e-10 1.14e-13  8.17e-10     0s\n",
      "\n",
      "Barrier solved model in 10 iterations and 0.07 seconds (0.00 work units)\n",
      "Optimal objective 6.07720066e+06\n",
      "\n"
     ]
    },
    {
     "data": {
      "text/plain": [
       "('ok', 'optimal')"
      ]
     },
     "execution_count": 69,
     "metadata": {},
     "output_type": "execute_result"
    }
   ],
   "source": [
    "m.solve()"
   ]
  },
  {
   "cell_type": "markdown",
   "id": "80f712d8-b070-4eb3-9d3f-2e9ec560f9df",
   "metadata": {},
   "source": [
    "We display the results:"
   ]
  },
  {
   "cell_type": "code",
   "execution_count": 70,
   "id": "b92c2f1e-113e-4dfc-9ec0-30c3ae680123",
   "metadata": {},
   "outputs": [
    {
     "data": {
      "text/plain": [
       "array([[3.50000000e+04, 3.50000000e+04, 3.50000000e+04, 3.50000000e+04],\n",
       "       [9.00000000e+02, 1.80000000e+03, 1.20000000e+03, 1.50000000e+03],\n",
       "       [6.10000000e+03, 7.20000000e+03, 8.00000000e+03, 8.00000000e+03],\n",
       "       [5.58835712e-13, 5.58835714e-13, 2.60533217e-05, 1.49000817e+03]])"
      ]
     },
     "execution_count": 70,
     "metadata": {},
     "output_type": "execute_result"
    }
   ],
   "source": [
    "g.solution.values.transpose()"
   ]
  },
  {
   "cell_type": "code",
   "execution_count": 71,
   "id": "d7212f06-6bf4-4de3-a68e-fe584d32a00d",
   "metadata": {},
   "outputs": [
    {
     "name": "stdout",
     "output_type": "stream",
     "text": [
      "Generator Dispatch:  {'Coal': array([35000., 35000., 35000., 35000.]), 'Wind': array([ 900., 1800., 1200., 1500.]), 'Gas': array([6100., 7200., 8000., 8000.]), 'Oil': array([   0.  ,    0.  ,    0.  , 1490.01])}\n"
     ]
    }
   ],
   "source": [
    "results = dict(\n",
    "    zip(generators, np.round(g.solution.values.transpose(),2))\n",
    ")\n",
    "print(\"Generator Dispatch: \", results)"
   ]
  },
  {
   "cell_type": "code",
   "execution_count": 72,
   "id": "ed4ffe65-82ac-4565-a11a-fa5d99f977f5",
   "metadata": {},
   "outputs": [
    {
     "name": "stdout",
     "output_type": "stream",
     "text": [
      "Battery Discharge:  [  0.       0.     800.       9.9918]\n"
     ]
    }
   ],
   "source": [
    "print(\"Battery Discharge: \", np.round(battery_discharge.solution.values,4))"
   ]
  },
  {
   "cell_type": "code",
   "execution_count": 73,
   "id": "2ff75605-f715-4f1c-9b39-0e2b46d0072b",
   "metadata": {},
   "outputs": [
    {
     "name": "stdout",
     "output_type": "stream",
     "text": [
      "Battery Charge:  [   0. 1000.    0.    0.]\n"
     ]
    }
   ],
   "source": [
    "print(\"Battery Charge: \", np.round(battery_charge.solution.values,4))"
   ]
  },
  {
   "cell_type": "code",
   "execution_count": 74,
   "id": "41b539b7-1011-4fd9-b30b-b474c4e365cb",
   "metadata": {},
   "outputs": [
    {
     "name": "stdout",
     "output_type": "stream",
     "text": [
      "Battery Soc:  [  0.     900.      11.1021   0.    ]\n"
     ]
    }
   ],
   "source": [
    "print(\"Battery Soc: \", np.round(battery_soc.solution.values,4))"
   ]
  },
  {
   "cell_type": "markdown",
   "id": "3c3386c4-946f-4f8e-8582-18730f60be83",
   "metadata": {},
   "source": [
    "### Exercise"
   ]
  },
  {
   "cell_type": "markdown",
   "id": "c4d9eb93-073e-4725-957d-ebc2aa603b0c",
   "metadata": {},
   "source": [
    "- Using the conversion efficiencies and specific emissions from the lecture slides, add a constraint that limits the total emissions in the four periods to 50% of the unconstrained optimal solution. How does the optimal objective value and the generator dispatch change?\n",
    "\n",
    "- Reimplement the storage consistency constraint such that the initial state of charge is not zero but corresponds to the state of charge in the final period of the optimisation horizon.\n",
    "\n",
    "- What parameters of the storage unit would have to be changed to reduce the objective? What's the sensitivity?"
   ]
  }
 ],
 "metadata": {
  "kernelspec": {
   "display_name": "Python 3 (ipykernel)",
   "language": "python",
   "name": "python3"
  },
  "language_info": {
   "codemirror_mode": {
    "name": "ipython",
    "version": 3
   },
   "file_extension": ".py",
   "mimetype": "text/x-python",
   "name": "python",
   "nbconvert_exporter": "python",
   "pygments_lexer": "ipython3",
   "version": "3.10.13"
  }
 },
 "nbformat": 4,
 "nbformat_minor": 5
}
