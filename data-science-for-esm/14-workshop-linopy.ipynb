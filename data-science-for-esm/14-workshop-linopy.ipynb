{
 "cells": [
  {
   "cell_type": "markdown",
   "id": "47098e73-2dbb-4b9d-8abf-c2de66e1f264",
   "metadata": {},
   "source": [
    "# Introduction to `linopy`"
   ]
  },
  {
   "cell_type": "markdown",
   "id": "cdd93543-0b5c-4e03-adc5-5c9d44c7774a",
   "metadata": {},
   "source": [
    ":::{note}\n",
    "This material is in part adapted from the following resources:\n",
    "- [Linopy Tutorial](https://linopy.readthedocs.io/en/latest/index.html)\n",
    "- [PyPSA simple electricity market examples](https://pypsa.readthedocs.io/en/latest/examples/simple-electricity-market-examples.html)\n",
    ":::\n",
    "\n",
    "\n",
    "\n",
    "[Linopy](https://linopy.readthedocs.io/en/latest/index.html)  is an open-source framework for formulating, solving, and analyzing optimization problems with Python.\r\n",
    "\r\n",
    "With Linopy, you can create an optimization model within Python that consists of decision variables, constraints, and an optimization objective. You can then solve these instances using a variety of commerci and open-source solvers (specialised software).\n",
    "\n",
    "[Linopy](https://linopy.readthedocs.io/en/latest/index.html) supports a wide range of problem types, including:\n",
    "\n",
    "- **Linear programming**\n",
    "- Quadratic programmingng\n",
    "- Nonlinear programming\n",
    "- Mixed-integer linear programming\n",
    "- Mixed-integer quadratic programming\n",
    "- Mixed-integer nonlinear programming\n",
    "- Stochastic programming\n",
    "- Generalized disjunctive programming\n",
    "- Differential algebraic equations\n",
    "- Bilevel programmin- Mathematical programs with equilibrium constraints\n",
    "\n",
    "\n",
    ":::{note}\n",
    "Documentation for this package is available at https://linopy.readthedocs.io/en/latest/index.html.\n",
    ":::.\r\n",
    ":::"
   ]
  },
  {
   "cell_type": "markdown",
   "id": "e6221514-355e-40eb-9194-b9026add6e40",
   "metadata": {},
   "source": [
    ":::{note}\n",
    "If you have not yet set up Python on your computer, you can execute this tutorial in your browser via [Google Colab](https://colab.research.google.com/). Click on the rocket in the top right corner and launch \"Colab\". If that doesn't work download the `.ipynb` file and import it in [Google Colab](https://colab.research.google.com/).\n",
    "\n",
    "Then install the following packages by executing the following command in a Jupyter cell at the top of the notebook.\n",
    "\n",
    "```sh\n",
    "!pip install pandas pyomo highspy\n",
    "```\n",
    ":::"
   ]
  },
  {
   "cell_type": "markdown",
   "id": "cc582211-9363-4107-932c-48c9c2279535",
   "metadata": {},
   "source": [
    "### Initializing a `Model`\n",
    "\n",
    "The Model class in Linopy is a fundamental part of the library. It serves as a container for all the relevant data associated with a linear optimization problem. This includes variables, constraints, and the objective function."
   ]
  },
  {
   "cell_type": "code",
   "execution_count": 1,
   "id": "5a354208-6737-45db-a589-3fc417f031ef",
   "metadata": {},
   "outputs": [],
   "source": [
    "from linopy import Model#, Variable, Objective#, Constraint, Sense"
   ]
  },
  {
   "cell_type": "code",
   "execution_count": 2,
   "id": "d94292b1-8073-49a8-a2e9-a2c769145b2d",
   "metadata": {},
   "outputs": [],
   "source": [
    "# Create a linopy Problem\n",
    "m = Model()"
   ]
  },
  {
   "cell_type": "markdown",
   "id": "bf2b2258-f0f3-4118-ac39-6d902e1d61e3",
   "metadata": {},
   "source": [
    "This creates a new Model object, which you can then use to define your optimization problem."
   ]
  },
  {
   "cell_type": "markdown",
   "id": "4844ce4c-4ba6-4dec-957a-69dce93c07f0",
   "metadata": {},
   "source": [
    "\n",
    "\n",
    "### Adding variables\n",
    "\n",
    "Variables in a linear optimization problem represent the decision variables. A variable can always be assigned with a lower and an upper bound. In our case, both `x` and `y` have a lower bound of zero (default is unbouded). In Linopy, you can add variables to a Model using the `add_variables` method:"
   ]
  },
  {
   "cell_type": "code",
   "execution_count": 3,
   "id": "64b35f1c-5398-4eb3-9135-aafce270b79b",
   "metadata": {},
   "outputs": [],
   "source": [
    "# Create Variables\n",
    "\n",
    "x = m.add_variables(lower=0, name='x')\n",
    "y = m.add_variables(lower=0, name='y');\n",
    "#m.x = Variable(domain=(0, float('inf')))\n",
    "#m.y = Variable()"
   ]
  },
  {
   "cell_type": "markdown",
   "id": "57bd1e94-7ead-4c86-a590-f2c2998b5f92",
   "metadata": {},
   "source": [
    "`x` and `y` are linopy variables of the class `linopy.Variable`. Each of them contain all relevant information that define it. The `name` parameter is optional but can be useful for referencing the variables later."
   ]
  },
  {
   "cell_type": "code",
   "execution_count": 4,
   "id": "19d4b5f5-b9ae-48f6-8ce6-cd4a418dba6b",
   "metadata": {},
   "outputs": [
    {
     "data": {
      "text/plain": [
       "Variable\n",
       "--------\n",
       "y ∈ [0, inf]"
      ]
     },
     "execution_count": 4,
     "metadata": {},
     "output_type": "execute_result"
    }
   ],
   "source": [
    "y"
   ]
  },
  {
   "cell_type": "markdown",
   "id": "f7fc48a8-ab7e-4baf-93d2-ff907e543db1",
   "metadata": {},
   "source": [
    "## Adding the Objective \n",
    "\n",
    "The objective function defines what you want to optimize. You can set the objective function of a Model in Linopy using the add_objective method. For our example that would be"
   ]
  },
  {
   "cell_type": "code",
   "execution_count": 5,
   "id": "18c6e6ce-37f9-4527-83a4-e5764b67b34c",
   "metadata": {},
   "outputs": [
    {
     "data": {
      "text/plain": [
       "LinearExpression\n",
       "----------------\n",
       "-4 x - 3 y"
      ]
     },
     "execution_count": 5,
     "metadata": {},
     "output_type": "execute_result"
    }
   ],
   "source": [
    "# Create Objective\n",
    "m.add_objective(-4*x - 3*y)\n",
    "#m.obj = Objective(4 * m.x + 3 * m.y, sense=Sense.MAXIMIZE)"
   ]
  },
  {
   "cell_type": "markdown",
   "id": "d07cc8d8-1ea6-47e2-9b84-5326948a602b",
   "metadata": {},
   "source": [
    "Since both `x` and `y` are scalar variables (meaning they don't have any dimensions), their underlying data contain only one optimization variable each.  \n",
    "\n",
    "### Adding Constraints\n",
    "\n",
    "Constraints define the feasible region of the optimization problem. They consist of the left hand side (lhs) and the right hand side (rhs). The first constraint that we want to write down is \n",
    "$x <= 4$, which we write out exactly in the mathematical way.\n",
    "\n",
    "We assign it by calling the function `m.add_constraints`."
   ]
  },
  {
   "cell_type": "code",
   "execution_count": 6,
   "id": "fa233f5c-38ec-4a5a-9008-502932df968d",
   "metadata": {},
   "outputs": [
    {
     "data": {
      "text/plain": [
       "Constraint `con2`\n",
       "-----------------\n",
       "+1 x + 1 y ≤ 10"
      ]
     },
     "execution_count": 6,
     "metadata": {},
     "output_type": "execute_result"
    }
   ],
   "source": [
    "# Create Constraints\n",
    "\n",
    "m.add_constraints(x  <= 4)\n",
    "m.add_constraints(2*x + y <= 10)\n",
    "m.add_constraints(x + y <= 10)\n",
    "\n",
    "\n"
   ]
  },
  {
   "cell_type": "markdown",
   "id": "b8ec9c21-de8c-40a1-8d30-2e3ee3f6d7ed",
   "metadata": {},
   "source": [
    "## Solving the Model\n",
    "\n",
    "Once you've defined your Model with variables, constraints, and an objective function, you can solve it using the `solve` method:"
   ]
  },
  {
   "cell_type": "code",
   "execution_count": 7,
   "id": "712a0033-d027-478a-b8f2-201ec4ed1cc1",
   "metadata": {},
   "outputs": [
    {
     "name": "stdout",
     "output_type": "stream",
     "text": [
      "Restricted license - for non-production use only - expires 2024-10-28\n",
      "Read LP format model from file C:\\Users\\huang\\AppData\\Local\\Temp\\linopy-problem-2zzuyndv.lp\n",
      "Reading time = 0.01 seconds\n",
      "obj: 3 rows, 2 columns, 5 nonzeros\n",
      "Gurobi Optimizer version 10.0.3 build v10.0.3rc0 (win64)\n",
      "\n",
      "CPU model: Intel(R) Core(TM) i7-10510U CPU @ 1.80GHz, instruction set [SSE2|AVX|AVX2]\n",
      "Thread count: 4 physical cores, 8 logical processors, using up to 8 threads\n",
      "\n",
      "Optimize a model with 3 rows, 2 columns and 5 nonzeros\n",
      "Model fingerprint: 0x36ba073a\n",
      "Coefficient statistics:\n",
      "  Matrix range     [1e+00, 2e+00]\n",
      "  Objective range  [3e+00, 4e+00]\n",
      "  Bounds range     [0e+00, 0e+00]\n",
      "  RHS range        [4e+00, 1e+01]\n",
      "Presolve removed 1 rows and 0 columns\n",
      "Presolve time: 0.03s\n",
      "Presolved: 2 rows, 2 columns, 4 nonzeros\n",
      "\n",
      "Iteration    Objective       Primal Inf.    Dual Inf.      Time\n",
      "       0   -3.0000000e+01   0.000000e+00   0.000000e+00      0s\n",
      "       0   -3.0000000e+01   0.000000e+00   0.000000e+00      0s\n",
      "\n",
      "Solved in 0 iterations and 0.05 seconds (0.00 work units)\n",
      "Optimal objective -3.000000000e+01\n"
     ]
    },
    {
     "data": {
      "text/plain": [
       "('ok', 'optimal')"
      ]
     },
     "execution_count": 7,
     "metadata": {},
     "output_type": "execute_result"
    }
   ],
   "source": [
    "# Solve the Problem\n",
    "m.solve()\n",
    "#m.solve(solver=\"cbc\")  # You can choose a different solver like 'glpk', 'gurobi', etc."
   ]
  },
  {
   "cell_type": "code",
   "execution_count": 20,
   "id": "1f28aa81-d16f-4b7e-9d8e-f661d4b8bcd8",
   "metadata": {},
   "outputs": [
    {
     "data": {
      "text/plain": [
       "array(0.)"
      ]
     },
     "execution_count": 20,
     "metadata": {},
     "output_type": "execute_result"
    }
   ],
   "source": [
    "x.solution.values"
   ]
  },
  {
   "cell_type": "code",
   "execution_count": 21,
   "id": "470e2d25-9386-438d-932e-113464907726",
   "metadata": {},
   "outputs": [
    {
     "data": {
      "text/plain": [
       "array(10.)"
      ]
     },
     "execution_count": 21,
     "metadata": {},
     "output_type": "execute_result"
    }
   ],
   "source": [
    "y.solution.values\n"
   ]
  },
  {
   "cell_type": "code",
   "execution_count": 10,
   "id": "56232ce3-0463-44e6-bc30-69cb7bcdc43e",
   "metadata": {},
   "outputs": [
    {
     "name": "stdout",
     "output_type": "stream",
     "text": [
      "Solver Status: ok\n"
     ]
    }
   ],
   "source": [
    "# Print Solver Status\n",
    "print(\"Solver Status:\", m.status)"
   ]
  },
  {
   "cell_type": "markdown",
   "id": "0e430cb8-5b2a-4a68-97aa-ef66a6c9d5dc",
   "metadata": {},
   "source": [
    "While we can read from the message above that our problem was solved successfully, we can also formally check by accessing the reported status in the Linopy \"Model()\" object."
   ]
  },
  {
   "cell_type": "code",
   "execution_count": 29,
   "id": "17f3ee37-5c63-49d5-8290-74ee4b00aea5",
   "metadata": {},
   "outputs": [],
   "source": [
    "assert m.status == 'ok' "
   ]
  },
  {
   "cell_type": "code",
   "execution_count": null,
   "id": "9df9bdd7-3c9b-42fd-82e4-28a9f5d4b171",
   "metadata": {},
   "outputs": [],
   "source": []
  },
  {
   "cell_type": "code",
   "execution_count": null,
   "id": "54d7e306-51c8-4df5-9a8a-09d97c251022",
   "metadata": {},
   "outputs": [],
   "source": []
  },
  {
   "cell_type": "code",
   "execution_count": null,
   "id": "6ff1b226-b4f0-4757-b55b-8fabfa9a4d97",
   "metadata": {},
   "outputs": [],
   "source": []
  },
  {
   "cell_type": "markdown",
   "id": "0c641305-6f81-48a6-8252-fed1dc64851b",
   "metadata": {},
   "source": [
    "### Dual values (aka shadow prices)"
   ]
  },
  {
   "cell_type": "markdown",
   "id": "d4a07979-7696-42f2-a6d1-5946d977184d",
   "metadata": {},
   "source": [
    "Access to dual values in scripts is similar to accessing primal variable values, except that dual values are not captured by default so additional directives are needed **before** optimization to signal that duals are desired.\n",
    "\n",
    "To signal that duals are desired, declare a **Suffix** (another `pyomo` component) with the name \"dual\" on the model."
   ]
  },
  {
   "cell_type": "code",
   "execution_count": 1,
   "id": "9fe58c8f-85e1-4a8a-b690-eb94fb0f3fb5",
   "metadata": {},
   "outputs": [
    {
     "data": {
      "text/plain": [
       "'\\n# Get Dual Values\\nm.dual = m.get_duals()\\n\\n# Print Dual Values\\nprint(\"Dual for c1:\", m.dual[m.c1])\\nprint(\"Dual for c2:\", m.dual[m.c2])\\n\\n# Create a new Problem\\nm = Problem()\\n\\n# Create Sets and Variables\\nm.A = range(1, 3)\\nB = [\"wind\", \"solar\"]\\nm.B = B\\nm.x = Variable(m.A)\\nm.y = Variable(m.A, B)\\n\\n# Create Constraints\\nm.c1 = Constraint(sum(m.y[a, b] for b in B) == 1 for a in m.A)\\nm.c2 = Constraint(sum(m.y[a, b] for b in B) >= 1 for a in m.A)\\n\\n# Solve the Problem\\nm.solve(solver=\"cbc\")\\n\\n# Print Variable Values\\nprint(\"x:\", [m.x[a].value for a in m.A])\\nprint(\"y:\")\\nfor a in m.A:\\n    for b in B:\\n        print(f\"y[{a}, {b}]:\", m.y[a, b].value)\\n\\n# Create a new Problem\\nm = Problem()\\n\\n# Define Marginal Costs, Capacities, and Load\\nmarginal_costs = {\\n    \"Wind\": 0,\\n    \"Coal\": 30,\\n    \"Gas\": 60,\\n    \"Oil\": 80,\\n}\\ncapacities = {\"Coal\": 35000, \"Wind\": 3000, \"Gas\": 8000, \"Oil\": 2000}\\nload = 42000\\n\\n# Create Sets and Variables\\nm.S = list(capacities.keys())\\nm.g = Variable(m.S, domain=(0, None))\\n\\n# Create Objective\\nm.cost = Objective(sum(marginal_costs[s] * m.g[s] for s in m.S))\\n\\n# Create Constraints\\nm.generator_limit = Constraint(m.g[s] <= capacities[s] for s in m.S)\\nm.energy_balance = Constraint(sum(m.g[s] for s in m.S) == load)\\n\\n# Solve the Problem\\nm.solve(solver=\"cbc\")\\n\\n# Print Objective Value\\nprint(\"Objective (Cost):\", m.cost.value)\\n\\n# Print Variable Values\\nprint(\"Generators (g):\")\\nfor s in m.S:\\n    print(f\"{s}: {m.g[s].value}\")\\n\\n# Get Dual Values\\nm.dual = m.get_duals()\\n\\n# Print Dual Values\\nprint(\"Dual for energy_balance:\", m.dual[m.energy_balance])\\nfor s in m.S:\\n    print(f\"Dual for generator_limit ({s}): {m.dual[m.generator_limit[s]]}\")\\n\\n# Continue with the remaining code similarly.\\n'"
      ]
     },
     "execution_count": 1,
     "metadata": {},
     "output_type": "execute_result"
    }
   ],
   "source": [
    "\"\"\"\n",
    "# Get Dual Values\n",
    "m.dual = m.get_duals()\n",
    "\n",
    "# Print Dual Values\n",
    "print(\"Dual for c1:\", m.dual[m.c1])\n",
    "print(\"Dual for c2:\", m.dual[m.c2])\n",
    "\n",
    "# Create a new Problem\n",
    "m = Problem()\n",
    "\n",
    "# Create Sets and Variables\n",
    "m.A = range(1, 3)\n",
    "B = [\"wind\", \"solar\"]\n",
    "m.B = B\n",
    "m.x = Variable(m.A)\n",
    "m.y = Variable(m.A, B)\n",
    "\n",
    "# Create Constraints\n",
    "m.c1 = Constraint(sum(m.y[a, b] for b in B) == 1 for a in m.A)\n",
    "m.c2 = Constraint(sum(m.y[a, b] for b in B) >= 1 for a in m.A)\n",
    "\n",
    "# Solve the Problem\n",
    "m.solve(solver=\"cbc\")\n",
    "\n",
    "# Print Variable Values\n",
    "print(\"x:\", [m.x[a].value for a in m.A])\n",
    "print(\"y:\")\n",
    "for a in m.A:\n",
    "    for b in B:\n",
    "        print(f\"y[{a}, {b}]:\", m.y[a, b].value)\n",
    "\n",
    "# Create a new Problem\n",
    "m = Problem()\n",
    "\n",
    "# Define Marginal Costs, Capacities, and Load\n",
    "marginal_costs = {\n",
    "    \"Wind\": 0,\n",
    "    \"Coal\": 30,\n",
    "    \"Gas\": 60,\n",
    "    \"Oil\": 80,\n",
    "}\n",
    "capacities = {\"Coal\": 35000, \"Wind\": 3000, \"Gas\": 8000, \"Oil\": 2000}\n",
    "load = 42000\n",
    "\n",
    "# Create Sets and Variables\n",
    "m.S = list(capacities.keys())\n",
    "m.g = Variable(m.S, domain=(0, None))\n",
    "\n",
    "# Create Objective\n",
    "m.cost = Objective(sum(marginal_costs[s] * m.g[s] for s in m.S))\n",
    "\n",
    "# Create Constraints\n",
    "m.generator_limit = Constraint(m.g[s] <= capacities[s] for s in m.S)\n",
    "m.energy_balance = Constraint(sum(m.g[s] for s in m.S) == load)\n",
    "\n",
    "# Solve the Problem\n",
    "m.solve(solver=\"cbc\")\n",
    "\n",
    "# Print Objective Value\n",
    "print(\"Objective (Cost):\", m.cost.value)\n",
    "\n",
    "# Print Variable Values\n",
    "print(\"Generators (g):\")\n",
    "for s in m.S:\n",
    "    print(f\"{s}: {m.g[s].value}\")\n",
    "\n",
    "# Get Dual Values\n",
    "m.dual = m.get_duals()\n",
    "\n",
    "# Print Dual Values\n",
    "print(\"Dual for energy_balance:\", m.dual[m.energy_balance])\n",
    "for s in m.S:\n",
    "    print(f\"Dual for generator_limit ({s}): {m.dual[m.generator_limit[s]]}\")\n",
    "\n",
    "# Continue with the remaining code similarly.\n",
    "\"\"\""
   ]
  },
  {
   "cell_type": "code",
   "execution_count": null,
   "id": "a9680a42-7834-49ba-a3bb-f22e7f06389c",
   "metadata": {},
   "outputs": [],
   "source": []
  }
 ],
 "metadata": {
  "kernelspec": {
   "display_name": "Python 3 (ipykernel)",
   "language": "python",
   "name": "python3"
  },
  "language_info": {
   "codemirror_mode": {
    "name": "ipython",
    "version": 3
   },
   "file_extension": ".py",
   "mimetype": "text/x-python",
   "name": "python",
   "nbconvert_exporter": "python",
   "pygments_lexer": "ipython3",
   "version": "3.10.13"
  }
 },
 "nbformat": 4,
 "nbformat_minor": 5
}
